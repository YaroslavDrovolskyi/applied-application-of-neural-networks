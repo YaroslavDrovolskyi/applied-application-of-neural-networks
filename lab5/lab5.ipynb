{
  "nbformat": 4,
  "nbformat_minor": 0,
  "metadata": {
    "colab": {
      "provenance": []
    },
    "kernelspec": {
      "name": "python3",
      "display_name": "Python 3"
    },
    "language_info": {
      "name": "python"
    }
  },
  "cells": [
    {
      "cell_type": "markdown",
      "source": [
        "# Лабораторна робота №5\n",
        "# Дровольського Ярослава, ПЗС 1 курс магістратури"
      ],
      "metadata": {
        "id": "kGDPVIOGfHH4"
      }
    },
    {
      "cell_type": "markdown",
      "source": [
        "**Завдання:** Підібрати оптимальні гіперпараметри до нейронної мережі (багатошарового персептрону) з lab4."
      ],
      "metadata": {
        "id": "IoikP9tgQFsE"
      }
    },
    {
      "cell_type": "markdown",
      "source": [
        "*Спочатку нагадаємо зміст задачі та суть моделі*"
      ],
      "metadata": {
        "id": "SVqOnvlK57oE"
      }
    },
    {
      "cell_type": "markdown",
      "source": [
        "Задача моделі: задача класифікації одягу на датасеті Fashion MNIST.\n",
        "\n",
        "Всі дані (зображення одягу) в Fashion MNIST поділяються на 10 класів:\n",
        "\n",
        "0. T-shirt / top (футболка / топ)\n",
        "1. Trouser (брюки)\n",
        "2. Pullover (пуловер)\n",
        "3. Dress (плаття)\n",
        "4. Coat (пальто)\n",
        "5. Sandal (сандалі)\n",
        "6. Shirt (сорочка)\n",
        "7. Sneaker (кеди)\n",
        "8. Bag (сумка)\n",
        "9. Ankle boot (ботильйони)."
      ],
      "metadata": {
        "id": "okvES2PiRvIr"
      }
    },
    {
      "cell_type": "markdown",
      "source": [
        "- **Вхідні значення нейронної мережі:** інтенсивність пікселя (число в діапазоні 0-255), центрована і нормована до інтервалу [-0.5, 0.5]. В зображені 784 (28*28) пікселів. Вхідний шар 784 нейрона.\n",
        "- **Вихідний шар** 10 нейронів. Кожен нейрон повертає ймовірність (0-1) того, що на зображенні предмет одягу з певної категорії (10 категорій = 10 нейронів)"
      ],
      "metadata": {
        "id": "HrxqYs63VSgG"
      }
    },
    {
      "cell_type": "markdown",
      "source": [
        "## Підготовка даних"
      ],
      "metadata": {
        "id": "YYayEyCi7Igh"
      }
    },
    {
      "cell_type": "markdown",
      "source": [
        "Імпортуємо необхідні бібліотеки"
      ],
      "metadata": {
        "id": "jxSjcqp-Wiwi"
      }
    },
    {
      "cell_type": "code",
      "source": [
        "import numpy as np\n",
        "import sklearn # algorithms for classical ML\n",
        "import tensorflow as tf # build and train Neural network\n",
        "from tensorflow import keras"
      ],
      "metadata": {
        "id": "g5z0dqjATRF6"
      },
      "execution_count": 89,
      "outputs": []
    },
    {
      "cell_type": "markdown",
      "source": [
        "Завантажимо датасет Fashion MNIST"
      ],
      "metadata": {
        "id": "vEj3OGtoZQK-"
      }
    },
    {
      "cell_type": "code",
      "source": [
        "from keras.datasets import mnist\n",
        "\n",
        "(x_train, y_train), (x_val, y_val) = tf.keras.datasets.fashion_mnist.load_data()\n",
        "\n",
        "# x_train, x_val - clothes images (28x28 px) for train and validation sample, correspondingly (sample - вибірка)\n",
        "# y_train, y_val - correct answers for corresponding images"
      ],
      "metadata": {
        "id": "MI8LmAnPWxM9"
      },
      "execution_count": 90,
      "outputs": []
    },
    {
      "cell_type": "markdown",
      "source": [
        "Центруємо і нормуємо вхідні дані, так, щоб значення змінювалися від `-0.5` до `+0.5`."
      ],
      "metadata": {
        "id": "WCJQhbDcQ7uZ"
      }
    },
    {
      "cell_type": "code",
      "source": [
        "x_train_float = x_train.astype(np.float64) / 255 - 0.5\n",
        "x_val_float = x_val.astype(np.float64) / 255 - 0.5"
      ],
      "metadata": {
        "id": "ayHpzl8LQ_gA"
      },
      "execution_count": 91,
      "outputs": []
    },
    {
      "cell_type": "markdown",
      "source": [
        "Перетворимо правильні відповіді `y_train` і `y_val` в one-hot encode.\n",
        "\n",
        "Тобто у кожного об'єкта з `y_train` та `y_val` створюється 10 нових ознак (кожна відповідає за те, чи належать об'єкт певній категорії). Ознака, яка відповідає за ту категорію, якій належить об'єкт, дорівнює `1`, решта дорівнюють `0`."
      ],
      "metadata": {
        "id": "q1yOemiCabSO"
      }
    },
    {
      "cell_type": "code",
      "source": [
        "y_train_oh = keras.utils.to_categorical(y_train, 10)\n",
        "y_val_oh = keras.utils.to_categorical(y_val, 10)"
      ],
      "metadata": {
        "id": "QYQg802EaBTm"
      },
      "execution_count": 92,
      "outputs": []
    },
    {
      "cell_type": "markdown",
      "source": [
        "## Робота з моделлю"
      ],
      "metadata": {
        "id": "U9RI0eQ57One"
      }
    },
    {
      "cell_type": "markdown",
      "source": [
        "Згідно зі слайдом №6 презентації, **Схема** нашої подальшої роботи для кожного завдання така:\n",
        "1. перебираємо всі дані в умові значення гіперпараметру\n",
        "2. при цьому робимо крос-валідацію (перересну перевірку)\n",
        "3. на основі результатів перехресної перевірки обираємо найкраще значення гіперпараметру"
      ],
      "metadata": {
        "id": "Ifawp69HMCD5"
      }
    },
    {
      "cell_type": "markdown",
      "source": [
        "### Базова модель"
      ],
      "metadata": {
        "id": "33xe9RCFbtH6"
      }
    },
    {
      "cell_type": "markdown",
      "source": [
        "Для отримання однакових похибок при повторному запуску клітинок навчання моделі (наприклад, під час перевірки викладачем), **фіксуємо** `seed` **рандомності**.\n",
        "\n",
        "\n",
        "*Пояснення: When re-training a Keras neural network on the same data as before, you’ll rarely get the same results twice. This is due to the fact that neural networks in Keras are using randomness when initializing their weights, so on every run weights are initialized differently, therefore during the learning process these will get updated differently, so the same accuracy results when making predictions are unlikely.* [(Джерело)](https://medium.com/@pop.kristina1/why-loading-a-previously-saved-keras-model-gives-different-results-lessons-learned-aeea1014e0ba)"
      ],
      "metadata": {
        "id": "Fp0tW1GsDn-r"
      }
    },
    {
      "cell_type": "code",
      "source": [
        "np.random.seed(100)\n",
        "\n",
        "import tensorflow\n",
        "tensorflow.random.set_seed(100)"
      ],
      "metadata": {
        "id": "x2wV2DskDhkS"
      },
      "execution_count": 93,
      "outputs": []
    },
    {
      "cell_type": "markdown",
      "source": [
        "**Тепер перейдемо до складання моделі й підбору її параметрів**.\n",
        "\n",
        "На **вхід** будемо подавати картинки, витягнуті у вектор довжини 28 * 28 (= 784).\n",
        "\n",
        "На **виході** маємо 10 вихідних нейронів за кількістю класів в нашій задачі.\n",
        "\n",
        "Задаємо ці та описані вище параметри.\n",
        "\n",
        "\n",
        "Побудуємо **БАЗОВУ МОДЕЛЬ** багатошарового персептрона з двома прихованими шарами по 128 нейронів у кожному. Саме для цієї моделі будемо шукати оптимальні значення параметрів.\n",
        "\n",
        "На прихованих шарах використовуватимемо функцію elu."
      ],
      "metadata": {
        "id": "5uCtXrE0gG9x"
      }
    },
    {
      "cell_type": "markdown",
      "source": [
        "Створимо функцію для побудови базової моделі"
      ],
      "metadata": {
        "id": "CjLV3RiZob74"
      }
    },
    {
      "cell_type": "code",
      "source": [
        "from keras import backend as K\n",
        "from keras import layers as L\n",
        "\n",
        "\n",
        "def create_basic_model():\n",
        "  K.clear_session()\n",
        "\n",
        "  # create model\n",
        "  model = keras.Sequential()\n",
        "  model.add(L.Dense(128, input_dim=784, activation='relu')) # relu(x)=max(0,x)\n",
        "  model.add(L.Dense(128, activation='elu'))\n",
        "  model.add(L.Dense(128, activation='elu'))\n",
        "  model.add(L.Dense(10, activation='softmax'))\n",
        "\n",
        "  # configure the model with losses and metrics, configure for training\n",
        "  model.compile(\n",
        "    loss='categorical_crossentropy', # minimize cross-entropy\n",
        "    optimizer='adam',\n",
        "    metrics=['accuracy', 'RootMeanSquaredError'] # calculated using validation_data\n",
        "  )\n",
        "\n",
        "  return model\n",
        "\n",
        "'''\n",
        "How to train:\n",
        "\n",
        "  # train the model\n",
        "  model.fit(\n",
        "    x_train_float.reshape(-1, 28*28),\n",
        "    y_train_oh,\n",
        "    batch_size=64, # Number of samples per gradient update.\n",
        "    epochs=10,\n",
        "    validation_data=(x_val_float.reshape(-1, 28*28), y_val_oh) # The model will not be trained on this data.\n",
        "  )\n",
        "\n",
        "'''\n",
        "\n",
        "\n",
        " # Dense is Just regular densely-connected NN layer.\n",
        " # first argument of Dense constructor is `units` - Positive integer, dimensionality of the output space.\n",
        " # Dense implements the operation: output = activation(dot(input, kernel) + bias)\n",
        "\n",
        "\n",
        "  # Model documentation: https://www.tensorflow.org/api_docs/python/tf/keras/Sequential\n",
        "  # Layer documentation: https://www.tensorflow.org/api_docs/python/tf/keras/layers/Dense\n"
      ],
      "metadata": {
        "colab": {
          "base_uri": "https://localhost:8080/",
          "height": 53
        },
        "id": "1rEX0FDrpV4n",
        "outputId": "1ed672d1-4375-42ad-e20f-6eb45b574532"
      },
      "execution_count": 108,
      "outputs": [
        {
          "output_type": "execute_result",
          "data": {
            "text/plain": [
              "'\\nHow to train:\\n\\n  # train the model\\n  model.fit(\\n    x_train_float.reshape(-1, 28*28),\\n    y_train_oh,\\n    batch_size=64, # Number of samples per gradient update.\\n    epochs=10,\\n    validation_data=(x_val_float.reshape(-1, 28*28), y_val_oh) # The model will not be trained on this data.\\n  )\\n\\n'"
            ],
            "application/vnd.google.colaboratory.intrinsic+json": {
              "type": "string"
            }
          },
          "metadata": {},
          "execution_count": 108
        }
      ]
    },
    {
      "cell_type": "markdown",
      "source": [
        "Напишемо функцію для виконання **крос-валідації** моделі"
      ],
      "metadata": {
        "id": "SiPmyd-uzOzd"
      }
    },
    {
      "cell_type": "code",
      "source": [
        "# .fit() calls on already trained models, will train model from xero (ignore previous trained coeffircients, etc.) - not for Keras\n",
        "# function does not call .fit() on passed model - but call on its copy - https://stackoverflow.com/a/49771618 - not for Keras\n",
        "\n",
        "from sklearn.model_selection import KFold\n",
        "import time\n",
        "\n",
        "# create_model_function - is function to create model. It should return ONLY created and compiled model, NOT trained.\n",
        "# calculates accuracies for cross-validation\n",
        "# (X, y) are TRAIN data. It will be divided into local-train and local-validation data on each fold.\n",
        "# X element is 28x28 images (matrices with elements from interval [-0.5, 0.5]). y element is 10-elements vector\n",
        "def cross_validate(X, y, create_model_function, batch_size, number_of_epochs):\n",
        "  kf = KFold(n_splits=5, shuffle=True, random_state=42)  # 5 folds\n",
        "\n",
        "  fold_losses = []\n",
        "  fold_accuracies = []\n",
        "  fold_rmse = []\n",
        "  train_times = []\n",
        "\n",
        "  for train_index, val_index in kf.split(X):\n",
        "      X_train, X_val = X[train_index], X[val_index]\n",
        "      y_train, y_val = y[train_index], y[val_index]\n",
        "\n",
        "      model = create_model_function()  # Create a new model instance, Keras models need to be re-initialized for each fold.\n",
        "\n",
        "      time_start = time.time()\n",
        "      model.fit(\n",
        "          X_train.reshape(-1, 28*28),\n",
        "          y_train,\n",
        "          epochs=number_of_epochs,\n",
        "          batch_size=batch_size,\n",
        "          verbose=0)  # Train the model\n",
        "      time_end = time.time()\n",
        "\n",
        "      loss, accuracy, rmse = model.evaluate(X_val.reshape(-1, 28*28), y_val, batch_size=batch_size, verbose=1)  # Evaluate on local-validation set\n",
        "\n",
        "      fold_losses.append(loss)\n",
        "      fold_accuracies.append(accuracy)\n",
        "      fold_rmse.append(rmse)\n",
        "      train_times.append(time_end - time_start) # time in seconds\n",
        "\n",
        "  return fold_losses, fold_accuracies, fold_rmse, train_times"
      ],
      "metadata": {
        "id": "RXwYucYFzOd9"
      },
      "execution_count": 95,
      "outputs": []
    },
    {
      "cell_type": "code",
      "source": [
        "import statistics\n",
        "\n",
        "def display_cross_validation_results(losses, accuracies, rmses, train_times):\n",
        "  print(\"\\n\")\n",
        "  print(\"Losses: \", losses)\n",
        "  print(\"Mean loss\", statistics.mean(losses))\n",
        "  print(\"Standard deviation of losses:\", statistics.stdev(losses))\n",
        "\n",
        "  print(\"\")\n",
        "  print(\"Accuracies: \", accuracies)\n",
        "  print(\"Mean accuracy\", statistics.mean(accuracies))\n",
        "  print(\"Standard deviation of accuracy:\", statistics.stdev(accuracies))\n",
        "\n",
        "  print(\"\")\n",
        "  print(\"RMSEs: \", rmses)\n",
        "  print(\"Mean RMSE\", statistics.mean(rmses))\n",
        "  print(\"Standard deviation of RMSE:\", statistics.stdev(rmses))\n",
        "\n",
        "  print(\"\")\n",
        "  print(\"Mean train time: \", statistics.mean(train_times), \" seconds\")"
      ],
      "metadata": {
        "id": "dTM0rusyFnAJ"
      },
      "execution_count": 80,
      "outputs": []
    },
    {
      "cell_type": "markdown",
      "source": [
        "### №1 Підбір кількості нейронів на вхідному шарі\n",
        "Використайте різну кількість нейронів на вхідному шарі: 400, 600, 800, 1200. Аргументуйте відповідь."
      ],
      "metadata": {
        "id": "NqNnAKB5bpCT"
      }
    },
    {
      "cell_type": "markdown",
      "source": [
        "Для цього створимо функцію, яка буде створювати модель, ідентичну з базовою, але яка *має різну кількість нейронів на вхідному шарі*."
      ],
      "metadata": {
        "id": "Wh9vwdmHbpAG"
      }
    },
    {
      "cell_type": "code",
      "source": [
        "def create_basic_model_with_input_layer_neurons(input_layer_neurons_number):\n",
        "  K.clear_session()\n",
        "\n",
        "  # create model\n",
        "  model = keras.Sequential()\n",
        "  model.add(L.Dense(input_layer_neurons_number, input_dim=784, activation='relu'))\n",
        "  model.add(L.Dense(128, activation='elu'))\n",
        "  model.add(L.Dense(128, activation='elu'))\n",
        "  model.add(L.Dense(10, activation='softmax'))\n",
        "\n",
        "  # configure the model with losses and metrics\n",
        "  model.compile(\n",
        "    loss='categorical_crossentropy', # minimize cross-entropy\n",
        "    optimizer='adam',\n",
        "    metrics=['accuracy', 'RootMeanSquaredError'] # calculated using validation_data\n",
        "  )\n",
        "\n",
        "  return model"
      ],
      "metadata": {
        "id": "M45SfXXhevC4"
      },
      "execution_count": 78,
      "outputs": []
    },
    {
      "cell_type": "code",
      "source": [
        "def task_1(number_of_neurons):\n",
        "  losses, accuracies, rmses, train_times = cross_validate(\n",
        "    x_train_float, y_train_oh,\n",
        "    lambda: create_basic_model_with_input_layer_neurons(number_of_neurons),\n",
        "    batch_size=64,\n",
        "    number_of_epochs=10)\n",
        "\n",
        "  display_cross_validation_results(losses, accuracies, rmses, train_times)"
      ],
      "metadata": {
        "id": "yaUzT20xLNes"
      },
      "execution_count": 66,
      "outputs": []
    },
    {
      "cell_type": "markdown",
      "source": [
        "**1)** 400 нейронів на вхідному шарі"
      ],
      "metadata": {
        "id": "Hn0GyivEtACf"
      }
    },
    {
      "cell_type": "code",
      "source": [
        "task_1(400)"
      ],
      "metadata": {
        "id": "r910sBWYLxq6",
        "colab": {
          "base_uri": "https://localhost:8080/"
        },
        "outputId": "63d00fb2-4ddc-422a-df4b-adeec94a665c"
      },
      "execution_count": 79,
      "outputs": [
        {
          "output_type": "stream",
          "name": "stdout",
          "text": [
            "\u001b[1m188/188\u001b[0m \u001b[32m━━━━━━━━━━━━━━━━━━━━\u001b[0m\u001b[37m\u001b[0m \u001b[1m1s\u001b[0m 6ms/step - RootMeanSquaredError: 0.1339 - accuracy: 0.8777 - loss: 0.3683\n",
            "\u001b[1m188/188\u001b[0m \u001b[32m━━━━━━━━━━━━━━━━━━━━\u001b[0m\u001b[37m\u001b[0m \u001b[1m1s\u001b[0m 4ms/step - RootMeanSquaredError: 0.1341 - accuracy: 0.8796 - loss: 0.3761\n",
            "\u001b[1m188/188\u001b[0m \u001b[32m━━━━━━━━━━━━━━━━━━━━\u001b[0m\u001b[37m\u001b[0m \u001b[1m1s\u001b[0m 4ms/step - RootMeanSquaredError: 0.1352 - accuracy: 0.8765 - loss: 0.3837\n",
            "\u001b[1m188/188\u001b[0m \u001b[32m━━━━━━━━━━━━━━━━━━━━\u001b[0m\u001b[37m\u001b[0m \u001b[1m1s\u001b[0m 3ms/step - RootMeanSquaredError: 0.1283 - accuracy: 0.8862 - loss: 0.3440\n",
            "\u001b[1m188/188\u001b[0m \u001b[32m━━━━━━━━━━━━━━━━━━━━\u001b[0m\u001b[37m\u001b[0m \u001b[1m1s\u001b[0m 4ms/step - RootMeanSquaredError: 0.1356 - accuracy: 0.8753 - loss: 0.3802\n",
            "\n",
            "\n",
            "Losses:  [0.3679735064506531, 0.3775351643562317, 0.37524646520614624, 0.35480597615242004, 0.3864053189754486]\n",
            "Mean loss 0.3723932862281799\n",
            "Standard deviation of losses: 0.011829671716253756\n",
            "\n",
            "Accuracies:  [0.878166675567627, 0.8811666369438171, 0.8805833458900452, 0.8830000162124634, 0.8765833377838135]\n",
            "Mean accuracy 0.8799000024795532\n",
            "Standard deviation of accuracy: 0.0025340724690964215\n",
            "\n",
            "RMSEs:  [0.13368059694766998, 0.1335497945547104, 0.13342531025409698, 0.13108348846435547, 0.13634873926639557]\n",
            "Mean RMSE 0.13361758589744568\n",
            "Standard deviation of RMSE: 0.0018659035684318002\n",
            "\n",
            "Mean train time:  79.63264274597168  seconds\n"
          ]
        }
      ]
    },
    {
      "cell_type": "markdown",
      "source": [
        "**2)** 600 нейронів на вхідному шарі"
      ],
      "metadata": {
        "id": "hFiq1uk-LkDv"
      }
    },
    {
      "cell_type": "code",
      "source": [
        "task_1(600)"
      ],
      "metadata": {
        "id": "BKkdfUqVLjKP",
        "colab": {
          "base_uri": "https://localhost:8080/"
        },
        "outputId": "0f0d0367-b0da-493c-fca8-84749fb670be"
      },
      "execution_count": 81,
      "outputs": [
        {
          "output_type": "stream",
          "name": "stdout",
          "text": [
            "\u001b[1m188/188\u001b[0m \u001b[32m━━━━━━━━━━━━━━━━━━━━\u001b[0m\u001b[37m\u001b[0m \u001b[1m1s\u001b[0m 4ms/step - RootMeanSquaredError: 0.1331 - accuracy: 0.8805 - loss: 0.3658\n",
            "\u001b[1m188/188\u001b[0m \u001b[32m━━━━━━━━━━━━━━━━━━━━\u001b[0m\u001b[37m\u001b[0m \u001b[1m1s\u001b[0m 4ms/step - RootMeanSquaredError: 0.1360 - accuracy: 0.8787 - loss: 0.4101\n",
            "\u001b[1m188/188\u001b[0m \u001b[32m━━━━━━━━━━━━━━━━━━━━\u001b[0m\u001b[37m\u001b[0m \u001b[1m1s\u001b[0m 4ms/step - RootMeanSquaredError: 0.1358 - accuracy: 0.8780 - loss: 0.3933\n",
            "\u001b[1m188/188\u001b[0m \u001b[32m━━━━━━━━━━━━━━━━━━━━\u001b[0m\u001b[37m\u001b[0m \u001b[1m1s\u001b[0m 4ms/step - RootMeanSquaredError: 0.1305 - accuracy: 0.8841 - loss: 0.3724\n",
            "\u001b[1m188/188\u001b[0m \u001b[32m━━━━━━━━━━━━━━━━━━━━\u001b[0m\u001b[37m\u001b[0m \u001b[1m1s\u001b[0m 4ms/step - RootMeanSquaredError: 0.1313 - accuracy: 0.8840 - loss: 0.3639\n",
            "\n",
            "\n",
            "Losses:  [0.3717436194419861, 0.4130309224128723, 0.381742924451828, 0.37960347533226013, 0.3712914288043976]\n",
            "Mean loss 0.3834824740886688\n",
            "Standard deviation of losses: 0.017158130406592045\n",
            "\n",
            "Accuracies:  [0.8770833611488342, 0.8769999742507935, 0.8813333511352539, 0.8799166679382324, 0.8820833563804626]\n",
            "Mean accuracy 0.8794833421707153\n",
            "Standard deviation of accuracy: 0.0023610063220818513\n",
            "\n",
            "RMSEs:  [0.13415025174617767, 0.13637326657772064, 0.13410817086696625, 0.1330612599849701, 0.1329730749130249]\n",
            "Mean RMSE 0.1341332048177719\n",
            "Standard deviation of RMSE: 0.0013705620293609881\n",
            "\n",
            "Mean train time:  93.42251014709473  seconds\n"
          ]
        }
      ]
    },
    {
      "cell_type": "markdown",
      "source": [
        "**3)** 800 нейронів на вхідному шарі"
      ],
      "metadata": {
        "id": "EKWAShYeLoU5"
      }
    },
    {
      "cell_type": "code",
      "source": [
        "task_1(800)"
      ],
      "metadata": {
        "id": "C02AhDXCLzZS",
        "colab": {
          "base_uri": "https://localhost:8080/"
        },
        "outputId": "8482f138-fea1-4e0d-88aa-bfb7af7622ea"
      },
      "execution_count": 85,
      "outputs": [
        {
          "output_type": "stream",
          "name": "stderr",
          "text": [
            "/usr/local/lib/python3.10/dist-packages/keras/src/layers/core/dense.py:87: UserWarning: Do not pass an `input_shape`/`input_dim` argument to a layer. When using Sequential models, prefer using an `Input(shape)` object as the first layer in the model instead.\n",
            "  super().__init__(activity_regularizer=activity_regularizer, **kwargs)\n"
          ]
        },
        {
          "output_type": "stream",
          "name": "stdout",
          "text": [
            "\u001b[1m188/188\u001b[0m \u001b[32m━━━━━━━━━━━━━━━━━━━━\u001b[0m\u001b[37m\u001b[0m \u001b[1m1s\u001b[0m 5ms/step - RootMeanSquaredError: 0.1349 - accuracy: 0.8763 - loss: 0.3898\n",
            "\u001b[1m188/188\u001b[0m \u001b[32m━━━━━━━━━━━━━━━━━━━━\u001b[0m\u001b[37m\u001b[0m \u001b[1m2s\u001b[0m 8ms/step - RootMeanSquaredError: 0.1396 - accuracy: 0.8697 - loss: 0.4198\n",
            "\u001b[1m188/188\u001b[0m \u001b[32m━━━━━━━━━━━━━━━━━━━━\u001b[0m\u001b[37m\u001b[0m \u001b[1m1s\u001b[0m 5ms/step - RootMeanSquaredError: 0.1334 - accuracy: 0.8823 - loss: 0.3781\n",
            "\u001b[1m188/188\u001b[0m \u001b[32m━━━━━━━━━━━━━━━━━━━━\u001b[0m\u001b[37m\u001b[0m \u001b[1m1s\u001b[0m 5ms/step - RootMeanSquaredError: 0.1320 - accuracy: 0.8821 - loss: 0.3685\n",
            "\u001b[1m188/188\u001b[0m \u001b[32m━━━━━━━━━━━━━━━━━━━━\u001b[0m\u001b[37m\u001b[0m \u001b[1m2s\u001b[0m 8ms/step - RootMeanSquaredError: 0.1294 - accuracy: 0.8833 - loss: 0.3546\n",
            "\n",
            "\n",
            "Losses:  [0.38826894760131836, 0.4224608540534973, 0.36891844868659973, 0.3763483464717865, 0.3622235655784607]\n",
            "Mean loss 0.3836440324783325\n",
            "Standard deviation of losses: 0.023754166643006874\n",
            "\n",
            "Accuracies:  [0.8733333349227905, 0.871666669845581, 0.8868333101272583, 0.8804166913032532, 0.8820833563804626]\n",
            "Mean accuracy 0.8788666725158691\n",
            "Standard deviation of accuracy: 0.006298309128812126\n",
            "\n",
            "RMSEs:  [0.13561083376407623, 0.13907648622989655, 0.1311388909816742, 0.13342586159706116, 0.13166722655296326]\n",
            "Mean RMSE 0.13418385982513428\n",
            "Standard deviation of RMSE: 0.0032463012551594518\n",
            "\n",
            "Mean train time:  114.3476676940918  seconds\n"
          ]
        }
      ]
    },
    {
      "cell_type": "markdown",
      "source": [
        "**4)** 1200 нейронів на вхідному шарі"
      ],
      "metadata": {
        "id": "Sk1DDgWxLrvH"
      }
    },
    {
      "cell_type": "code",
      "source": [
        "task_1(1200)"
      ],
      "metadata": {
        "id": "aDw1X7skL0iR",
        "colab": {
          "base_uri": "https://localhost:8080/"
        },
        "outputId": "62278d57-6891-4ea2-94bd-fb38b33f5f9e"
      },
      "execution_count": 86,
      "outputs": [
        {
          "output_type": "stream",
          "name": "stderr",
          "text": [
            "/usr/local/lib/python3.10/dist-packages/keras/src/layers/core/dense.py:87: UserWarning: Do not pass an `input_shape`/`input_dim` argument to a layer. When using Sequential models, prefer using an `Input(shape)` object as the first layer in the model instead.\n",
            "  super().__init__(activity_regularizer=activity_regularizer, **kwargs)\n"
          ]
        },
        {
          "output_type": "stream",
          "name": "stdout",
          "text": [
            "\u001b[1m188/188\u001b[0m \u001b[32m━━━━━━━━━━━━━━━━━━━━\u001b[0m\u001b[37m\u001b[0m \u001b[1m1s\u001b[0m 6ms/step - RootMeanSquaredError: 0.1363 - accuracy: 0.8746 - loss: 0.3855\n",
            "\u001b[1m188/188\u001b[0m \u001b[32m━━━━━━━━━━━━━━━━━━━━\u001b[0m\u001b[37m\u001b[0m \u001b[1m1s\u001b[0m 6ms/step - RootMeanSquaredError: 0.1354 - accuracy: 0.8786 - loss: 0.3916\n",
            "\u001b[1m188/188\u001b[0m \u001b[32m━━━━━━━━━━━━━━━━━━━━\u001b[0m\u001b[37m\u001b[0m \u001b[1m2s\u001b[0m 8ms/step - RootMeanSquaredError: 0.1388 - accuracy: 0.8719 - loss: 0.4172\n",
            "\u001b[1m188/188\u001b[0m \u001b[32m━━━━━━━━━━━━━━━━━━━━\u001b[0m\u001b[37m\u001b[0m \u001b[1m1s\u001b[0m 6ms/step - RootMeanSquaredError: 0.1309 - accuracy: 0.8820 - loss: 0.3545\n",
            "\u001b[1m188/188\u001b[0m \u001b[32m━━━━━━━━━━━━━━━━━━━━\u001b[0m\u001b[37m\u001b[0m \u001b[1m2s\u001b[0m 8ms/step - RootMeanSquaredError: 0.1348 - accuracy: 0.8764 - loss: 0.3867\n",
            "\n",
            "\n",
            "Losses:  [0.38206619024276733, 0.4070315659046173, 0.40473634004592896, 0.3662453591823578, 0.39513298869132996]\n",
            "Mean loss 0.39104248881340026\n",
            "Standard deviation of losses: 0.01699541049097317\n",
            "\n",
            "Accuracies:  [0.875249981880188, 0.8773333430290222, 0.8767499923706055, 0.8801666498184204, 0.8754166960716248]\n",
            "Mean accuracy 0.8769833326339722\n",
            "Standard deviation of accuracy: 0.001985530042966016\n",
            "\n",
            "RMSEs:  [0.13543958961963654, 0.13657963275909424, 0.13605500757694244, 0.13258175551891327, 0.13601918518543243]\n",
            "Mean RMSE 0.1353350341320038\n",
            "Standard deviation of RMSE: 0.0015911415036991186\n",
            "\n",
            "Mean train time:  190.95647177696227  seconds\n"
          ]
        }
      ]
    },
    {
      "cell_type": "markdown",
      "source": [
        "**Висновок:** бачимо, що зі збільшенням кількості нейронів на вхідному шарі, точність моделі та інші обчислені вище показники майже не змінюються і коливаються в межах похибки. Причому, час навчання помітно збільшується (з 79 секунд до 190 секунд). Тому, в якості найкращої кількості нейронів на вхідному шарі оберемо найменший із запропонованих варіантів - **400**.\n",
        "\n",
        "*Зауважимо, що ефект сталості точності моделі при збільшенні кількості нейронів  може виникати через: неякісні або надмірні дані (повторення, чи шуми), недостатню кількість даних, недостатню кількість прихованих шарів, неправильний вибір функції активації, неправильну функція оптимізації.*"
      ],
      "metadata": {
        "id": "6CWutBqKbo-B"
      }
    },
    {
      "cell_type": "markdown",
      "source": [
        "### №2 Підбір кількості нейронів на першому прихованому шарі\n",
        "Додайте в нейронну мережу прихований шар з різною кількістю нейронів: 200, 300, 400, 600, 800. Аргументуйте відповідь."
      ],
      "metadata": {
        "id": "lDTsgcuibo5u"
      }
    },
    {
      "cell_type": "markdown",
      "source": [
        "Для цього створимо функцію, яка буде створювати модель, ідентичну з базовою, але яка *має різну кількість нейронів на першому прихованому шарі*."
      ],
      "metadata": {
        "id": "Mo7xQvRWbo3D"
      }
    },
    {
      "cell_type": "code",
      "source": [
        "def create_basic_model_with_first_hide_layer_neurons(first_hide_layer_neurons_number):\n",
        "  K.clear_session()\n",
        "\n",
        "  # create model\n",
        "  model = keras.Sequential()\n",
        "  model.add(L.Dense(128, input_dim=784, activation='relu'))\n",
        "  model.add(L.Dense(first_hide_layer_neurons_number, activation='elu'))\n",
        "  model.add(L.Dense(128, activation='elu'))\n",
        "  model.add(L.Dense(10, activation='softmax'))\n",
        "\n",
        "  # configure the model with losses and metrics\n",
        "  model.compile(\n",
        "    loss='categorical_crossentropy', # minimize cross-entropy\n",
        "    optimizer='adam',\n",
        "    metrics=['accuracy', 'RootMeanSquaredError'] # calculated using validation_data\n",
        "  )\n",
        "\n",
        "  return model"
      ],
      "metadata": {
        "id": "qxvNuYA1KUOb"
      },
      "execution_count": 67,
      "outputs": []
    },
    {
      "cell_type": "code",
      "source": [
        "def task_2(number_of_neurons):\n",
        "  losses, accuracies, rmses, train_times = cross_validate(\n",
        "    x_train_float, y_train_oh,\n",
        "    lambda: create_basic_model_with_first_hide_layer_neurons(number_of_neurons),\n",
        "    batch_size=64,\n",
        "    number_of_epochs=10)\n",
        "\n",
        "  display_cross_validation_results(losses, accuracies, rmses, train_times)"
      ],
      "metadata": {
        "id": "VUw1-lXVKYGs"
      },
      "execution_count": 68,
      "outputs": []
    },
    {
      "cell_type": "markdown",
      "source": [
        "**1)** 200 нейронів на першому прихованому шарі"
      ],
      "metadata": {
        "id": "_trsvMwcboy3"
      }
    },
    {
      "cell_type": "code",
      "source": [
        "task_2(200)"
      ],
      "metadata": {
        "colab": {
          "base_uri": "https://localhost:8080/"
        },
        "id": "Saur1NpjKkdL",
        "outputId": "82234c74-896a-4ae6-9e8a-b5050b49a92c"
      },
      "execution_count": 88,
      "outputs": [
        {
          "metadata": {
            "tags": null
          },
          "name": "stderr",
          "output_type": "stream",
          "text": [
            "/usr/local/lib/python3.10/dist-packages/keras/src/layers/core/dense.py:87: UserWarning: Do not pass an `input_shape`/`input_dim` argument to a layer. When using Sequential models, prefer using an `Input(shape)` object as the first layer in the model instead.\n",
            "  super().__init__(activity_regularizer=activity_regularizer, **kwargs)\n"
          ]
        },
        {
          "output_type": "stream",
          "name": "stdout",
          "text": [
            "\u001b[1m188/188\u001b[0m \u001b[32m━━━━━━━━━━━━━━━━━━━━\u001b[0m\u001b[37m\u001b[0m \u001b[1m1s\u001b[0m 2ms/step - RootMeanSquaredError: 0.1330 - accuracy: 0.8787 - loss: 0.3522\n",
            "\u001b[1m188/188\u001b[0m \u001b[32m━━━━━━━━━━━━━━━━━━━━\u001b[0m\u001b[37m\u001b[0m \u001b[1m1s\u001b[0m 4ms/step - RootMeanSquaredError: 0.1355 - accuracy: 0.8761 - loss: 0.3782\n",
            "\u001b[1m188/188\u001b[0m \u001b[32m━━━━━━━━━━━━━━━━━━━━\u001b[0m\u001b[37m\u001b[0m \u001b[1m1s\u001b[0m 3ms/step - RootMeanSquaredError: 0.1346 - accuracy: 0.8761 - loss: 0.3620\n",
            "\u001b[1m188/188\u001b[0m \u001b[32m━━━━━━━━━━━━━━━━━━━━\u001b[0m\u001b[37m\u001b[0m \u001b[1m1s\u001b[0m 3ms/step - RootMeanSquaredError: 0.1289 - accuracy: 0.8859 - loss: 0.3473\n",
            "\u001b[1m188/188\u001b[0m \u001b[32m━━━━━━━━━━━━━━━━━━━━\u001b[0m\u001b[37m\u001b[0m \u001b[1m1s\u001b[0m 3ms/step - RootMeanSquaredError: 0.1305 - accuracy: 0.8837 - loss: 0.3595\n",
            "\n",
            "\n",
            "Losses:  [0.35090288519859314, 0.37181201577186584, 0.36185917258262634, 0.3524456322193146, 0.3734143376350403]\n",
            "Mean loss 0.362086808681488\n",
            "Standard deviation of losses: 0.010499723941416505\n",
            "\n",
            "Accuracies:  [0.8794999718666077, 0.8769999742507935, 0.8785833120346069, 0.8835833072662354, 0.8795833587646484]\n",
            "Mean accuracy 0.8796499848365784\n",
            "Standard deviation of accuracy: 0.002431990708838165\n",
            "\n",
            "RMSEs:  [0.13243025541305542, 0.13409525156021118, 0.13347095251083374, 0.1310420036315918, 0.13318733870983124]\n",
            "Mean RMSE 0.1328451603651047\n",
            "Standard deviation of RMSE: 0.001172065500535981\n",
            "\n",
            "Mean train time:  57.810610342025754  seconds\n"
          ]
        }
      ]
    },
    {
      "cell_type": "markdown",
      "source": [
        "**2)** 300 нейронів на першому прихованому шарі"
      ],
      "metadata": {
        "id": "aRo0P4NLbowc"
      }
    },
    {
      "cell_type": "code",
      "source": [
        "task_2(300)"
      ],
      "metadata": {
        "colab": {
          "base_uri": "https://localhost:8080/"
        },
        "id": "zTafARQgKmkE",
        "outputId": "6f5a2b01-3a8b-4f39-c37a-b43ae823abe6"
      },
      "execution_count": 96,
      "outputs": [
        {
          "output_type": "stream",
          "name": "stderr",
          "text": [
            "/usr/local/lib/python3.10/dist-packages/keras/src/layers/core/dense.py:87: UserWarning: Do not pass an `input_shape`/`input_dim` argument to a layer. When using Sequential models, prefer using an `Input(shape)` object as the first layer in the model instead.\n",
            "  super().__init__(activity_regularizer=activity_regularizer, **kwargs)\n"
          ]
        },
        {
          "output_type": "stream",
          "name": "stdout",
          "text": [
            "\u001b[1m188/188\u001b[0m \u001b[32m━━━━━━━━━━━━━━━━━━━━\u001b[0m\u001b[37m\u001b[0m \u001b[1m1s\u001b[0m 3ms/step - RootMeanSquaredError: 0.1388 - accuracy: 0.8675 - loss: 0.3890\n",
            "\u001b[1m188/188\u001b[0m \u001b[32m━━━━━━━━━━━━━━━━━━━━\u001b[0m\u001b[37m\u001b[0m \u001b[1m1s\u001b[0m 3ms/step - RootMeanSquaredError: 0.1340 - accuracy: 0.8781 - loss: 0.3706\n",
            "\u001b[1m188/188\u001b[0m \u001b[32m━━━━━━━━━━━━━━━━━━━━\u001b[0m\u001b[37m\u001b[0m \u001b[1m1s\u001b[0m 2ms/step - RootMeanSquaredError: 0.1382 - accuracy: 0.8686 - loss: 0.3805\n",
            "\u001b[1m188/188\u001b[0m \u001b[32m━━━━━━━━━━━━━━━━━━━━\u001b[0m\u001b[37m\u001b[0m \u001b[1m1s\u001b[0m 3ms/step - RootMeanSquaredError: 0.1309 - accuracy: 0.8839 - loss: 0.3503\n",
            "\u001b[1m188/188\u001b[0m \u001b[32m━━━━━━━━━━━━━━━━━━━━\u001b[0m\u001b[37m\u001b[0m \u001b[1m1s\u001b[0m 3ms/step - RootMeanSquaredError: 0.1339 - accuracy: 0.8782 - loss: 0.3777\n",
            "\n",
            "\n",
            "Losses:  [0.39004406332969666, 0.3719254434108734, 0.3700369894504547, 0.3646000921726227, 0.38884884119033813]\n",
            "Mean loss 0.3770910859107971\n",
            "Standard deviation of losses: 0.011602731328269675\n",
            "\n",
            "Accuracies:  [0.8666666746139526, 0.8784999847412109, 0.875333309173584, 0.878333330154419, 0.8744166493415833]\n",
            "Mean accuracy 0.87464998960495\n",
            "Standard deviation of accuracy: 0.00481259160197145\n",
            "\n",
            "RMSEs:  [0.13905790448188782, 0.13373740017414093, 0.13534504175186157, 0.13382671773433685, 0.13637781143188477]\n",
            "Mean RMSE 0.1356689751148224\n",
            "Standard deviation of RMSE: 0.0021918666708085916\n",
            "\n",
            "Mean train time:  52.475984287261966  seconds\n"
          ]
        }
      ]
    },
    {
      "cell_type": "markdown",
      "source": [
        "**3)** 400 нейронів на першому прихованому шарі"
      ],
      "metadata": {
        "id": "gr8KhqwtKncF"
      }
    },
    {
      "cell_type": "code",
      "source": [
        "task_2(400)"
      ],
      "metadata": {
        "colab": {
          "base_uri": "https://localhost:8080/"
        },
        "id": "0xUG7DdsUYVc",
        "outputId": "d891262f-80d5-4044-81cc-0e999ebe99f2"
      },
      "execution_count": 97,
      "outputs": [
        {
          "output_type": "stream",
          "name": "stdout",
          "text": [
            "\u001b[1m188/188\u001b[0m \u001b[32m━━━━━━━━━━━━━━━━━━━━\u001b[0m\u001b[37m\u001b[0m \u001b[1m1s\u001b[0m 3ms/step - RootMeanSquaredError: 0.1359 - accuracy: 0.8690 - loss: 0.3703\n",
            "\u001b[1m188/188\u001b[0m \u001b[32m━━━━━━━━━━━━━━━━━━━━\u001b[0m\u001b[37m\u001b[0m \u001b[1m1s\u001b[0m 3ms/step - RootMeanSquaredError: 0.1352 - accuracy: 0.8745 - loss: 0.3744\n",
            "\u001b[1m188/188\u001b[0m \u001b[32m━━━━━━━━━━━━━━━━━━━━\u001b[0m\u001b[37m\u001b[0m \u001b[1m1s\u001b[0m 5ms/step - RootMeanSquaredError: 0.1548 - accuracy: 0.8423 - loss: 0.5170\n",
            "\u001b[1m188/188\u001b[0m \u001b[32m━━━━━━━━━━━━━━━━━━━━\u001b[0m\u001b[37m\u001b[0m \u001b[1m1s\u001b[0m 6ms/step - RootMeanSquaredError: 0.1290 - accuracy: 0.8886 - loss: 0.3492\n",
            "\u001b[1m188/188\u001b[0m \u001b[32m━━━━━━━━━━━━━━━━━━━━\u001b[0m\u001b[37m\u001b[0m \u001b[1m1s\u001b[0m 3ms/step - RootMeanSquaredError: 0.1317 - accuracy: 0.8797 - loss: 0.3431\n",
            "\n",
            "\n",
            "Losses:  [0.36897972226142883, 0.37177926301956177, 0.5073665976524353, 0.35054755210876465, 0.35118716955184937]\n",
            "Mean loss 0.389972060918808\n",
            "Standard deviation of losses: 0.06635452721154723\n",
            "\n",
            "Accuracies:  [0.8722500205039978, 0.8762500286102295, 0.846916675567627, 0.8854166865348816, 0.8765000104904175]\n",
            "Mean accuracy 0.8714666843414307\n",
            "Standard deviation of accuracy: 0.014544190094764948\n",
            "\n",
            "RMSEs:  [0.13505730032920837, 0.13439837098121643, 0.15280669927597046, 0.13051626086235046, 0.13340096175670624]\n",
            "Mean RMSE 0.1372359186410904\n",
            "Standard deviation of RMSE: 0.008875640244778759\n",
            "\n",
            "Mean train time:  57.47675423622131  seconds\n"
          ]
        }
      ]
    },
    {
      "cell_type": "markdown",
      "source": [
        "**4)** 600 нейронів на першому прихованому шарі"
      ],
      "metadata": {
        "id": "53jsntjAKnV7"
      }
    },
    {
      "cell_type": "code",
      "source": [
        "task_2(600)"
      ],
      "metadata": {
        "colab": {
          "base_uri": "https://localhost:8080/"
        },
        "id": "rzsf1i4RUZWj",
        "outputId": "662855d9-3cb4-4efa-e345-b168e19b8427"
      },
      "execution_count": 98,
      "outputs": [
        {
          "output_type": "stream",
          "name": "stdout",
          "text": [
            "\u001b[1m188/188\u001b[0m \u001b[32m━━━━━━━━━━━━━━━━━━━━\u001b[0m\u001b[37m\u001b[0m \u001b[1m1s\u001b[0m 4ms/step - RootMeanSquaredError: 0.1331 - accuracy: 0.8784 - loss: 0.3510\n",
            "\u001b[1m188/188\u001b[0m \u001b[32m━━━━━━━━━━━━━━━━━━━━\u001b[0m\u001b[37m\u001b[0m \u001b[1m1s\u001b[0m 3ms/step - RootMeanSquaredError: 0.1360 - accuracy: 0.8731 - loss: 0.3892\n",
            "\u001b[1m188/188\u001b[0m \u001b[32m━━━━━━━━━━━━━━━━━━━━\u001b[0m\u001b[37m\u001b[0m \u001b[1m1s\u001b[0m 4ms/step - RootMeanSquaredError: 0.1367 - accuracy: 0.8747 - loss: 0.3884\n",
            "\u001b[1m188/188\u001b[0m \u001b[32m━━━━━━━━━━━━━━━━━━━━\u001b[0m\u001b[37m\u001b[0m \u001b[1m1s\u001b[0m 4ms/step - RootMeanSquaredError: 0.1319 - accuracy: 0.8809 - loss: 0.3645\n",
            "\u001b[1m188/188\u001b[0m \u001b[32m━━━━━━━━━━━━━━━━━━━━\u001b[0m\u001b[37m\u001b[0m \u001b[1m1s\u001b[0m 3ms/step - RootMeanSquaredError: 0.1350 - accuracy: 0.8780 - loss: 0.3863\n",
            "\n",
            "\n",
            "Losses:  [0.35604938864707947, 0.38636547327041626, 0.38266322016716003, 0.36790934205055237, 0.38351261615753174]\n",
            "Mean loss 0.37530000805854796\n",
            "Standard deviation of losses: 0.012935577262591742\n",
            "\n",
            "Accuracies:  [0.8725833296775818, 0.8759166598320007, 0.8794166445732117, 0.8765000104904175, 0.8755000233650208]\n",
            "Mean accuracy 0.8759833335876465\n",
            "Standard deviation of accuracy: 0.0024419582354588544\n",
            "\n",
            "RMSEs:  [0.1339244693517685, 0.13507546484470367, 0.13473938405513763, 0.13367515802383423, 0.13598966598510742]\n",
            "Mean RMSE 0.1346808284521103\n",
            "Standard deviation of RMSE: 0.0009294722195641248\n",
            "\n",
            "Mean train time:  69.76231489181518  seconds\n"
          ]
        }
      ]
    },
    {
      "cell_type": "markdown",
      "source": [
        "**5)** 800 нейронів на першому прихованому шарі"
      ],
      "metadata": {
        "id": "j8Jcn2EDKnN7"
      }
    },
    {
      "cell_type": "code",
      "source": [
        "task_2(800)"
      ],
      "metadata": {
        "colab": {
          "base_uri": "https://localhost:8080/"
        },
        "id": "CE5ulyPCUbo7",
        "outputId": "422506d7-1d5d-410f-eb2f-44c85c9a2c48"
      },
      "execution_count": 99,
      "outputs": [
        {
          "output_type": "stream",
          "name": "stdout",
          "text": [
            "\u001b[1m188/188\u001b[0m \u001b[32m━━━━━━━━━━━━━━━━━━━━\u001b[0m\u001b[37m\u001b[0m \u001b[1m1s\u001b[0m 3ms/step - RootMeanSquaredError: 0.1349 - accuracy: 0.8742 - loss: 0.3601\n",
            "\u001b[1m188/188\u001b[0m \u001b[32m━━━━━━━━━━━━━━━━━━━━\u001b[0m\u001b[37m\u001b[0m \u001b[1m1s\u001b[0m 3ms/step - RootMeanSquaredError: 0.1392 - accuracy: 0.8693 - loss: 0.4002\n",
            "\u001b[1m188/188\u001b[0m \u001b[32m━━━━━━━━━━━━━━━━━━━━\u001b[0m\u001b[37m\u001b[0m \u001b[1m1s\u001b[0m 3ms/step - RootMeanSquaredError: 0.1364 - accuracy: 0.8711 - loss: 0.3869\n",
            "\u001b[1m188/188\u001b[0m \u001b[32m━━━━━━━━━━━━━━━━━━━━\u001b[0m\u001b[37m\u001b[0m \u001b[1m1s\u001b[0m 5ms/step - RootMeanSquaredError: 0.1297 - accuracy: 0.8834 - loss: 0.3442\n",
            "\u001b[1m188/188\u001b[0m \u001b[32m━━━━━━━━━━━━━━━━━━━━\u001b[0m\u001b[37m\u001b[0m \u001b[1m1s\u001b[0m 3ms/step - RootMeanSquaredError: 0.1324 - accuracy: 0.8811 - loss: 0.3640\n",
            "\n",
            "\n",
            "Losses:  [0.3716716766357422, 0.3969607353210449, 0.3760949671268463, 0.3478260636329651, 0.38084012269973755]\n",
            "Mean loss 0.3746787130832672\n",
            "Standard deviation of losses: 0.017794411409767553\n",
            "\n",
            "Accuracies:  [0.8725833296775818, 0.8711666464805603, 0.875083327293396, 0.8827499747276306, 0.8767499923706055]\n",
            "Mean accuracy 0.8756666541099548\n",
            "Standard deviation of accuracy: 0.004512324266787976\n",
            "\n",
            "RMSEs:  [0.13599742949008942, 0.13819442689418793, 0.13494853675365448, 0.13039280474185944, 0.13488030433654785]\n",
            "Mean RMSE 0.13488270044326783\n",
            "Standard deviation of RMSE: 0.0028448926387550154\n",
            "\n",
            "Mean train time:  81.96919765472413  seconds\n"
          ]
        }
      ]
    },
    {
      "cell_type": "markdown",
      "source": [
        "**Висновок:** бачимо, що зі збільшенням кількості нейронів на першому прихованому шарі, точність моделі та інші обчислені вище показники майже не змінюються і коливаються в межах похибки. Причому, час навчання помітно збільшується (з 57.8 секунд до майже 82 секунд). До того ж, при 200 нейронах (найменший запропонований варіант), точність найвища (87.96%). Тому, в якості найкращої кількості нейронів на першому прихованому шарі оберемо найменший із запропонованих варіантів - **200**.\n",
        "\n",
        "*Зауважимо, що ефект сталості точності моделі при збільшенні кількості нейронів  може виникати через: неякісні або надмірні дані (повторення, чи шуми), недостатню кількість даних, недостатню кількість прихованих шарів, неправильний вибір функції активації, неправильну функція оптимізації.*"
      ],
      "metadata": {
        "id": "aIZWXIxLbopT"
      }
    },
    {
      "cell_type": "markdown",
      "source": [
        "### №3 Підбір кількості нейронів на другому прихованому шарі\n",
        "Використаємо різну кількість нейронів на другому прихованому шарі: 200, 300, 400, 600, 800."
      ],
      "metadata": {
        "id": "t0h4y6tlj_E_"
      }
    },
    {
      "cell_type": "markdown",
      "source": [
        "Для цього створимо функцію, яка буде створювати модель, ідентичну з базовою, але яка *має різну кількість нейронів на другому прихованому шарі*."
      ],
      "metadata": {
        "id": "Uj785xdXqW5O"
      }
    },
    {
      "cell_type": "code",
      "source": [
        "def create_basic_model_with_second_hide_layer_neurons(second_hide_layer_neurons_number):\n",
        "  K.clear_session()\n",
        "\n",
        "  # create model\n",
        "  model = keras.Sequential()\n",
        "  model.add(L.Dense(128, input_dim=784, activation='relu'))\n",
        "  model.add(L.Dense(128, activation='elu'))\n",
        "  model.add(L.Dense(second_hide_layer_neurons_number, activation='elu'))\n",
        "  model.add(L.Dense(10, activation='softmax'))\n",
        "\n",
        "  # configure the model with losses and metrics\n",
        "  model.compile(\n",
        "    loss='categorical_crossentropy', # minimize cross-entropy\n",
        "    optimizer='adam',\n",
        "    metrics=['accuracy', 'RootMeanSquaredError'] # calculated using validation_data\n",
        "  )\n",
        "\n",
        "  return model"
      ],
      "metadata": {
        "id": "sTJhj1djj_FA"
      },
      "execution_count": 83,
      "outputs": []
    },
    {
      "cell_type": "code",
      "source": [
        "def task_3(number_of_neurons):\n",
        "  losses, accuracies, rmses, train_times = cross_validate(\n",
        "    x_train_float, y_train_oh,\n",
        "    lambda: create_basic_model_with_second_hide_layer_neurons(number_of_neurons),\n",
        "    batch_size=64,\n",
        "    number_of_epochs=10)\n",
        "\n",
        "  display_cross_validation_results(losses, accuracies, rmses, train_times)"
      ],
      "metadata": {
        "id": "TuNFkKG_j_FA"
      },
      "execution_count": 84,
      "outputs": []
    },
    {
      "cell_type": "markdown",
      "source": [
        "**1)** 200 нейронів на другому прихованому шарі"
      ],
      "metadata": {
        "id": "2xPE9Kl5j_FA"
      }
    },
    {
      "cell_type": "code",
      "source": [
        "task_3(200)"
      ],
      "metadata": {
        "colab": {
          "base_uri": "https://localhost:8080/"
        },
        "id": "5afEugmSj_FB",
        "outputId": "a6e2e435-f935-45d1-afcb-75df85ab1395"
      },
      "execution_count": 100,
      "outputs": [
        {
          "output_type": "stream",
          "name": "stdout",
          "text": [
            "\u001b[1m188/188\u001b[0m \u001b[32m━━━━━━━━━━━━━━━━━━━━\u001b[0m\u001b[37m\u001b[0m \u001b[1m1s\u001b[0m 3ms/step - RootMeanSquaredError: 0.1348 - accuracy: 0.8787 - loss: 0.3669\n",
            "\u001b[1m188/188\u001b[0m \u001b[32m━━━━━━━━━━━━━━━━━━━━\u001b[0m\u001b[37m\u001b[0m \u001b[1m1s\u001b[0m 2ms/step - RootMeanSquaredError: 0.1384 - accuracy: 0.8682 - loss: 0.4031\n",
            "\u001b[1m188/188\u001b[0m \u001b[32m━━━━━━━━━━━━━━━━━━━━\u001b[0m\u001b[37m\u001b[0m \u001b[1m1s\u001b[0m 2ms/step - RootMeanSquaredError: 0.1445 - accuracy: 0.8579 - loss: 0.4342\n",
            "\u001b[1m188/188\u001b[0m \u001b[32m━━━━━━━━━━━━━━━━━━━━\u001b[0m\u001b[37m\u001b[0m \u001b[1m1s\u001b[0m 2ms/step - RootMeanSquaredError: 0.1300 - accuracy: 0.8846 - loss: 0.3473\n",
            "\u001b[1m188/188\u001b[0m \u001b[32m━━━━━━━━━━━━━━━━━━━━\u001b[0m\u001b[37m\u001b[0m \u001b[1m1s\u001b[0m 2ms/step - RootMeanSquaredError: 0.1297 - accuracy: 0.8848 - loss: 0.3413\n",
            "\n",
            "\n",
            "Losses:  [0.36697128415107727, 0.40091368556022644, 0.4288907051086426, 0.3573468029499054, 0.3559543788433075]\n",
            "Mean loss 0.38201537132263186\n",
            "Standard deviation of losses: 0.0318923241233898\n",
            "\n",
            "Accuracies:  [0.8768333196640015, 0.8695833086967468, 0.8610000014305115, 0.8809166550636292, 0.8791666626930237]\n",
            "Mean accuracy 0.8734999895095825\n",
            "Standard deviation of accuracy: 0.008213088538933225\n",
            "\n",
            "RMSEs:  [0.134813591837883, 0.13834504783153534, 0.1432795226573944, 0.1323743462562561, 0.13289378583431244]\n",
            "Mean RMSE 0.13634125888347626\n",
            "Standard deviation of RMSE: 0.004530725856960723\n",
            "\n",
            "Mean train time:  44.33356409072876  seconds\n"
          ]
        }
      ]
    },
    {
      "cell_type": "markdown",
      "source": [
        "**2)** 300 нейронів на другому прихованому шарі"
      ],
      "metadata": {
        "id": "OeHYPia6j_FB"
      }
    },
    {
      "cell_type": "code",
      "source": [
        "task_3(300)"
      ],
      "metadata": {
        "colab": {
          "base_uri": "https://localhost:8080/"
        },
        "id": "6scvXGufj_FB",
        "outputId": "772144a9-f17e-4c15-f5c4-bc23bd8f61b1"
      },
      "execution_count": 101,
      "outputs": [
        {
          "output_type": "stream",
          "name": "stdout",
          "text": [
            "\u001b[1m188/188\u001b[0m \u001b[32m━━━━━━━━━━━━━━━━━━━━\u001b[0m\u001b[37m\u001b[0m \u001b[1m1s\u001b[0m 4ms/step - RootMeanSquaredError: 0.1369 - accuracy: 0.8701 - loss: 0.3781\n",
            "\u001b[1m188/188\u001b[0m \u001b[32m━━━━━━━━━━━━━━━━━━━━\u001b[0m\u001b[37m\u001b[0m \u001b[1m1s\u001b[0m 2ms/step - RootMeanSquaredError: 0.1352 - accuracy: 0.8764 - loss: 0.3720\n",
            "\u001b[1m188/188\u001b[0m \u001b[32m━━━━━━━━━━━━━━━━━━━━\u001b[0m\u001b[37m\u001b[0m \u001b[1m1s\u001b[0m 3ms/step - RootMeanSquaredError: 0.1377 - accuracy: 0.8718 - loss: 0.3900\n",
            "\u001b[1m188/188\u001b[0m \u001b[32m━━━━━━━━━━━━━━━━━━━━\u001b[0m\u001b[37m\u001b[0m \u001b[1m1s\u001b[0m 3ms/step - RootMeanSquaredError: 0.1309 - accuracy: 0.8832 - loss: 0.3606\n",
            "\u001b[1m188/188\u001b[0m \u001b[32m━━━━━━━━━━━━━━━━━━━━\u001b[0m\u001b[37m\u001b[0m \u001b[1m1s\u001b[0m 2ms/step - RootMeanSquaredError: 0.1320 - accuracy: 0.8827 - loss: 0.3606\n",
            "\n",
            "\n",
            "Losses:  [0.3841858208179474, 0.37108373641967773, 0.38875576853752136, 0.3660995364189148, 0.3633195757865906]\n",
            "Mean loss 0.3746888875961304\n",
            "Standard deviation of losses: 0.011226132456372434\n",
            "\n",
            "Accuracies:  [0.8708333373069763, 0.878083348274231, 0.8739166855812073, 0.8825833201408386, 0.8788333535194397]\n",
            "Mean accuracy 0.8768500089645386\n",
            "Standard deviation of accuracy: 0.004558792669849293\n",
            "\n",
            "RMSEs:  [0.13710100948810577, 0.13421113789081573, 0.13685214519500732, 0.13208426535129547, 0.13311909139156342]\n",
            "Mean RMSE 0.13467352986335754\n",
            "Standard deviation of RMSE: 0.002234580391491661\n",
            "\n",
            "Mean train time:  48.21644763946533  seconds\n"
          ]
        }
      ]
    },
    {
      "cell_type": "markdown",
      "source": [
        "**3)** 400 нейронів на другому прихованому шарі"
      ],
      "metadata": {
        "id": "ib4O0wJ3j_FB"
      }
    },
    {
      "cell_type": "code",
      "source": [
        "task_3(400)"
      ],
      "metadata": {
        "colab": {
          "base_uri": "https://localhost:8080/"
        },
        "id": "QPqRCoR9j_FB",
        "outputId": "557a3d67-9135-4626-ce97-7b28db896e11"
      },
      "execution_count": 102,
      "outputs": [
        {
          "output_type": "stream",
          "name": "stdout",
          "text": [
            "\u001b[1m188/188\u001b[0m \u001b[32m━━━━━━━━━━━━━━━━━━━━\u001b[0m\u001b[37m\u001b[0m \u001b[1m1s\u001b[0m 2ms/step - RootMeanSquaredError: 0.1410 - accuracy: 0.8663 - loss: 0.4093\n",
            "\u001b[1m188/188\u001b[0m \u001b[32m━━━━━━━━━━━━━━━━━━━━\u001b[0m\u001b[37m\u001b[0m \u001b[1m1s\u001b[0m 4ms/step - RootMeanSquaredError: 0.1334 - accuracy: 0.8796 - loss: 0.3661\n",
            "\u001b[1m188/188\u001b[0m \u001b[32m━━━━━━━━━━━━━━━━━━━━\u001b[0m\u001b[37m\u001b[0m \u001b[1m1s\u001b[0m 2ms/step - RootMeanSquaredError: 0.1382 - accuracy: 0.8699 - loss: 0.3842\n",
            "\u001b[1m188/188\u001b[0m \u001b[32m━━━━━━━━━━━━━━━━━━━━\u001b[0m\u001b[37m\u001b[0m \u001b[1m1s\u001b[0m 3ms/step - RootMeanSquaredError: 0.1288 - accuracy: 0.8825 - loss: 0.3462\n",
            "\u001b[1m188/188\u001b[0m \u001b[32m━━━━━━━━━━━━━━━━━━━━\u001b[0m\u001b[37m\u001b[0m \u001b[1m1s\u001b[0m 3ms/step - RootMeanSquaredError: 0.1315 - accuracy: 0.8784 - loss: 0.3435\n",
            "\n",
            "\n",
            "Losses:  [0.41453272104263306, 0.3624531328678131, 0.3796321749687195, 0.3532926142215729, 0.35777905583381653]\n",
            "Mean loss 0.373537939786911\n",
            "Standard deviation of losses: 0.024994001119183606\n",
            "\n",
            "Accuracies:  [0.8675833344459534, 0.8784999847412109, 0.8740833401679993, 0.8834166526794434, 0.875166654586792]\n",
            "Mean accuracy 0.8757499933242798\n",
            "Standard deviation of accuracy: 0.005834219153456902\n",
            "\n",
            "RMSEs:  [0.14044025540351868, 0.13338571786880493, 0.13665175437927246, 0.1304156333208084, 0.13406789302825928]\n",
            "Mean RMSE 0.13499225080013275\n",
            "Standard deviation of RMSE: 0.0037688034967882206\n",
            "\n",
            "Mean train time:  48.814181900024415  seconds\n"
          ]
        }
      ]
    },
    {
      "cell_type": "markdown",
      "source": [
        "**4)** 600 нейронів на другому прихованому шарі"
      ],
      "metadata": {
        "id": "49bRz-omj_FB"
      }
    },
    {
      "cell_type": "code",
      "source": [
        "task_3(600)"
      ],
      "metadata": {
        "colab": {
          "base_uri": "https://localhost:8080/"
        },
        "id": "QVo7rvnWj_FB",
        "outputId": "82805032-376e-4bcc-e4d3-ccf8a75e9216"
      },
      "execution_count": 103,
      "outputs": [
        {
          "output_type": "stream",
          "name": "stdout",
          "text": [
            "\u001b[1m188/188\u001b[0m \u001b[32m━━━━━━━━━━━━━━━━━━━━\u001b[0m\u001b[37m\u001b[0m \u001b[1m1s\u001b[0m 3ms/step - RootMeanSquaredError: 0.1387 - accuracy: 0.8661 - loss: 0.3936\n",
            "\u001b[1m188/188\u001b[0m \u001b[32m━━━━━━━━━━━━━━━━━━━━\u001b[0m\u001b[37m\u001b[0m \u001b[1m1s\u001b[0m 4ms/step - RootMeanSquaredError: 0.1441 - accuracy: 0.8594 - loss: 0.4285\n",
            "\u001b[1m188/188\u001b[0m \u001b[32m━━━━━━━━━━━━━━━━━━━━\u001b[0m\u001b[37m\u001b[0m \u001b[1m1s\u001b[0m 3ms/step - RootMeanSquaredError: 0.1374 - accuracy: 0.8691 - loss: 0.3801\n",
            "\u001b[1m188/188\u001b[0m \u001b[32m━━━━━━━━━━━━━━━━━━━━\u001b[0m\u001b[37m\u001b[0m \u001b[1m1s\u001b[0m 5ms/step - RootMeanSquaredError: 0.1311 - accuracy: 0.8801 - loss: 0.3451\n",
            "\u001b[1m188/188\u001b[0m \u001b[32m━━━━━━━━━━━━━━━━━━━━\u001b[0m\u001b[37m\u001b[0m \u001b[1m1s\u001b[0m 3ms/step - RootMeanSquaredError: 0.1323 - accuracy: 0.8791 - loss: 0.3575\n",
            "\n",
            "\n",
            "Losses:  [0.3914164900779724, 0.4242706000804901, 0.381644606590271, 0.35822439193725586, 0.36318549513816833]\n",
            "Mean loss 0.38374831676483157\n",
            "Standard deviation of losses: 0.02636087202383069\n",
            "\n",
            "Accuracies:  [0.8684166669845581, 0.8607500195503235, 0.8711666464805603, 0.8784166574478149, 0.8755833506584167]\n",
            "Mean accuracy 0.8708666682243347\n",
            "Standard deviation of accuracy: 0.006849972698506429\n",
            "\n",
            "RMSEs:  [0.13792307674884796, 0.14279557764530182, 0.1367730349302292, 0.1329624205827713, 0.13388009369373322]\n",
            "Mean RMSE 0.13686684072017669\n",
            "Standard deviation of RMSE: 0.0038871425884310813\n",
            "\n",
            "Mean train time:  55.10096364021301  seconds\n"
          ]
        }
      ]
    },
    {
      "cell_type": "markdown",
      "source": [
        "**5)** 800 нейронів на другому прихованому шарі"
      ],
      "metadata": {
        "id": "UU2oX10Tj_FC"
      }
    },
    {
      "cell_type": "code",
      "source": [
        "task_3(800)"
      ],
      "metadata": {
        "colab": {
          "base_uri": "https://localhost:8080/"
        },
        "id": "19T_KVEoj_FC",
        "outputId": "a514df74-92e1-4d80-941d-4994a21e0b21"
      },
      "execution_count": 104,
      "outputs": [
        {
          "output_type": "stream",
          "name": "stdout",
          "text": [
            "\u001b[1m188/188\u001b[0m \u001b[32m━━━━━━━━━━━━━━━━━━━━\u001b[0m\u001b[37m\u001b[0m \u001b[1m1s\u001b[0m 3ms/step - RootMeanSquaredError: 0.1359 - accuracy: 0.8730 - loss: 0.3766\n",
            "\u001b[1m188/188\u001b[0m \u001b[32m━━━━━━━━━━━━━━━━━━━━\u001b[0m\u001b[37m\u001b[0m \u001b[1m1s\u001b[0m 4ms/step - RootMeanSquaredError: 0.1375 - accuracy: 0.8757 - loss: 0.3950\n",
            "\u001b[1m188/188\u001b[0m \u001b[32m━━━━━━━━━━━━━━━━━━━━\u001b[0m\u001b[37m\u001b[0m \u001b[1m1s\u001b[0m 3ms/step - RootMeanSquaredError: 0.1378 - accuracy: 0.8693 - loss: 0.3866\n",
            "\u001b[1m188/188\u001b[0m \u001b[32m━━━━━━━━━━━━━━━━━━━━\u001b[0m\u001b[37m\u001b[0m \u001b[1m1s\u001b[0m 4ms/step - RootMeanSquaredError: 0.1323 - accuracy: 0.8797 - loss: 0.3566\n",
            "\u001b[1m188/188\u001b[0m \u001b[32m━━━━━━━━━━━━━━━━━━━━\u001b[0m\u001b[37m\u001b[0m \u001b[1m1s\u001b[0m 5ms/step - RootMeanSquaredError: 0.1341 - accuracy: 0.8741 - loss: 0.3668\n",
            "\n",
            "\n",
            "Losses:  [0.37837278842926025, 0.401824951171875, 0.375526487827301, 0.36286669969558716, 0.3708127439022064]\n",
            "Mean loss 0.377880734205246\n",
            "Standard deviation of losses: 0.014615811974481006\n",
            "\n",
            "Accuracies:  [0.8705000281333923, 0.8734166622161865, 0.874833345413208, 0.8793333172798157, 0.8741666674613953]\n",
            "Mean accuracy 0.8744500041007995\n",
            "Standard deviation of accuracy: 0.003191554613780355\n",
            "\n",
            "RMSEs:  [0.13624829053878784, 0.13793663680553436, 0.1355694830417633, 0.13327845931053162, 0.13551545143127441]\n",
            "Mean RMSE 0.1357096642255783\n",
            "Standard deviation of RMSE: 0.001674638161654042\n",
            "\n",
            "Mean train time:  69.0959454536438  seconds\n"
          ]
        }
      ]
    },
    {
      "cell_type": "markdown",
      "source": [
        "**Висновок:** бачимо, що зі збільшенням кількості нейронів на другому прихованому шарі, точність моделі та інші обчислені вище показники майже не змінюються і коливаються в межах похибки. Причому, час навчання помітно збільшується (з 44.3 секунд до майже 69.09 секунд). Але при 300 нейронах, точність найвища (87.68%), хоча час навчання є несуттєво більшим за мінімальним час навчання (на 4 секунди). Тому, в якості найкращої кількості нейронів на другому прихованому шарі оберемо **300**.\n",
        "\n",
        "*Зауважимо, що ефект сталості точності моделі при збільшенні кількості нейронів  може виникати через: неякісні або надмірні дані (повторення, чи шуми), недостатню кількість даних, недостатню кількість прихованих шарів, неправильний вибір функції активації, неправильну функція оптимізації.*"
      ],
      "metadata": {
        "id": "lx9X6oUUjlim"
      }
    },
    {
      "cell_type": "markdown",
      "source": [
        "### №4 Підбір кількості епох тренування\n",
        "Використовуйте різну кількість епох: 10, 15, 20, 25, 30. Аргументуйте відповідь."
      ],
      "metadata": {
        "id": "Skkheq2RsRjn"
      }
    },
    {
      "cell_type": "markdown",
      "source": [
        "Для підбору будемо використовувати базову модель."
      ],
      "metadata": {
        "id": "SkIKQQZ9sRjn"
      }
    },
    {
      "cell_type": "code",
      "source": [
        "def task_4(number_of_epochs):\n",
        "  losses, accuracies, rmses, train_times = cross_validate(\n",
        "    x_train_float, y_train_oh,\n",
        "    lambda: create_basic_model(),\n",
        "    batch_size=64,\n",
        "    number_of_epochs=number_of_epochs)\n",
        "\n",
        "  display_cross_validation_results(losses, accuracies, rmses, train_times)"
      ],
      "metadata": {
        "id": "cJJJe07msRjn"
      },
      "execution_count": 106,
      "outputs": []
    },
    {
      "cell_type": "markdown",
      "source": [
        "**1)** 10 епох"
      ],
      "metadata": {
        "id": "enxNavLhsRjo"
      }
    },
    {
      "cell_type": "code",
      "source": [
        "task_4(10)"
      ],
      "metadata": {
        "colab": {
          "base_uri": "https://localhost:8080/"
        },
        "id": "FKx_UxJLsRjo",
        "outputId": "6192ed83-67d5-4a59-d6c6-90686fb753b3"
      },
      "execution_count": 109,
      "outputs": [
        {
          "output_type": "stream",
          "name": "stdout",
          "text": [
            "\u001b[1m188/188\u001b[0m \u001b[32m━━━━━━━━━━━━━━━━━━━━\u001b[0m\u001b[37m\u001b[0m \u001b[1m1s\u001b[0m 2ms/step - RootMeanSquaredError: 0.1340 - accuracy: 0.8774 - loss: 0.3589\n",
            "\u001b[1m188/188\u001b[0m \u001b[32m━━━━━━━━━━━━━━━━━━━━\u001b[0m\u001b[37m\u001b[0m \u001b[1m1s\u001b[0m 3ms/step - RootMeanSquaredError: 0.1338 - accuracy: 0.8767 - loss: 0.3627\n",
            "\u001b[1m188/188\u001b[0m \u001b[32m━━━━━━━━━━━━━━━━━━━━\u001b[0m\u001b[37m\u001b[0m \u001b[1m1s\u001b[0m 2ms/step - RootMeanSquaredError: 0.1359 - accuracy: 0.8773 - loss: 0.3734\n",
            "\u001b[1m188/188\u001b[0m \u001b[32m━━━━━━━━━━━━━━━━━━━━\u001b[0m\u001b[37m\u001b[0m \u001b[1m1s\u001b[0m 4ms/step - RootMeanSquaredError: 0.1298 - accuracy: 0.8834 - loss: 0.3461\n",
            "\u001b[1m188/188\u001b[0m \u001b[32m━━━━━━━━━━━━━━━━━━━━\u001b[0m\u001b[37m\u001b[0m \u001b[1m1s\u001b[0m 2ms/step - RootMeanSquaredError: 0.1334 - accuracy: 0.8777 - loss: 0.3744\n",
            "\n",
            "\n",
            "Losses:  [0.3635462522506714, 0.3650265038013458, 0.3669094145298004, 0.35467448830604553, 0.3891869783401489]\n",
            "Mean loss 0.3678687274456024\n",
            "Standard deviation of losses: 0.01280857209059462\n",
            "\n",
            "Accuracies:  [0.8760833144187927, 0.8794999718666077, 0.8795833587646484, 0.8798333406448364, 0.875083327293396]\n",
            "Mean accuracy 0.8780166625976562\n",
            "Standard deviation of accuracy: 0.0022526292183838244\n",
            "\n",
            "RMSEs:  [0.1342262476682663, 0.13293330371379852, 0.13396085798740387, 0.13183444738388062, 0.13558858633041382]\n",
            "Mean RMSE 0.1337086886167526\n",
            "Standard deviation of RMSE: 0.0014123981488813355\n",
            "\n",
            "Mean train time:  46.552522373199466  seconds\n"
          ]
        }
      ]
    },
    {
      "cell_type": "markdown",
      "source": [
        "**2)** 15 епох"
      ],
      "metadata": {
        "id": "498VwkIYtW1U"
      }
    },
    {
      "cell_type": "code",
      "source": [
        "task_4(15)"
      ],
      "metadata": {
        "colab": {
          "base_uri": "https://localhost:8080/"
        },
        "id": "xF6GziHMtW1V",
        "outputId": "6003e45c-52fd-46cb-c802-ef6c9d9366de"
      },
      "execution_count": 110,
      "outputs": [
        {
          "output_type": "stream",
          "name": "stdout",
          "text": [
            "\u001b[1m188/188\u001b[0m \u001b[32m━━━━━━━━━━━━━━━━━━━━\u001b[0m\u001b[37m\u001b[0m \u001b[1m1s\u001b[0m 2ms/step - RootMeanSquaredError: 0.1370 - accuracy: 0.8746 - loss: 0.4151\n",
            "\u001b[1m188/188\u001b[0m \u001b[32m━━━━━━━━━━━━━━━━━━━━\u001b[0m\u001b[37m\u001b[0m \u001b[1m1s\u001b[0m 2ms/step - RootMeanSquaredError: 0.1332 - accuracy: 0.8849 - loss: 0.4224\n",
            "\u001b[1m188/188\u001b[0m \u001b[32m━━━━━━━━━━━━━━━━━━━━\u001b[0m\u001b[37m\u001b[0m \u001b[1m1s\u001b[0m 2ms/step - RootMeanSquaredError: 0.1345 - accuracy: 0.8823 - loss: 0.3894\n",
            "\u001b[1m188/188\u001b[0m \u001b[32m━━━━━━━━━━━━━━━━━━━━\u001b[0m\u001b[37m\u001b[0m \u001b[1m1s\u001b[0m 2ms/step - RootMeanSquaredError: 0.1339 - accuracy: 0.8807 - loss: 0.4000\n",
            "\u001b[1m188/188\u001b[0m \u001b[32m━━━━━━━━━━━━━━━━━━━━\u001b[0m\u001b[37m\u001b[0m \u001b[1m1s\u001b[0m 2ms/step - RootMeanSquaredError: 0.1326 - accuracy: 0.8843 - loss: 0.3847\n",
            "\n",
            "\n",
            "Losses:  [0.4136870503425598, 0.4179619550704956, 0.39180582761764526, 0.4027590751647949, 0.3937612771987915]\n",
            "Mean loss 0.4039950370788574\n",
            "Standard deviation of losses: 0.011660233592365263\n",
            "\n",
            "Accuracies:  [0.874916672706604, 0.8838333487510681, 0.8819166421890259, 0.8794999718666077, 0.8802499771118164]\n",
            "Mean accuracy 0.8800833225250244\n",
            "Standard deviation of accuracy: 0.0033348950423734377\n",
            "\n",
            "RMSEs:  [0.1369398981332779, 0.1332816183567047, 0.13421842455863953, 0.1346122920513153, 0.13416995108127594]\n",
            "Mean RMSE 0.13464443683624266\n",
            "Standard deviation of RMSE: 0.0013724133172890896\n",
            "\n",
            "Mean train time:  67.44204916954041  seconds\n"
          ]
        }
      ]
    },
    {
      "cell_type": "markdown",
      "source": [
        "**3)** 20 епох"
      ],
      "metadata": {
        "id": "WfsGpmH2tYVS"
      }
    },
    {
      "cell_type": "code",
      "source": [
        "task_4(20)"
      ],
      "metadata": {
        "colab": {
          "base_uri": "https://localhost:8080/"
        },
        "id": "3kGlGbwrtYVS",
        "outputId": "1b8d92a3-4cd6-4167-8f75-b9311f4d08fe"
      },
      "execution_count": 111,
      "outputs": [
        {
          "output_type": "stream",
          "name": "stdout",
          "text": [
            "\u001b[1m188/188\u001b[0m \u001b[32m━━━━━━━━━━━━━━━━━━━━\u001b[0m\u001b[37m\u001b[0m \u001b[1m1s\u001b[0m 2ms/step - RootMeanSquaredError: 0.1433 - accuracy: 0.8689 - loss: 0.5320\n",
            "\u001b[1m188/188\u001b[0m \u001b[32m━━━━━━━━━━━━━━━━━━━━\u001b[0m\u001b[37m\u001b[0m \u001b[1m1s\u001b[0m 2ms/step - RootMeanSquaredError: 0.1384 - accuracy: 0.8767 - loss: 0.4675\n",
            "\u001b[1m188/188\u001b[0m \u001b[32m━━━━━━━━━━━━━━━━━━━━\u001b[0m\u001b[37m\u001b[0m \u001b[1m1s\u001b[0m 2ms/step - RootMeanSquaredError: 0.1394 - accuracy: 0.8748 - loss: 0.4495\n",
            "\u001b[1m188/188\u001b[0m \u001b[32m━━━━━━━━━━━━━━━━━━━━\u001b[0m\u001b[37m\u001b[0m \u001b[1m1s\u001b[0m 2ms/step - RootMeanSquaredError: 0.1308 - accuracy: 0.8863 - loss: 0.4005\n",
            "\u001b[1m188/188\u001b[0m \u001b[32m━━━━━━━━━━━━━━━━━━━━\u001b[0m\u001b[37m\u001b[0m \u001b[1m1s\u001b[0m 2ms/step - RootMeanSquaredError: 0.1345 - accuracy: 0.8809 - loss: 0.4259\n",
            "\n",
            "\n",
            "Losses:  [0.5374037623405457, 0.4518857002258301, 0.4579877257347107, 0.41266068816185, 0.43672648072242737]\n",
            "Mean loss 0.45933287143707274\n",
            "Standard deviation of losses: 0.047015091660261875\n",
            "\n",
            "Accuracies:  [0.8685833215713501, 0.8804166913032532, 0.8759166598320007, 0.8840000033378601, 0.8798333406448364]\n",
            "Mean accuracy 0.8777500033378601\n",
            "Standard deviation of accuracy: 0.005871610129648327\n",
            "\n",
            "RMSEs:  [0.14339196681976318, 0.1360986977815628, 0.13877151906490326, 0.13289456069469452, 0.13566359877586365]\n",
            "Mean RMSE 0.13736406862735748\n",
            "Standard deviation of RMSE: 0.003961872524625177\n",
            "\n",
            "Mean train time:  89.4824197769165  seconds\n"
          ]
        }
      ]
    },
    {
      "cell_type": "markdown",
      "source": [
        "**4)** 25 епох"
      ],
      "metadata": {
        "id": "sYziJY26tiZ0"
      }
    },
    {
      "cell_type": "code",
      "source": [
        "task_4(25)"
      ],
      "metadata": {
        "colab": {
          "base_uri": "https://localhost:8080/"
        },
        "id": "JXK5NHYOtiZ0",
        "outputId": "b5e6d64c-3d47-4854-9d80-7978cc42e049"
      },
      "execution_count": 112,
      "outputs": [
        {
          "output_type": "stream",
          "name": "stdout",
          "text": [
            "\u001b[1m188/188\u001b[0m \u001b[32m━━━━━━━━━━━━━━━━━━━━\u001b[0m\u001b[37m\u001b[0m \u001b[1m1s\u001b[0m 2ms/step - RootMeanSquaredError: 0.1483 - accuracy: 0.8610 - loss: 0.5909\n",
            "\u001b[1m188/188\u001b[0m \u001b[32m━━━━━━━━━━━━━━━━━━━━\u001b[0m\u001b[37m\u001b[0m \u001b[1m1s\u001b[0m 2ms/step - RootMeanSquaredError: 0.1328 - accuracy: 0.8883 - loss: 0.4876\n",
            "\u001b[1m188/188\u001b[0m \u001b[32m━━━━━━━━━━━━━━━━━━━━\u001b[0m\u001b[37m\u001b[0m \u001b[1m1s\u001b[0m 2ms/step - RootMeanSquaredError: 0.1399 - accuracy: 0.8744 - loss: 0.5132\n",
            "\u001b[1m188/188\u001b[0m \u001b[32m━━━━━━━━━━━━━━━━━━━━\u001b[0m\u001b[37m\u001b[0m \u001b[1m1s\u001b[0m 3ms/step - RootMeanSquaredError: 0.1367 - accuracy: 0.8805 - loss: 0.5059\n",
            "\u001b[1m188/188\u001b[0m \u001b[32m━━━━━━━━━━━━━━━━━━━━\u001b[0m\u001b[37m\u001b[0m \u001b[1m1s\u001b[0m 2ms/step - RootMeanSquaredError: 0.1356 - accuracy: 0.8827 - loss: 0.4804\n",
            "\n",
            "\n",
            "Losses:  [0.6028618216514587, 0.4974357783794403, 0.5128278732299805, 0.5161992311477661, 0.4845253825187683]\n",
            "Mean loss 0.5227700173854828\n",
            "Standard deviation of losses: 0.046532768923828176\n",
            "\n",
            "Accuracies:  [0.8612499833106995, 0.8848333358764648, 0.8756666779518127, 0.8795833587646484, 0.8810833096504211]\n",
            "Mean accuracy 0.8764833331108093\n",
            "Standard deviation of accuracy: 0.009127080053159355\n",
            "\n",
            "RMSEs:  [0.14897309243679047, 0.13472051918506622, 0.13930386304855347, 0.1380995810031891, 0.1366899162530899]\n",
            "Mean RMSE 0.13955739438533782\n",
            "Standard deviation of RMSE: 0.005533142423929533\n",
            "\n",
            "Mean train time:  115.83858022689819  seconds\n"
          ]
        }
      ]
    },
    {
      "cell_type": "markdown",
      "source": [
        "**5)** 30 епох"
      ],
      "metadata": {
        "id": "pJvzMUMntikc"
      }
    },
    {
      "cell_type": "code",
      "source": [
        "task_4(30)"
      ],
      "metadata": {
        "colab": {
          "base_uri": "https://localhost:8080/"
        },
        "id": "Fp296x-5tikc",
        "outputId": "7c4bffb4-aaf6-4114-d058-28b4bc60b45a"
      },
      "execution_count": 113,
      "outputs": [
        {
          "output_type": "stream",
          "name": "stdout",
          "text": [
            "\u001b[1m188/188\u001b[0m \u001b[32m━━━━━━━━━━━━━━━━━━━━\u001b[0m\u001b[37m\u001b[0m \u001b[1m1s\u001b[0m 3ms/step - RootMeanSquaredError: 0.1415 - accuracy: 0.8741 - loss: 0.5589\n",
            "\u001b[1m188/188\u001b[0m \u001b[32m━━━━━━━━━━━━━━━━━━━━\u001b[0m\u001b[37m\u001b[0m \u001b[1m1s\u001b[0m 3ms/step - RootMeanSquaredError: 0.1392 - accuracy: 0.8806 - loss: 0.5791\n",
            "\u001b[1m188/188\u001b[0m \u001b[32m━━━━━━━━━━━━━━━━━━━━\u001b[0m\u001b[37m\u001b[0m \u001b[1m1s\u001b[0m 2ms/step - RootMeanSquaredError: 0.1418 - accuracy: 0.8753 - loss: 0.5916\n",
            "\u001b[1m188/188\u001b[0m \u001b[32m━━━━━━━━━━━━━━━━━━━━\u001b[0m\u001b[37m\u001b[0m \u001b[1m1s\u001b[0m 2ms/step - RootMeanSquaredError: 0.1356 - accuracy: 0.8838 - loss: 0.5535\n",
            "\u001b[1m188/188\u001b[0m \u001b[32m━━━━━━━━━━━━━━━━━━━━\u001b[0m\u001b[37m\u001b[0m \u001b[1m1s\u001b[0m 2ms/step - RootMeanSquaredError: 0.1413 - accuracy: 0.8759 - loss: 0.6130\n",
            "\n",
            "\n",
            "Losses:  [0.5821890234947205, 0.5742327570915222, 0.5737327337265015, 0.5800963640213013, 0.6076533198356628]\n",
            "Mean loss 0.5835808396339417\n",
            "Standard deviation of losses: 0.013945741847485078\n",
            "\n",
            "Accuracies:  [0.872083306312561, 0.8809999823570251, 0.8824999928474426, 0.8817499876022339, 0.8765000104904175]\n",
            "Mean accuracy 0.878766655921936\n",
            "Standard deviation of accuracy: 0.00440541323240637\n",
            "\n",
            "RMSEs:  [0.1429816633462906, 0.13894684612751007, 0.13797259330749512, 0.13776177167892456, 0.1413343846797943]\n",
            "Mean RMSE 0.13979945182800294\n",
            "Standard deviation of RMSE: 0.002274806471496203\n",
            "\n",
            "Mean train time:  138.68661274909974  seconds\n"
          ]
        }
      ]
    },
    {
      "cell_type": "markdown",
      "source": [
        "**Висновок:** бачимо, що точність досягає свого максимуму на 15 епохах. Далі, попри збільшення кількості епох, точність навчання залишається майже незмінною. Але суттєво збільшується loss (відстань між передбаченими та реальними значеннями): з 36.78 до 58.35. Окрім цього, збільшується час навчання: з 46.5 секунд до 138.68 секунд. Тому, в якості найкращої кількості епох оберемо **15**.\n",
        "\n",
        "*До незбільшення точності зі збільшенням кількості епох можуть призвести  наступні чинники: перенавчання, сатурація (модель вже досягла максимальної продуктивності на даній задачі), занадто висока швидкість навчання (модель \"перескакує\" оптимальні значення, не досягнувши їх), якість даних (наприклад, наявність шумів), недостатня складність моделі.*"
      ],
      "metadata": {
        "id": "PrAuAkPZtwnX"
      }
    },
    {
      "cell_type": "markdown",
      "source": [
        "### №5 Підбір розміру міні-вибірки (batch_size)\n",
        "Використовуйте різні розміри міні-вибірки (batch_size): 10, 50, 100, 200, 500 Аргументуйте відповідь."
      ],
      "metadata": {
        "id": "UPdcxQsEuPOr"
      }
    },
    {
      "cell_type": "markdown",
      "source": [
        "Для підбору будемо використовувати базову модель."
      ],
      "metadata": {
        "id": "IBNcqRGpuPOs"
      }
    },
    {
      "cell_type": "code",
      "source": [
        "def task_5(batch_size):\n",
        "  losses, accuracies, rmses, train_times = cross_validate(\n",
        "    x_train_float, y_train_oh,\n",
        "    lambda: create_basic_model(),\n",
        "    batch_size=batch_size,\n",
        "    number_of_epochs=10)\n",
        "\n",
        "  display_cross_validation_results(losses, accuracies, rmses, train_times)"
      ],
      "metadata": {
        "id": "w7FY6OqZuPOs"
      },
      "execution_count": 115,
      "outputs": []
    },
    {
      "cell_type": "markdown",
      "source": [
        "**1)** batch_size = 10"
      ],
      "metadata": {
        "id": "6p5hxIW3uPOs"
      }
    },
    {
      "cell_type": "code",
      "source": [
        "task_5(10)"
      ],
      "metadata": {
        "colab": {
          "base_uri": "https://localhost:8080/"
        },
        "outputId": "c225ab4b-9079-4d3f-ded3-9d6b0bc4b942",
        "id": "GE77a7BeuPOs"
      },
      "execution_count": 116,
      "outputs": [
        {
          "output_type": "stream",
          "name": "stdout",
          "text": [
            "\u001b[1m1200/1200\u001b[0m \u001b[32m━━━━━━━━━━━━━━━━━━━━\u001b[0m\u001b[37m\u001b[0m \u001b[1m2s\u001b[0m 1ms/step - RootMeanSquaredError: 0.1392 - accuracy: 0.8680 - loss: 0.4239\n",
            "\u001b[1m1200/1200\u001b[0m \u001b[32m━━━━━━━━━━━━━━━━━━━━\u001b[0m\u001b[37m\u001b[0m \u001b[1m2s\u001b[0m 1ms/step - RootMeanSquaredError: 0.1388 - accuracy: 0.8678 - loss: 0.3887\n",
            "\u001b[1m1200/1200\u001b[0m \u001b[32m━━━━━━━━━━━━━━━━━━━━\u001b[0m\u001b[37m\u001b[0m \u001b[1m2s\u001b[0m 1ms/step - RootMeanSquaredError: 0.1427 - accuracy: 0.8644 - loss: 0.4230\n",
            "\u001b[1m1200/1200\u001b[0m \u001b[32m━━━━━━━━━━━━━━━━━━━━\u001b[0m\u001b[37m\u001b[0m \u001b[1m2s\u001b[0m 2ms/step - RootMeanSquaredError: 0.1352 - accuracy: 0.8763 - loss: 0.3815\n",
            "\u001b[1m1200/1200\u001b[0m \u001b[32m━━━━━━━━━━━━━━━━━━━━\u001b[0m\u001b[37m\u001b[0m \u001b[1m2s\u001b[0m 2ms/step - RootMeanSquaredError: 0.1332 - accuracy: 0.8813 - loss: 0.4148\n",
            "\n",
            "\n",
            "Losses:  [0.41938790678977966, 0.3883073627948761, 0.4124620854854584, 0.37656351923942566, 0.4254325032234192]\n",
            "Mean loss 0.4044306755065918\n",
            "Standard deviation of losses: 0.02101094174812936\n",
            "\n",
            "Accuracies:  [0.8690000176429749, 0.8685833215713501, 0.8640833497047424, 0.8775833249092102, 0.8764166831970215]\n",
            "Mean accuracy 0.8711333394050598\n",
            "Standard deviation of accuracy: 0.005706838925692887\n",
            "\n",
            "RMSEs:  [0.1389244794845581, 0.13835641741752625, 0.14128483831882477, 0.13462743163108826, 0.13635782897472382]\n",
            "Mean RMSE 0.13791019916534425\n",
            "Standard deviation of RMSE: 0.0025398071089858735\n",
            "\n",
            "Mean train time:  182.6719428062439  seconds\n"
          ]
        }
      ]
    },
    {
      "cell_type": "markdown",
      "source": [
        "**2)** batch_size = 50"
      ],
      "metadata": {
        "id": "hiwt4HGawRWF"
      }
    },
    {
      "cell_type": "code",
      "source": [
        "task_5(50)"
      ],
      "metadata": {
        "colab": {
          "base_uri": "https://localhost:8080/"
        },
        "outputId": "e8f517b3-8ba7-4858-d291-9adb3498c78e",
        "id": "Zu8unwgowRWG"
      },
      "execution_count": 117,
      "outputs": [
        {
          "output_type": "stream",
          "name": "stdout",
          "text": [
            "\u001b[1m240/240\u001b[0m \u001b[32m━━━━━━━━━━━━━━━━━━━━\u001b[0m\u001b[37m\u001b[0m \u001b[1m1s\u001b[0m 3ms/step - RootMeanSquaredError: 0.1331 - accuracy: 0.8790 - loss: 0.3597\n",
            "\u001b[1m240/240\u001b[0m \u001b[32m━━━━━━━━━━━━━━━━━━━━\u001b[0m\u001b[37m\u001b[0m \u001b[1m1s\u001b[0m 2ms/step - RootMeanSquaredError: 0.1342 - accuracy: 0.8788 - loss: 0.3754\n",
            "\u001b[1m240/240\u001b[0m \u001b[32m━━━━━━━━━━━━━━━━━━━━\u001b[0m\u001b[37m\u001b[0m \u001b[1m1s\u001b[0m 2ms/step - RootMeanSquaredError: 0.1460 - accuracy: 0.8552 - loss: 0.4441\n",
            "\u001b[1m240/240\u001b[0m \u001b[32m━━━━━━━━━━━━━━━━━━━━\u001b[0m\u001b[37m\u001b[0m \u001b[1m1s\u001b[0m 2ms/step - RootMeanSquaredError: 0.1310 - accuracy: 0.8832 - loss: 0.3541\n",
            "\u001b[1m240/240\u001b[0m \u001b[32m━━━━━━━━━━━━━━━━━━━━\u001b[0m\u001b[37m\u001b[0m \u001b[1m1s\u001b[0m 3ms/step - RootMeanSquaredError: 0.1315 - accuracy: 0.8810 - loss: 0.3591\n",
            "\n",
            "\n",
            "Losses:  [0.36018380522727966, 0.3742499053478241, 0.4271431565284729, 0.35321861505508423, 0.3666364252567291]\n",
            "Mean loss 0.376286381483078\n",
            "Standard deviation of losses: 0.029474969331146413\n",
            "\n",
            "Accuracies:  [0.8792499899864197, 0.8798333406448364, 0.8617500066757202, 0.8822500109672546, 0.8785833120346069]\n",
            "Mean accuracy 0.8763333320617676\n",
            "Standard deviation of accuracy: 0.008268915164565705\n",
            "\n",
            "RMSEs:  [0.1331658512353897, 0.13348332047462463, 0.1432202160358429, 0.13118316233158112, 0.13338366150856018]\n",
            "Mean RMSE 0.1348872423171997\n",
            "Standard deviation of RMSE: 0.004752725496495715\n",
            "\n",
            "Mean train time:  60.84063620567322  seconds\n"
          ]
        }
      ]
    },
    {
      "cell_type": "markdown",
      "source": [
        "**3)** batch_size = 100"
      ],
      "metadata": {
        "id": "kGiX4BElwRfB"
      }
    },
    {
      "cell_type": "code",
      "source": [
        "task_5(100)"
      ],
      "metadata": {
        "colab": {
          "base_uri": "https://localhost:8080/"
        },
        "outputId": "971ef33a-b127-4550-a0e7-405cc7ca95dd",
        "id": "19tDH8ZGwRfB"
      },
      "execution_count": 118,
      "outputs": [
        {
          "output_type": "stream",
          "name": "stdout",
          "text": [
            "\u001b[1m120/120\u001b[0m \u001b[32m━━━━━━━━━━━━━━━━━━━━\u001b[0m\u001b[37m\u001b[0m \u001b[1m1s\u001b[0m 3ms/step - RootMeanSquaredError: 0.1334 - accuracy: 0.8753 - loss: 0.3615\n",
            "\u001b[1m120/120\u001b[0m \u001b[32m━━━━━━━━━━━━━━━━━━━━\u001b[0m\u001b[37m\u001b[0m \u001b[1m1s\u001b[0m 3ms/step - RootMeanSquaredError: 0.1288 - accuracy: 0.8846 - loss: 0.3345\n",
            "\u001b[1m120/120\u001b[0m \u001b[32m━━━━━━━━━━━━━━━━━━━━\u001b[0m\u001b[37m\u001b[0m \u001b[1m1s\u001b[0m 5ms/step - RootMeanSquaredError: 0.1371 - accuracy: 0.8712 - loss: 0.3776\n",
            "\u001b[1m120/120\u001b[0m \u001b[32m━━━━━━━━━━━━━━━━━━━━\u001b[0m\u001b[37m\u001b[0m \u001b[1m0s\u001b[0m 3ms/step - RootMeanSquaredError: 0.1304 - accuracy: 0.8835 - loss: 0.3477\n",
            "\u001b[1m120/120\u001b[0m \u001b[32m━━━━━━━━━━━━━━━━━━━━\u001b[0m\u001b[37m\u001b[0m \u001b[1m1s\u001b[0m 3ms/step - RootMeanSquaredError: 0.1281 - accuracy: 0.8871 - loss: 0.3358\n",
            "\n",
            "\n",
            "Losses:  [0.37098416686058044, 0.33558934926986694, 0.37861841917037964, 0.3537523150444031, 0.3418694734573364]\n",
            "Mean loss 0.3561627447605133\n",
            "Standard deviation of losses: 0.01842080511437651\n",
            "\n",
            "Accuracies:  [0.875333309173584, 0.8855833411216736, 0.8737499713897705, 0.8820000290870667, 0.8856666684150696]\n",
            "Mean accuracy 0.8804666638374329\n",
            "Standard deviation of accuracy: 0.005635533039754\n",
            "\n",
            "RMSEs:  [0.13427908718585968, 0.12891662120819092, 0.1359967738389969, 0.1318117380142212, 0.12977150082588196]\n",
            "Mean RMSE 0.13215514421463012\n",
            "Standard deviation of RMSE: 0.0029814831377305293\n",
            "\n",
            "Mean train time:  31.911633443832397  seconds\n"
          ]
        }
      ]
    },
    {
      "cell_type": "markdown",
      "source": [
        "**4)** batch_size = 200"
      ],
      "metadata": {
        "id": "9iJSYqPPwRw7"
      }
    },
    {
      "cell_type": "code",
      "source": [
        "task_5(200)"
      ],
      "metadata": {
        "colab": {
          "base_uri": "https://localhost:8080/"
        },
        "outputId": "91ecdbd5-a60a-4e92-8d01-da18b479104c",
        "id": "4-iCLVgAwRw7"
      },
      "execution_count": 119,
      "outputs": [
        {
          "output_type": "stream",
          "name": "stdout",
          "text": [
            "\u001b[1m60/60\u001b[0m \u001b[32m━━━━━━━━━━━━━━━━━━━━\u001b[0m\u001b[37m\u001b[0m \u001b[1m0s\u001b[0m 3ms/step - RootMeanSquaredError: 0.1381 - accuracy: 0.8690 - loss: 0.3734\n",
            "\u001b[1m60/60\u001b[0m \u001b[32m━━━━━━━━━━━━━━━━━━━━\u001b[0m\u001b[37m\u001b[0m \u001b[1m0s\u001b[0m 4ms/step - RootMeanSquaredError: 0.1281 - accuracy: 0.8854 - loss: 0.3287\n",
            "\u001b[1m60/60\u001b[0m \u001b[32m━━━━━━━━━━━━━━━━━━━━\u001b[0m\u001b[37m\u001b[0m \u001b[1m0s\u001b[0m 4ms/step - RootMeanSquaredError: 0.1329 - accuracy: 0.8769 - loss: 0.3485\n",
            "\u001b[1m60/60\u001b[0m \u001b[32m━━━━━━━━━━━━━━━━━━━━\u001b[0m\u001b[37m\u001b[0m \u001b[1m0s\u001b[0m 4ms/step - RootMeanSquaredError: 0.1278 - accuracy: 0.8887 - loss: 0.3255\n",
            "\u001b[1m60/60\u001b[0m \u001b[32m━━━━━━━━━━━━━━━━━━━━\u001b[0m\u001b[37m\u001b[0m \u001b[1m0s\u001b[0m 3ms/step - RootMeanSquaredError: 0.1310 - accuracy: 0.8804 - loss: 0.3332\n",
            "\n",
            "\n",
            "Losses:  [0.37800541520118713, 0.3284386694431305, 0.3445371091365814, 0.3332425653934479, 0.34137555956840515]\n",
            "Mean loss 0.3451198637485504\n",
            "Standard deviation of losses: 0.019462472676580286\n",
            "\n",
            "Accuracies:  [0.8661666512489319, 0.8855833411216736, 0.8798333406448364, 0.8833333253860474, 0.8768333196640015]\n",
            "Mean accuracy 0.8783499956130981\n",
            "Standard deviation of accuracy: 0.007584348376525225\n",
            "\n",
            "RMSEs:  [0.13859763741493225, 0.12841898202896118, 0.13164401054382324, 0.12965990602970123, 0.13306501507759094]\n",
            "Mean RMSE 0.13227711021900176\n",
            "Standard deviation of RMSE: 0.003959342881043348\n",
            "\n",
            "Mean train time:  25.833625745773315  seconds\n"
          ]
        }
      ]
    },
    {
      "cell_type": "markdown",
      "source": [
        "**5)** batch_size = 500"
      ],
      "metadata": {
        "id": "kjHPzk1lwSBU"
      }
    },
    {
      "cell_type": "code",
      "source": [
        "task_5(500)"
      ],
      "metadata": {
        "colab": {
          "base_uri": "https://localhost:8080/"
        },
        "outputId": "5c357141-029a-4ff9-c87c-8f4fa7b4766d",
        "id": "x5P7NPzkwSBU"
      },
      "execution_count": 120,
      "outputs": [
        {
          "output_type": "stream",
          "name": "stdout",
          "text": [
            "\u001b[1m24/24\u001b[0m \u001b[32m━━━━━━━━━━━━━━━━━━━━\u001b[0m\u001b[37m\u001b[0m \u001b[1m0s\u001b[0m 6ms/step - RootMeanSquaredError: 0.1286 - accuracy: 0.8842 - loss: 0.3191\n",
            "\u001b[1m24/24\u001b[0m \u001b[32m━━━━━━━━━━━━━━━━━━━━\u001b[0m\u001b[37m\u001b[0m \u001b[1m0s\u001b[0m 6ms/step - RootMeanSquaredError: 0.1350 - accuracy: 0.8771 - loss: 0.3638\n",
            "\u001b[1m24/24\u001b[0m \u001b[32m━━━━━━━━━━━━━━━━━━━━\u001b[0m\u001b[37m\u001b[0m \u001b[1m0s\u001b[0m 6ms/step - RootMeanSquaredError: 0.1307 - accuracy: 0.8806 - loss: 0.3267\n",
            "\u001b[1m24/24\u001b[0m \u001b[32m━━━━━━━━━━━━━━━━━━━━\u001b[0m\u001b[37m\u001b[0m \u001b[1m0s\u001b[0m 10ms/step - RootMeanSquaredError: 0.1300 - accuracy: 0.8836 - loss: 0.3419\n",
            "\u001b[1m24/24\u001b[0m \u001b[32m━━━━━━━━━━━━━━━━━━━━\u001b[0m\u001b[37m\u001b[0m \u001b[1m0s\u001b[0m 6ms/step - RootMeanSquaredError: 0.1291 - accuracy: 0.8844 - loss: 0.3212\n",
            "\n",
            "\n",
            "Losses:  [0.3247508406639099, 0.36285820603370667, 0.3237805962562561, 0.3340245187282562, 0.3293701708316803]\n",
            "Mean loss 0.33495686650276185\n",
            "Standard deviation of losses: 0.01612170251990476\n",
            "\n",
            "Accuracies:  [0.8825833201408386, 0.8743333220481873, 0.8809999823570251, 0.8836666941642761, 0.8820833563804626]\n",
            "Mean accuracy 0.880733335018158\n",
            "Standard deviation of accuracy: 0.0037040810375871926\n",
            "\n",
            "RMSEs:  [0.12930484116077423, 0.13520169258117676, 0.12995760142803192, 0.1297539621591568, 0.13025915622711182]\n",
            "Mean RMSE 0.1308954507112503\n",
            "Standard deviation of RMSE: 0.002432138248923784\n",
            "\n",
            "Mean train time:  15.995552206039429  seconds\n"
          ]
        }
      ]
    },
    {
      "cell_type": "markdown",
      "source": [
        "**Висновок:** бачимо, що точність досягає свого максимуму (88.07%) на `batch_size`=500. При цьому значенні `batch_size`, мінімуму сягає середньоквадратичне відхилення (RMSE). Також бачимо, що зі збільшенням `batch_size`, loss (відстань між передбаченими та реальними значеннями) помітно зменшується з 40.44 до 33.49. Причому, час навчання суттєво зменшується (з 182.67 секунд до майже 15.99 секунд). Тому, в якості найкращого значення `batch_size` оберемо **500**.\n",
        "\n",
        "\n",
        "*Зауважимо, що описані ефекти відбуваються через те, що при більших значеннях batch_size відбувається наступне: градієнти стають більш стабільними, зменшується шум у градієнтах, покращується узагальнення (в деяких випадках), збільшується ефективність виконання навчання на CPU.*"
      ],
      "metadata": {
        "id": "Ai3FGrXfuLI6"
      }
    },
    {
      "cell_type": "markdown",
      "source": [
        "### №6 Навчання на кращих гіперпараметрах та перевірка на перенавчання"
      ],
      "metadata": {
        "id": "ZrtSkMVYw0lT"
      }
    },
    {
      "cell_type": "markdown",
      "source": [
        "Отже, було обрано такі найкращі гіперпараметри:"
      ],
      "metadata": {
        "id": "XytYrwnr0eEm"
      }
    },
    {
      "cell_type": "code",
      "source": [
        "best_input_layer_neurons_number = 400\n",
        "best_first_hide_layer_neurons_number = 200\n",
        "best_second_hide_layer_neurons_number = 300\n",
        "best_epochs_number = 15\n",
        "best_batch_size = 500"
      ],
      "metadata": {
        "id": "42bV18gi01J9"
      },
      "execution_count": 121,
      "outputs": []
    },
    {
      "cell_type": "markdown",
      "source": [
        "Визначимо функцію, що створює модель *із найкращими параметрами*."
      ],
      "metadata": {
        "id": "cfw1U_FS0bFR"
      }
    },
    {
      "cell_type": "code",
      "source": [
        "def create_basic_model_with_best_hyperparams():\n",
        "  K.clear_session()\n",
        "\n",
        "  # create model\n",
        "  model = keras.Sequential()\n",
        "  model.add(L.Dense(best_input_layer_neurons_number, input_dim=784, activation='relu')) # relu(x)=max(0,x)\n",
        "  model.add(L.Dense(best_first_hide_layer_neurons_number, activation='elu'))\n",
        "  model.add(L.Dense(best_second_hide_layer_neurons_number, activation='elu'))\n",
        "  model.add(L.Dense(10, activation='softmax'))\n",
        "\n",
        "  # configure the model with losses and metrics\n",
        "  model.compile(\n",
        "    loss='categorical_crossentropy', # minimize cross-entropy\n",
        "    optimizer='adam',\n",
        "    metrics=['accuracy', 'RootMeanSquaredError'] # calculated using validation_data\n",
        "  )\n",
        "\n",
        "  return model"
      ],
      "metadata": {
        "id": "snhVD66QyTgw"
      },
      "execution_count": 122,
      "outputs": []
    },
    {
      "cell_type": "markdown",
      "source": [
        "Створимо та натренуємо цю модель:"
      ],
      "metadata": {
        "id": "LMoUG7Y-1iGr"
      }
    },
    {
      "cell_type": "code",
      "source": [
        "best_hyperparams_model = create_basic_model_with_best_hyperparams()\n",
        "\n",
        "\n",
        "best_hyperparams_model.summary()"
      ],
      "metadata": {
        "colab": {
          "base_uri": "https://localhost:8080/",
          "height": 312
        },
        "id": "fEOJT8oQ0VEk",
        "outputId": "9df83675-4323-43e3-b24d-183f579e0f77"
      },
      "execution_count": 123,
      "outputs": [
        {
          "output_type": "stream",
          "name": "stderr",
          "text": [
            "/usr/local/lib/python3.10/dist-packages/keras/src/layers/core/dense.py:87: UserWarning: Do not pass an `input_shape`/`input_dim` argument to a layer. When using Sequential models, prefer using an `Input(shape)` object as the first layer in the model instead.\n",
            "  super().__init__(activity_regularizer=activity_regularizer, **kwargs)\n"
          ]
        },
        {
          "output_type": "display_data",
          "data": {
            "text/plain": [
              "\u001b[1mModel: \"sequential\"\u001b[0m\n"
            ],
            "text/html": [
              "<pre style=\"white-space:pre;overflow-x:auto;line-height:normal;font-family:Menlo,'DejaVu Sans Mono',consolas,'Courier New',monospace\"><span style=\"font-weight: bold\">Model: \"sequential\"</span>\n",
              "</pre>\n"
            ]
          },
          "metadata": {}
        },
        {
          "output_type": "display_data",
          "data": {
            "text/plain": [
              "┏━━━━━━━━━━━━━━━━━━━━━━━━━━━━━━━━━━━━━━┳━━━━━━━━━━━━━━━━━━━━━━━━━━━━━┳━━━━━━━━━━━━━━━━━┓\n",
              "┃\u001b[1m \u001b[0m\u001b[1mLayer (type)                        \u001b[0m\u001b[1m \u001b[0m┃\u001b[1m \u001b[0m\u001b[1mOutput Shape               \u001b[0m\u001b[1m \u001b[0m┃\u001b[1m \u001b[0m\u001b[1m        Param #\u001b[0m\u001b[1m \u001b[0m┃\n",
              "┡━━━━━━━━━━━━━━━━━━━━━━━━━━━━━━━━━━━━━━╇━━━━━━━━━━━━━━━━━━━━━━━━━━━━━╇━━━━━━━━━━━━━━━━━┩\n",
              "│ dense (\u001b[38;5;33mDense\u001b[0m)                        │ (\u001b[38;5;45mNone\u001b[0m, \u001b[38;5;34m400\u001b[0m)                 │         \u001b[38;5;34m314,000\u001b[0m │\n",
              "├──────────────────────────────────────┼─────────────────────────────┼─────────────────┤\n",
              "│ dense_1 (\u001b[38;5;33mDense\u001b[0m)                      │ (\u001b[38;5;45mNone\u001b[0m, \u001b[38;5;34m200\u001b[0m)                 │          \u001b[38;5;34m80,200\u001b[0m │\n",
              "├──────────────────────────────────────┼─────────────────────────────┼─────────────────┤\n",
              "│ dense_2 (\u001b[38;5;33mDense\u001b[0m)                      │ (\u001b[38;5;45mNone\u001b[0m, \u001b[38;5;34m300\u001b[0m)                 │          \u001b[38;5;34m60,300\u001b[0m │\n",
              "├──────────────────────────────────────┼─────────────────────────────┼─────────────────┤\n",
              "│ dense_3 (\u001b[38;5;33mDense\u001b[0m)                      │ (\u001b[38;5;45mNone\u001b[0m, \u001b[38;5;34m10\u001b[0m)                  │           \u001b[38;5;34m3,010\u001b[0m │\n",
              "└──────────────────────────────────────┴─────────────────────────────┴─────────────────┘\n"
            ],
            "text/html": [
              "<pre style=\"white-space:pre;overflow-x:auto;line-height:normal;font-family:Menlo,'DejaVu Sans Mono',consolas,'Courier New',monospace\">┏━━━━━━━━━━━━━━━━━━━━━━━━━━━━━━━━━━━━━━┳━━━━━━━━━━━━━━━━━━━━━━━━━━━━━┳━━━━━━━━━━━━━━━━━┓\n",
              "┃<span style=\"font-weight: bold\"> Layer (type)                         </span>┃<span style=\"font-weight: bold\"> Output Shape                </span>┃<span style=\"font-weight: bold\">         Param # </span>┃\n",
              "┡━━━━━━━━━━━━━━━━━━━━━━━━━━━━━━━━━━━━━━╇━━━━━━━━━━━━━━━━━━━━━━━━━━━━━╇━━━━━━━━━━━━━━━━━┩\n",
              "│ dense (<span style=\"color: #0087ff; text-decoration-color: #0087ff\">Dense</span>)                        │ (<span style=\"color: #00d7ff; text-decoration-color: #00d7ff\">None</span>, <span style=\"color: #00af00; text-decoration-color: #00af00\">400</span>)                 │         <span style=\"color: #00af00; text-decoration-color: #00af00\">314,000</span> │\n",
              "├──────────────────────────────────────┼─────────────────────────────┼─────────────────┤\n",
              "│ dense_1 (<span style=\"color: #0087ff; text-decoration-color: #0087ff\">Dense</span>)                      │ (<span style=\"color: #00d7ff; text-decoration-color: #00d7ff\">None</span>, <span style=\"color: #00af00; text-decoration-color: #00af00\">200</span>)                 │          <span style=\"color: #00af00; text-decoration-color: #00af00\">80,200</span> │\n",
              "├──────────────────────────────────────┼─────────────────────────────┼─────────────────┤\n",
              "│ dense_2 (<span style=\"color: #0087ff; text-decoration-color: #0087ff\">Dense</span>)                      │ (<span style=\"color: #00d7ff; text-decoration-color: #00d7ff\">None</span>, <span style=\"color: #00af00; text-decoration-color: #00af00\">300</span>)                 │          <span style=\"color: #00af00; text-decoration-color: #00af00\">60,300</span> │\n",
              "├──────────────────────────────────────┼─────────────────────────────┼─────────────────┤\n",
              "│ dense_3 (<span style=\"color: #0087ff; text-decoration-color: #0087ff\">Dense</span>)                      │ (<span style=\"color: #00d7ff; text-decoration-color: #00d7ff\">None</span>, <span style=\"color: #00af00; text-decoration-color: #00af00\">10</span>)                  │           <span style=\"color: #00af00; text-decoration-color: #00af00\">3,010</span> │\n",
              "└──────────────────────────────────────┴─────────────────────────────┴─────────────────┘\n",
              "</pre>\n"
            ]
          },
          "metadata": {}
        },
        {
          "output_type": "display_data",
          "data": {
            "text/plain": [
              "\u001b[1m Total params: \u001b[0m\u001b[38;5;34m457,510\u001b[0m (1.75 MB)\n"
            ],
            "text/html": [
              "<pre style=\"white-space:pre;overflow-x:auto;line-height:normal;font-family:Menlo,'DejaVu Sans Mono',consolas,'Courier New',monospace\"><span style=\"font-weight: bold\"> Total params: </span><span style=\"color: #00af00; text-decoration-color: #00af00\">457,510</span> (1.75 MB)\n",
              "</pre>\n"
            ]
          },
          "metadata": {}
        },
        {
          "output_type": "display_data",
          "data": {
            "text/plain": [
              "\u001b[1m Trainable params: \u001b[0m\u001b[38;5;34m457,510\u001b[0m (1.75 MB)\n"
            ],
            "text/html": [
              "<pre style=\"white-space:pre;overflow-x:auto;line-height:normal;font-family:Menlo,'DejaVu Sans Mono',consolas,'Courier New',monospace\"><span style=\"font-weight: bold\"> Trainable params: </span><span style=\"color: #00af00; text-decoration-color: #00af00\">457,510</span> (1.75 MB)\n",
              "</pre>\n"
            ]
          },
          "metadata": {}
        },
        {
          "output_type": "display_data",
          "data": {
            "text/plain": [
              "\u001b[1m Non-trainable params: \u001b[0m\u001b[38;5;34m0\u001b[0m (0.00 B)\n"
            ],
            "text/html": [
              "<pre style=\"white-space:pre;overflow-x:auto;line-height:normal;font-family:Menlo,'DejaVu Sans Mono',consolas,'Courier New',monospace\"><span style=\"font-weight: bold\"> Non-trainable params: </span><span style=\"color: #00af00; text-decoration-color: #00af00\">0</span> (0.00 B)\n",
              "</pre>\n"
            ]
          },
          "metadata": {}
        }
      ]
    },
    {
      "cell_type": "code",
      "source": [
        "# train the model on best hyperparams\n",
        "best_hyperparams_model.fit(\n",
        "  x_train_float.reshape(-1, 28*28),\n",
        "  y_train_oh,\n",
        "  batch_size=best_batch_size, # Number of samples per gradient update.\n",
        "  epochs=best_epochs_number,\n",
        "  validation_data=(x_val_float.reshape(-1, 28*28), y_val_oh) # The model will not be trained on this data.\n",
        ")"
      ],
      "metadata": {
        "colab": {
          "base_uri": "https://localhost:8080/"
        },
        "id": "IqnCHfuJ1hod",
        "outputId": "ddecc01c-55fc-449b-a84c-bac22b53396d"
      },
      "execution_count": 124,
      "outputs": [
        {
          "output_type": "stream",
          "name": "stdout",
          "text": [
            "Epoch 1/15\n",
            "\u001b[1m120/120\u001b[0m \u001b[32m━━━━━━━━━━━━━━━━━━━━\u001b[0m\u001b[37m\u001b[0m \u001b[1m6s\u001b[0m 36ms/step - RootMeanSquaredError: 0.1890 - accuracy: 0.7243 - loss: 0.7616 - val_RootMeanSquaredError: 0.1542 - val_accuracy: 0.8316 - val_loss: 0.4642\n",
            "Epoch 2/15\n",
            "\u001b[1m120/120\u001b[0m \u001b[32m━━━━━━━━━━━━━━━━━━━━\u001b[0m\u001b[37m\u001b[0m \u001b[1m7s\u001b[0m 50ms/step - RootMeanSquaredError: 0.1449 - accuracy: 0.8519 - loss: 0.4045 - val_RootMeanSquaredError: 0.1452 - val_accuracy: 0.8528 - val_loss: 0.4096\n",
            "Epoch 3/15\n",
            "\u001b[1m120/120\u001b[0m \u001b[32m━━━━━━━━━━━━━━━━━━━━\u001b[0m\u001b[37m\u001b[0m \u001b[1m8s\u001b[0m 32ms/step - RootMeanSquaredError: 0.1356 - accuracy: 0.8712 - loss: 0.3515 - val_RootMeanSquaredError: 0.1407 - val_accuracy: 0.8620 - val_loss: 0.3828\n",
            "Epoch 4/15\n",
            "\u001b[1m120/120\u001b[0m \u001b[32m━━━━━━━━━━━━━━━━━━━━\u001b[0m\u001b[37m\u001b[0m \u001b[1m7s\u001b[0m 46ms/step - RootMeanSquaredError: 0.1294 - accuracy: 0.8827 - loss: 0.3187 - val_RootMeanSquaredError: 0.1397 - val_accuracy: 0.8628 - val_loss: 0.3751\n",
            "Epoch 5/15\n",
            "\u001b[1m120/120\u001b[0m \u001b[32m━━━━━━━━━━━━━━━━━━━━\u001b[0m\u001b[37m\u001b[0m \u001b[1m4s\u001b[0m 34ms/step - RootMeanSquaredError: 0.1251 - accuracy: 0.8913 - loss: 0.2968 - val_RootMeanSquaredError: 0.1388 - val_accuracy: 0.8639 - val_loss: 0.3684\n",
            "Epoch 6/15\n",
            "\u001b[1m120/120\u001b[0m \u001b[32m━━━━━━━━━━━━━━━━━━━━\u001b[0m\u001b[37m\u001b[0m \u001b[1m5s\u001b[0m 32ms/step - RootMeanSquaredError: 0.1208 - accuracy: 0.8995 - loss: 0.2756 - val_RootMeanSquaredError: 0.1387 - val_accuracy: 0.8649 - val_loss: 0.3678\n",
            "Epoch 7/15\n",
            "\u001b[1m120/120\u001b[0m \u001b[32m━━━━━━━━━━━━━━━━━━━━\u001b[0m\u001b[37m\u001b[0m \u001b[1m6s\u001b[0m 38ms/step - RootMeanSquaredError: 0.1174 - accuracy: 0.9045 - loss: 0.2591 - val_RootMeanSquaredError: 0.1391 - val_accuracy: 0.8615 - val_loss: 0.3739\n",
            "Epoch 8/15\n",
            "\u001b[1m120/120\u001b[0m \u001b[32m━━━━━━━━━━━━━━━━━━━━\u001b[0m\u001b[37m\u001b[0m \u001b[1m4s\u001b[0m 32ms/step - RootMeanSquaredError: 0.1142 - accuracy: 0.9100 - loss: 0.2448 - val_RootMeanSquaredError: 0.1389 - val_accuracy: 0.8641 - val_loss: 0.3781\n",
            "Epoch 9/15\n",
            "\u001b[1m120/120\u001b[0m \u001b[32m━━━━━━━━━━━━━━━━━━━━\u001b[0m\u001b[37m\u001b[0m \u001b[1m5s\u001b[0m 38ms/step - RootMeanSquaredError: 0.1118 - accuracy: 0.9134 - loss: 0.2344 - val_RootMeanSquaredError: 0.1393 - val_accuracy: 0.8661 - val_loss: 0.3914\n",
            "Epoch 10/15\n",
            "\u001b[1m120/120\u001b[0m \u001b[32m━━━━━━━━━━━━━━━━━━━━\u001b[0m\u001b[37m\u001b[0m \u001b[1m5s\u001b[0m 39ms/step - RootMeanSquaredError: 0.1104 - accuracy: 0.9155 - loss: 0.2282 - val_RootMeanSquaredError: 0.1418 - val_accuracy: 0.8629 - val_loss: 0.4163\n",
            "Epoch 11/15\n",
            "\u001b[1m120/120\u001b[0m \u001b[32m━━━━━━━━━━━━━━━━━━━━\u001b[0m\u001b[37m\u001b[0m \u001b[1m4s\u001b[0m 33ms/step - RootMeanSquaredError: 0.1093 - accuracy: 0.9184 - loss: 0.2241 - val_RootMeanSquaredError: 0.1346 - val_accuracy: 0.8766 - val_loss: 0.3642\n",
            "Epoch 12/15\n",
            "\u001b[1m120/120\u001b[0m \u001b[32m━━━━━━━━━━━━━━━━━━━━\u001b[0m\u001b[37m\u001b[0m \u001b[1m4s\u001b[0m 36ms/step - RootMeanSquaredError: 0.1061 - accuracy: 0.9233 - loss: 0.2115 - val_RootMeanSquaredError: 0.1356 - val_accuracy: 0.8752 - val_loss: 0.3755\n",
            "Epoch 13/15\n",
            "\u001b[1m120/120\u001b[0m \u001b[32m━━━━━━━━━━━━━━━━━━━━\u001b[0m\u001b[37m\u001b[0m \u001b[1m5s\u001b[0m 44ms/step - RootMeanSquaredError: 0.1048 - accuracy: 0.9243 - loss: 0.2049 - val_RootMeanSquaredError: 0.1368 - val_accuracy: 0.8750 - val_loss: 0.3886\n",
            "Epoch 14/15\n",
            "\u001b[1m120/120\u001b[0m \u001b[32m━━━━━━━━━━━━━━━━━━━━\u001b[0m\u001b[37m\u001b[0m \u001b[1m4s\u001b[0m 31ms/step - RootMeanSquaredError: 0.1031 - accuracy: 0.9268 - loss: 0.1978 - val_RootMeanSquaredError: 0.1367 - val_accuracy: 0.8756 - val_loss: 0.3924\n",
            "Epoch 15/15\n",
            "\u001b[1m120/120\u001b[0m \u001b[32m━━━━━━━━━━━━━━━━━━━━\u001b[0m\u001b[37m\u001b[0m \u001b[1m4s\u001b[0m 36ms/step - RootMeanSquaredError: 0.1007 - accuracy: 0.9312 - loss: 0.1893 - val_RootMeanSquaredError: 0.1352 - val_accuracy: 0.8775 - val_loss: 0.3901\n"
          ]
        },
        {
          "output_type": "execute_result",
          "data": {
            "text/plain": [
              "<keras.src.callbacks.history.History at 0x7ef104d243d0>"
            ]
          },
          "metadata": {},
          "execution_count": 124
        }
      ]
    },
    {
      "cell_type": "markdown",
      "source": [
        "Проведемо **крос-валідацію** моделі з найкращими гіперпараметрами"
      ],
      "metadata": {
        "id": "vtI1GnivtwdY"
      }
    },
    {
      "cell_type": "code",
      "source": [
        "best_model_losses, best_model_accuracies, best_model_rmses, best_model_train_times = cross_validate(\n",
        "  x_train_float, y_train_oh,\n",
        "  lambda: create_basic_model_with_best_hyperparams(),\n",
        "  batch_size=best_batch_size,\n",
        "  number_of_epochs=best_epochs_number)\n",
        "\n",
        "display_cross_validation_results(best_model_losses, best_model_accuracies, best_model_rmses, best_model_train_times)"
      ],
      "metadata": {
        "colab": {
          "base_uri": "https://localhost:8080/"
        },
        "id": "9bTWM9UV5CXF",
        "outputId": "f4471145-02f9-432d-f41b-ad2e4be3960b"
      },
      "execution_count": 125,
      "outputs": [
        {
          "output_type": "stream",
          "name": "stdout",
          "text": [
            "\u001b[1m24/24\u001b[0m \u001b[32m━━━━━━━━━━━━━━━━━━━━\u001b[0m\u001b[37m\u001b[0m \u001b[1m1s\u001b[0m 14ms/step - RootMeanSquaredError: 0.1320 - accuracy: 0.8821 - loss: 0.3600\n",
            "\u001b[1m24/24\u001b[0m \u001b[32m━━━━━━━━━━━━━━━━━━━━\u001b[0m\u001b[37m\u001b[0m \u001b[1m0s\u001b[0m 13ms/step - RootMeanSquaredError: 0.1288 - accuracy: 0.8886 - loss: 0.3524\n",
            "\u001b[1m24/24\u001b[0m \u001b[32m━━━━━━━━━━━━━━━━━━━━\u001b[0m\u001b[37m\u001b[0m \u001b[1m1s\u001b[0m 14ms/step - RootMeanSquaredError: 0.1299 - accuracy: 0.8847 - loss: 0.3451\n",
            "\u001b[1m24/24\u001b[0m \u001b[32m━━━━━━━━━━━━━━━━━━━━\u001b[0m\u001b[37m\u001b[0m \u001b[1m0s\u001b[0m 13ms/step - RootMeanSquaredError: 0.1312 - accuracy: 0.8845 - loss: 0.3685\n",
            "\u001b[1m24/24\u001b[0m \u001b[32m━━━━━━━━━━━━━━━━━━━━\u001b[0m\u001b[37m\u001b[0m \u001b[1m0s\u001b[0m 12ms/step - RootMeanSquaredError: 0.1350 - accuracy: 0.8756 - loss: 0.3829\n",
            "\n",
            "\n",
            "Losses:  [0.36562520265579224, 0.35139909386634827, 0.3371163606643677, 0.3692191243171692, 0.3856426179409027]\n",
            "Mean loss 0.361800479888916\n",
            "Standard deviation of losses: 0.018409283727025407\n",
            "\n",
            "Accuracies:  [0.8802499771118164, 0.8899999856948853, 0.8880833387374878, 0.8838333487510681, 0.8760833144187927]\n",
            "Mean accuracy 0.8836499929428101\n",
            "Standard deviation of accuracy: 0.005675061977103176\n",
            "\n",
            "RMSEs:  [0.13250817358493805, 0.12839210033416748, 0.12829728424549103, 0.13216960430145264, 0.13485844433307648]\n",
            "Mean RMSE 0.13124512135982513\n",
            "Standard deviation of RMSE: 0.002843217594875528\n",
            "\n",
            "Mean train time:  52.067362260818484  seconds\n"
          ]
        }
      ]
    },
    {
      "cell_type": "markdown",
      "source": [
        "**Висновок про перенавчання**\n",
        "\n",
        "Як бачимо з результатів крос-валідації, модель є досить точною (точність 88.36%).\n",
        "\n",
        "Проте, можна побачити, що під час навчання, похибка (RMSE) на валідаційних даних зменшується разом із похибкою на тренувальних даних ВКЛЮЧНО до 6-ї епохи. Те саме із функцією втрат. Аналогічно, точність зростає лише по 6-ту епоху. Починаючи з сьомої епохи, значення згаданих показників для валідаційних даних то зростають, то спадають. З цього можна зробити висновок, що в моделі присутнє перенавчання, починаючи із сьомої епохи.\n",
        "\n",
        "Але, зважаючи на те, що на останній епосі різниця показників для тренувальних та валідаційних даних невелика (для похибки = 0.0345, для точності = 0.0537), а також зважаючи на високу точність моделі, можна зробити висновок, що перенавчання невелике. Перенавчання могло виникунути через завелику кількість епох, чи завелику кількість шарів та нейронів.\n",
        "\n",
        "Для цієї моделі **реально** позбутись чи запобігти перенавчання. Для цього можна зробити наступне:\n",
        "- Зменшити кількість епох до шести\n",
        "- Використати регуляризацію\n",
        "- Збільшити кількість тренувальних даних\n",
        "- Зменшити кількість шарів чи нейронів\n",
        "- Застосувати раннє зупинення (зупинення навчання, коли точність на валідаційних даних починає зменшуватись)\n",
        "- Зменшити швидкість навчання (Learning Rate)."
      ],
      "metadata": {
        "id": "OH4YwPGjtwaH"
      }
    },
    {
      "cell_type": "markdown",
      "source": [
        "### №7 Застосування моделі в робочому режимі"
      ],
      "metadata": {
        "id": "KGLvAWLNOD1q"
      }
    },
    {
      "cell_type": "markdown",
      "source": [
        "Використаємо модель в робочому режимі на деяких валідаційних даних:"
      ],
      "metadata": {
        "id": "e2lOzN_YR6we"
      }
    },
    {
      "cell_type": "markdown",
      "source": [
        "**Приклад №1**"
      ],
      "metadata": {
        "id": "_x18gAhjWgaP"
      }
    },
    {
      "cell_type": "code",
      "source": [
        "img1 = x_val[1]\n",
        "img1"
      ],
      "metadata": {
        "colab": {
          "base_uri": "https://localhost:8080/",
          "height": 69
        },
        "id": "jSootm-7WCcG",
        "outputId": "fd52f6e2-3fbf-4cba-abf7-afd72177d404"
      },
      "execution_count": 130,
      "outputs": [
        {
          "output_type": "execute_result",
          "data": {
            "text/plain": [
              "array([[  0,   0,   0,   0,   0,   0,   0,   0,   0,   0,  13,  67,   0,\n",
              "          0,   0,   0,  50,  38,   0,   0,   0,   0,   0,   0,   0,   0,\n",
              "          0,   0],\n",
              "       [  0,   0,   0,   0,   0,   0,   0,   8, 120, 209, 226, 247, 237,\n",
              "        255, 255, 255, 247, 238, 235, 172,  72,   0,   0,   0,   0,   0,\n",
              "          0,   0],\n",
              "       [  0,   0,   0,   0,   0,   0, 137, 239, 252, 243, 234, 229, 238,\n",
              "        244, 246, 240, 230, 232, 239, 248, 251, 194,   0,   0,   0,   0,\n",
              "          0,   0],\n",
              "       [  0,   0,   0,   0,   0, 102, 255, 231, 228, 227, 228, 233, 230,\n",
              "        230, 229, 228, 232, 232, 231, 227, 224, 252, 179,   0,   0,   0,\n",
              "          0,   0],\n",
              "       [  0,   0,   0,   0,   0, 233, 241, 229, 231, 255, 255, 238, 231,\n",
              "        227, 238, 246, 228, 230, 227, 234, 235, 229, 241,  20,   0,   0,\n",
              "          0,   0],\n",
              "       [  0,   0,   0,   0,   0, 248, 241, 231, 255, 149,  47, 252, 228,\n",
              "        255, 242, 216, 238, 232, 255, 228, 220, 234, 250,  54,   0,   0,\n",
              "          0,   0],\n",
              "       [  0,   0,   0,   0,   0, 255, 240, 232, 255,  15,   0, 255, 237,\n",
              "        191,   0,   0, 214, 255,  13, 123, 255, 234, 252, 114,   0,   0,\n",
              "          0,   0],\n",
              "       [  0,   0,   0,   0,   6, 255, 238, 239, 255, 177,   0, 255, 255,\n",
              "          0, 130, 116,  47,  65,  43,  37, 255, 236, 249, 162,   0,   0,\n",
              "          0,   0],\n",
              "       [  0,   0,   0,   0,  32, 255, 236, 245, 255, 204,   0, 255,  84,\n",
              "          0,  37,  28,  31,   0,  25,  13, 255, 236, 249, 199,   0,   0,\n",
              "          0,   0],\n",
              "       [  0,   0,   0,   0,  53, 255, 236, 250, 250, 231,   2, 255,  21,\n",
              "          0, 221, 255, 236,  54, 245, 198, 243, 238, 245, 223,   0,   0,\n",
              "          0,   0],\n",
              "       [  0,   0,   0,   0,  80, 255, 237, 250, 240, 255,   0,   0,  39,\n",
              "        157,   0,   0, 215,  94,  20, 126, 255, 237, 239, 250,   0,   0,\n",
              "          0,   0],\n",
              "       [  0,   0,   0,   0, 101, 255, 235, 253, 244, 243, 133, 138, 208,\n",
              "        255, 201, 214, 255, 230,   7, 174, 255, 240, 238, 255,   0,   0,\n",
              "          0,   0],\n",
              "       [  0,   0,   0,   0, 126, 255, 233, 255, 248, 233, 255, 255, 240,\n",
              "        232, 243, 243, 231, 251, 255, 255, 254, 243, 238, 255,   3,   0,\n",
              "          0,   0],\n",
              "       [  0,   0,   0,   0, 147, 255, 233, 249, 181, 243, 227, 224, 230,\n",
              "        234, 230, 230, 235, 228, 235, 222, 207, 255, 236, 255,  35,   0,\n",
              "          0,   0],\n",
              "       [  0,   0,   0,   0, 163, 255, 245, 221,  86, 255, 233, 233, 235,\n",
              "        236, 234, 234, 234, 232, 242, 231, 125, 255, 236, 255,  55,   0,\n",
              "          0,   0],\n",
              "       [  0,   0,   0,   0, 181, 254, 255, 200,  69, 255, 228, 232, 234,\n",
              "        235, 234, 234, 233, 235, 241, 237,  70, 255, 235, 246,  57,   0,\n",
              "          0,   0],\n",
              "       [  0,   0,   0,   0, 197, 247, 255, 188, 110, 255, 224, 233, 234,\n",
              "        234, 234, 234, 234, 234, 240, 253,  69, 255, 236, 248,  77,   0,\n",
              "          0,   0],\n",
              "       [  0,   0,   0,   0, 200, 246, 255, 149, 145, 255, 223, 235, 234,\n",
              "        235, 235, 235, 234, 237, 233, 255,  47, 255, 239, 249,  98,   0,\n",
              "          0,   0],\n",
              "       [  0,   0,   0,   0, 204, 243, 255, 111, 173, 255, 227, 235, 235,\n",
              "        236, 235, 235, 235, 239, 229, 255,  19, 227, 246, 249, 110,   0,\n",
              "          0,   0],\n",
              "       [  0,   0,   0,   0, 196, 240, 255, 109, 213, 250, 229, 235, 235,\n",
              "        236, 235, 237, 236, 237, 226, 255,  55, 203, 251, 245, 120,   0,\n",
              "          0,   0],\n",
              "       [  0,   0,   0,   0, 192, 243, 255, 114, 232, 240, 232, 235, 235,\n",
              "        236, 234, 237, 236, 235, 229, 255, 134, 171, 252, 244, 137,   0,\n",
              "          0,   0],\n",
              "       [  0,   0,   0,   0, 189, 251, 255, 154, 238, 233, 236, 234, 235,\n",
              "        236, 235, 238, 236, 235, 232, 255, 166, 125, 255, 243, 142,   0,\n",
              "          0,   0],\n",
              "       [  0,   0,   0,   0, 183, 252, 255, 171, 247, 232, 234, 234, 233,\n",
              "        233, 232, 234, 233, 234, 233, 240, 223, 128, 255, 242, 151,   0,\n",
              "          0,   0],\n",
              "       [  0,   0,   0,   0, 178, 243, 255,  57, 238, 241, 238, 238, 238,\n",
              "        237, 236, 237, 237, 240, 237, 254, 176,  52, 255, 239, 157,   0,\n",
              "          0,   0],\n",
              "       [  0,   0,   0,   0, 188, 240, 250,  62, 218, 255, 220, 222, 222,\n",
              "        222, 223, 223, 224, 222, 218, 255, 154,  32, 255, 236, 188,   0,\n",
              "          0,   0],\n",
              "       [  0,   0,   0,   0, 130, 245, 242,  24,   0,   0,   0,   0,   0,\n",
              "          0,   0,   0,   0,   0,   0,   0,   0,  34, 242, 244, 135,   0,\n",
              "          0,   0],\n",
              "       [  0,   0,   0,   0,  76, 255, 249,  22,   0,   0,   0,   0,   0,\n",
              "          0,   0,   0,   0,   0,   0,   0,   0,  39, 249, 255, 123,   0,\n",
              "          0,   0],\n",
              "       [  0,   0,   0,   0,  49, 205, 197,  11,   0,   4,   1,   2,   2,\n",
              "          2,   2,   2,   2,   2,   2,   3,   0,   3, 174, 189,  67,   0,\n",
              "          0,   0]], dtype=uint8)"
            ],
            "text/html": [
              "<style>\n",
              "      .ndarray_repr .ndarray_raw_data {\n",
              "        display: none;\n",
              "      }\n",
              "      .ndarray_repr.show_array .ndarray_raw_data {\n",
              "        display: block;\n",
              "      }\n",
              "      .ndarray_repr.show_array .ndarray_image_preview {\n",
              "        display: none;\n",
              "      }\n",
              "      </style>\n",
              "      <div id=\"id-5ab246a3-4c88-45d3-98f0-3f3c072d1712\" class=\"ndarray_repr\"><pre>ndarray (28, 28) <button style=\"padding: 0 2px;\">show data</button></pre><img src=\"data:image/png;base64,iVBORw0KGgoAAAANSUhEUgAAABwAAAAcCAAAAABXZoBIAAACDUlEQVR4nGXSy2tTURDH8e953LxMnxpobaCltRIf0CIodCmCuBFX/gv+AeJCdCcIunEpuHChrgQRBEU3IrgoPkCIC8FiqZZUk/Q2aUiax809d1zYm1Kc5fnwmzkMA4MaOgdw6ij/Vep6cb2zJSKd2uazC/vtbj1sVjdqrfb273K923//71UBcOVB2YnyHCIWCV3+9cU9rKRaeoJ6LzyQqmmXVEF2zgc0ACPoifuLwy5v1zM6HzS89OzeSNkuywiy9Q6+ydBNqYZXB5aQWl1eIMKtawtnT8yL33sMYAEOE6WZgss86ZjiZAuYHyRPix8Ef7TkWBX/zM5ys7azRvyhKRTtiUiNP5xTm4XpN1kJpgZtc0TGtm575xdODhXuPF3ERN4AJ4m0bdygUTlOOddFTIRxu21zELzNlH61dbNpK/5aMRsxE88cJVt6lE2kPW2t2GT6OXAoxnHJbNbpiwiIkcRHpKMHyR6tY4QKASUyKig9SBrh+xyiUUpherqKUbkYrWMlj0UpUDqkVEqSjbHriAp9DaBV5DhS9sJMjKHBO9g2gEBkuPRTyViMLkUh0bMCSoFh5qsRL8ZAMZaWiMi50IlqLBkkHWO/w71O2lrPWmMTdrj4EpeId5txfc+fX9WgUFE4XvVx0zEuL3VX9t3ybDP1OcZPmSDad8ZeMtGKceNLdwfr1C4p9+PVyAfgL1Aq3/RYjgsXAAAAAElFTkSuQmCC\" class=\"ndarray_image_preview\" /><pre class=\"ndarray_raw_data\">array([[  0,   0,   0,   0,   0,   0,   0,   0,   0,   0,  13,  67,   0,\n",
              "          0,   0,   0,  50,  38,   0,   0,   0,   0,   0,   0,   0,   0,\n",
              "          0,   0],\n",
              "       [  0,   0,   0,   0,   0,   0,   0,   8, 120, 209, 226, 247, 237,\n",
              "        255, 255, 255, 247, 238, 235, 172,  72,   0,   0,   0,   0,   0,\n",
              "          0,   0],\n",
              "       [  0,   0,   0,   0,   0,   0, 137, 239, 252, 243, 234, 229, 238,\n",
              "        244, 246, 240, 230, 232, 239, 248, 251, 194,   0,   0,   0,   0,\n",
              "          0,   0],\n",
              "       [  0,   0,   0,   0,   0, 102, 255, 231, 228, 227, 228, 233, 230,\n",
              "        230, 229, 228, 232, 232, 231, 227, 224, 252, 179,   0,   0,   0,\n",
              "          0,   0],\n",
              "       [  0,   0,   0,   0,   0, 233, 241, 229, 231, 255, 255, 238, 231,\n",
              "        227, 238, 246, 228, 230, 227, 234, 235, 229, 241,  20,   0,   0,\n",
              "          0,   0],\n",
              "       [  0,   0,   0,   0,   0, 248, 241, 231, 255, 149,  47, 252, 228,\n",
              "        255, 242, 216, 238, 232, 255, 228, 220, 234, 250,  54,   0,   0,\n",
              "          0,   0],\n",
              "       [  0,   0,   0,   0,   0, 255, 240, 232, 255,  15,   0, 255, 237,\n",
              "        191,   0,   0, 214, 255,  13, 123, 255, 234, 252, 114,   0,   0,\n",
              "          0,   0],\n",
              "       [  0,   0,   0,   0,   6, 255, 238, 239, 255, 177,   0, 255, 255,\n",
              "          0, 130, 116,  47,  65,  43,  37, 255, 236, 249, 162,   0,   0,\n",
              "          0,   0],\n",
              "       [  0,   0,   0,   0,  32, 255, 236, 245, 255, 204,   0, 255,  84,\n",
              "          0,  37,  28,  31,   0,  25,  13, 255, 236, 249, 199,   0,   0,\n",
              "          0,   0],\n",
              "       [  0,   0,   0,   0,  53, 255, 236, 250, 250, 231,   2, 255,  21,\n",
              "          0, 221, 255, 236,  54, 245, 198, 243, 238, 245, 223,   0,   0,\n",
              "          0,   0],\n",
              "       [  0,   0,   0,   0,  80, 255, 237, 250, 240, 255,   0,   0,  39,\n",
              "        157,   0,   0, 215,  94,  20, 126, 255, 237, 239, 250,   0,   0,\n",
              "          0,   0],\n",
              "       [  0,   0,   0,   0, 101, 255, 235, 253, 244, 243, 133, 138, 208,\n",
              "        255, 201, 214, 255, 230,   7, 174, 255, 240, 238, 255,   0,   0,\n",
              "          0,   0],\n",
              "       [  0,   0,   0,   0, 126, 255, 233, 255, 248, 233, 255, 255, 240,\n",
              "        232, 243, 243, 231, 251, 255, 255, 254, 243, 238, 255,   3,   0,\n",
              "          0,   0],\n",
              "       [  0,   0,   0,   0, 147, 255, 233, 249, 181, 243, 227, 224, 230,\n",
              "        234, 230, 230, 235, 228, 235, 222, 207, 255, 236, 255,  35,   0,\n",
              "          0,   0],\n",
              "       [  0,   0,   0,   0, 163, 255, 245, 221,  86, 255, 233, 233, 235,\n",
              "        236, 234, 234, 234, 232, 242, 231, 125, 255, 236, 255,  55,   0,\n",
              "          0,   0],\n",
              "       [  0,   0,   0,   0, 181, 254, 255, 200,  69, 255, 228, 232, 234,\n",
              "        235, 234, 234, 233, 235, 241, 237,  70, 255, 235, 246,  57,   0,\n",
              "          0,   0],\n",
              "       [  0,   0,   0,   0, 197, 247, 255, 188, 110, 255, 224, 233, 234,\n",
              "        234, 234, 234, 234, 234, 240, 253,  69, 255, 236, 248,  77,   0,\n",
              "          0,   0],\n",
              "       [  0,   0,   0,   0, 200, 246, 255, 149, 145, 255, 223, 235, 234,\n",
              "        235, 235, 235, 234, 237, 233, 255,  47, 255, 239, 249,  98,   0,\n",
              "          0,   0],\n",
              "       [  0,   0,   0,   0, 204, 243, 255, 111, 173, 255, 227, 235, 235,\n",
              "        236, 235, 235, 235, 239, 229, 255,  19, 227, 246, 249, 110,   0,\n",
              "          0,   0],\n",
              "       [  0,   0,   0,   0, 196, 240, 255, 109, 213, 250, 229, 235, 235,\n",
              "        236, 235, 237, 236, 237, 226, 255,  55, 203, 251, 245, 120,   0,\n",
              "          0,   0],\n",
              "       [  0,   0,   0,   0, 192, 243, 255, 114, 232, 240, 232, 235, 235,\n",
              "        236, 234, 237, 236, 235, 229, 255, 134, 171, 252, 244, 137,   0,\n",
              "          0,   0],\n",
              "       [  0,   0,   0,   0, 189, 251, 255, 154, 238, 233, 236, 234, 235,\n",
              "        236, 235, 238, 236, 235, 232, 255, 166, 125, 255, 243, 142,   0,\n",
              "          0,   0],\n",
              "       [  0,   0,   0,   0, 183, 252, 255, 171, 247, 232, 234, 234, 233,\n",
              "        233, 232, 234, 233, 234, 233, 240, 223, 128, 255, 242, 151,   0,\n",
              "          0,   0],\n",
              "       [  0,   0,   0,   0, 178, 243, 255,  57, 238, 241, 238, 238, 238,\n",
              "        237, 236, 237, 237, 240, 237, 254, 176,  52, 255, 239, 157,   0,\n",
              "          0,   0],\n",
              "       [  0,   0,   0,   0, 188, 240, 250,  62, 218, 255, 220, 222, 222,\n",
              "        222, 223, 223, 224, 222, 218, 255, 154,  32, 255, 236, 188,   0,\n",
              "          0,   0],\n",
              "       [  0,   0,   0,   0, 130, 245, 242,  24,   0,   0,   0,   0,   0,\n",
              "          0,   0,   0,   0,   0,   0,   0,   0,  34, 242, 244, 135,   0,\n",
              "          0,   0],\n",
              "       [  0,   0,   0,   0,  76, 255, 249,  22,   0,   0,   0,   0,   0,\n",
              "          0,   0,   0,   0,   0,   0,   0,   0,  39, 249, 255, 123,   0,\n",
              "          0,   0],\n",
              "       [  0,   0,   0,   0,  49, 205, 197,  11,   0,   4,   1,   2,   2,\n",
              "          2,   2,   2,   2,   2,   2,   3,   0,   3, 174, 189,  67,   0,\n",
              "          0,   0]], dtype=uint8)</pre></div><script>\n",
              "      (() => {\n",
              "      const titles = ['show data', 'hide data'];\n",
              "      let index = 0\n",
              "      document.querySelector('#id-5ab246a3-4c88-45d3-98f0-3f3c072d1712 button').onclick = (e) => {\n",
              "        document.querySelector('#id-5ab246a3-4c88-45d3-98f0-3f3c072d1712').classList.toggle('show_array');\n",
              "        index = (++index) % 2;\n",
              "        document.querySelector('#id-5ab246a3-4c88-45d3-98f0-3f3c072d1712 button').textContent = titles[index];\n",
              "        e.preventDefault();\n",
              "        e.stopPropagation();\n",
              "      }\n",
              "      })();\n",
              "    </script>"
            ]
          },
          "metadata": {},
          "execution_count": 130
        }
      ]
    },
    {
      "cell_type": "code",
      "source": [
        "prediction1 = best_hyperparams_model.predict(x_val_float.reshape(-1, 28*28)[1:2])\n",
        "print(prediction1)"
      ],
      "metadata": {
        "colab": {
          "base_uri": "https://localhost:8080/"
        },
        "id": "9z8rUIxNWBEQ",
        "outputId": "e7964450-6eb5-4ac7-b6ac-c632848fd10b"
      },
      "execution_count": 131,
      "outputs": [
        {
          "output_type": "stream",
          "name": "stdout",
          "text": [
            "\u001b[1m1/1\u001b[0m \u001b[32m━━━━━━━━━━━━━━━━━━━━\u001b[0m\u001b[37m\u001b[0m \u001b[1m0s\u001b[0m 149ms/step\n",
            "[[7.2191074e-04 2.9910223e-09 9.9841881e-01 2.9324212e-09 3.3872147e-04\n",
            "  4.1811216e-10 5.2062183e-04 7.2458439e-10 3.0551894e-10 7.7331802e-10]]\n"
          ]
        }
      ]
    },
    {
      "cell_type": "markdown",
      "source": [
        "Отримали, що ця річ належить до категорії 2 (пуловер) з ймовірністю `99.98%`. Це відповідає дійсності, бо річ, що зображена на картинці, є пуловером."
      ],
      "metadata": {
        "id": "UbhtcKEcW9J8"
      }
    },
    {
      "cell_type": "markdown",
      "source": [
        "**Приклад №2**"
      ],
      "metadata": {
        "id": "muTg58ZPXsaL"
      }
    },
    {
      "cell_type": "code",
      "source": [
        "img2 = x_val[2]\n",
        "img2"
      ],
      "metadata": {
        "colab": {
          "base_uri": "https://localhost:8080/",
          "height": 69
        },
        "id": "mb0Luu8JDgIE",
        "outputId": "299e1f3d-88e6-4e7e-d506-f5027408a57a"
      },
      "execution_count": 132,
      "outputs": [
        {
          "output_type": "execute_result",
          "data": {
            "text/plain": [
              "array([[  0,   0,   0,   0,   0,   0,   0,   0,   1,   0,  67, 177, 129,\n",
              "        153, 117, 129, 146, 141, 175,   0,   0,   0,   0,   0,   0,   0,\n",
              "          0,   0],\n",
              "       [  0,   0,   0,   0,   0,   0,   0,   0,   2,   0, 196, 255, 255,\n",
              "        255, 241, 251, 255, 245, 255,  76,   0,   0,   0,   0,   0,   0,\n",
              "          0,   0],\n",
              "       [  0,   0,   0,   0,   0,   0,   0,   0,   0,   0, 243, 237, 217,\n",
              "        228, 231, 222, 218, 219, 255, 116,   0,   0,   0,   0,   0,   0,\n",
              "          0,   0],\n",
              "       [  0,   0,   0,   0,   0,   0,   0,   0,   0,   0, 255, 235, 231,\n",
              "        233, 226, 225, 229, 222, 255, 145,   0,   0,   0,   0,   0,   0,\n",
              "          0,   0],\n",
              "       [  0,   0,   0,   0,   0,   0,   0,   0,   0,  23, 255, 230, 229,\n",
              "        233, 229, 225, 227, 221, 241, 167,   0,   0,   0,   0,   0,   0,\n",
              "          0,   0],\n",
              "       [  0,   0,   0,   0,   0,   0,   0,   0,   0,  67, 255, 225, 234,\n",
              "        231, 226, 227, 228, 224, 234, 187,   0,   0,   0,   0,   0,   0,\n",
              "          0,   0],\n",
              "       [  0,   0,   0,   0,   0,   0,   0,   0,   0, 114, 249, 217, 235,\n",
              "        238, 245, 227, 227, 225, 241, 176,   0,   0,   0,   0,   0,   0,\n",
              "          0,   0],\n",
              "       [  0,   0,   0,   0,   0,   0,   0,   0,   0, 167, 247, 227, 231,\n",
              "        250, 200, 248, 231, 224, 251, 147,   0,   0,   0,   0,   0,   0,\n",
              "          0,   0],\n",
              "       [  0,   0,   0,   0,   0,   0,   0,   0,   0, 208, 242, 225, 243,\n",
              "        225,   0, 255, 233, 226, 255, 129,   0,   0,   0,   0,   0,   0,\n",
              "          0,   0],\n",
              "       [  0,   0,   0,   0,   0,   0,   0,   0,   0, 223, 238, 223, 255,\n",
              "        161,   0, 255, 236, 223, 255, 135,   0,   0,   0,   0,   0,   0,\n",
              "          0,   0],\n",
              "       [  0,   0,   0,   0,   0,   0,   0,   0,   0, 245, 235, 222, 255,\n",
              "         72,   0, 248, 254, 217, 255, 145,   0,   0,   0,   0,   0,   0,\n",
              "          0,   0],\n",
              "       [  0,   0,   0,   0,   0,   0,   0,   0,   0, 255, 233, 226, 255,\n",
              "          7,   0, 191, 248, 220, 255, 126,   0,   0,   0,   0,   0,   0,\n",
              "          0,   0],\n",
              "       [  0,   0,   0,   0,   0,   0,   0,   0,   0, 255, 233, 231, 251,\n",
              "          0,   0, 159, 251, 221, 255, 111,   0,   0,   0,   0,   0,   0,\n",
              "          0,   0],\n",
              "       [  0,   0,   0,   0,   0,   0,   0,   0,   0, 255, 232, 236, 216,\n",
              "          0,   0, 131, 253, 220, 255, 111,   0,   0,   0,   0,   0,   0,\n",
              "          0,   0],\n",
              "       [  0,   0,   0,   0,   0,   0,   0,   0,   0, 255, 228, 243, 172,\n",
              "          0,   0,  57, 249, 222, 255, 111,   0,   0,   0,   0,   0,   0,\n",
              "          0,   0],\n",
              "       [  0,   0,   0,   0,   0,   0,   0,   0,   0, 255, 230, 244, 139,\n",
              "          0,   0,  10, 255, 227, 255, 100,   0,   0,   0,   0,   0,   0,\n",
              "          0,   0],\n",
              "       [  0,   0,   0,   0,   0,   0,   0,   0,   0, 227, 237, 242, 113,\n",
              "          0,   0,   6, 255, 230, 255,  89,   0,   0,   0,   0,   0,   0,\n",
              "          0,   0],\n",
              "       [  0,   0,   0,   0,   0,   0,   0,   0,   0, 204, 239, 245, 151,\n",
              "          0,   0,   0, 255, 227, 255,  99,   0,   0,   0,   0,   0,   0,\n",
              "          0,   0],\n",
              "       [  0,   0,   0,   0,   0,   0,   0,   0,   0, 151, 245, 238, 198,\n",
              "          0,   0,   0, 255, 234, 255,  92,   0,   0,   0,   0,   0,   0,\n",
              "          0,   0],\n",
              "       [  0,   0,   0,   0,   0,   0,   0,   0,   0,  89, 248, 233, 248,\n",
              "          0,   0,   0, 252, 237, 255,  90,   0,   0,   0,   0,   0,   0,\n",
              "          0,   0],\n",
              "       [  0,   0,   0,   0,   0,   0,   0,   0,   0,  31, 240, 229, 226,\n",
              "          0,   0,   0, 239, 238, 255,  92,   0,   0,   0,   0,   0,   0,\n",
              "          0,   0],\n",
              "       [  0,   0,   0,   0,   0,   0,   0,   0,   0,   0, 226, 233, 237,\n",
              "         34,   0,   0, 234, 238, 255,  95,   0,   0,   0,   0,   0,   0,\n",
              "          0,   0],\n",
              "       [  0,   0,   0,   0,   0,   0,   0,   0,   0,   0, 233, 236, 244,\n",
              "         68,   0,   0, 209, 241, 237,  98,   0,   0,   0,   0,   0,   0,\n",
              "          0,   0],\n",
              "       [  0,   0,   0,   0,   0,   0,   0,   0,   1,   0, 152, 242, 245,\n",
              "        128,   0,   0, 198, 241, 238,  81,   0,   0,   0,   0,   0,   0,\n",
              "          0,   0],\n",
              "       [  0,   0,   0,   0,   0,   0,   0,   0,   2,   0,  73, 246, 241,\n",
              "        211,   0,   0, 202, 240, 237,  74,   0,   0,   0,   0,   0,   0,\n",
              "          0,   0],\n",
              "       [  0,   0,   0,   0,   0,   0,   0,   0,   4,   0,   0, 229, 236,\n",
              "        209,   0,   0, 158, 247, 238,  99,   0,   0,   0,   0,   0,   0,\n",
              "          0,   0],\n",
              "       [  0,   0,   0,   0,   0,   0,   0,   0,   1,   0,   0, 199, 255,\n",
              "        247,  58,   0, 161, 255, 252, 119,   0,   0,   0,   0,   0,   0,\n",
              "          0,   0],\n",
              "       [  0,   0,   0,   0,   0,   0,   0,   0,   0,   0,   0,  98, 159,\n",
              "         71,   0,   0,  68, 176, 164,  58,   0,   0,   0,   0,   0,   0,\n",
              "          0,   0]], dtype=uint8)"
            ],
            "text/html": [
              "<style>\n",
              "      .ndarray_repr .ndarray_raw_data {\n",
              "        display: none;\n",
              "      }\n",
              "      .ndarray_repr.show_array .ndarray_raw_data {\n",
              "        display: block;\n",
              "      }\n",
              "      .ndarray_repr.show_array .ndarray_image_preview {\n",
              "        display: none;\n",
              "      }\n",
              "      </style>\n",
              "      <div id=\"id-22bbdefd-c63e-41ca-8eec-f9793a2f3232\" class=\"ndarray_repr\"><pre>ndarray (28, 28) <button style=\"padding: 0 2px;\">show data</button></pre><img src=\"data:image/png;base64,iVBORw0KGgoAAAANSUhEUgAAABwAAAAcCAAAAABXZoBIAAABTklEQVR4nG3SO0sDQRSG4XdmdrMSlwTvWtikEAUhIAgidrY24v/wD1laaCc2WioqsbBRtBAveIkmKJgQNeJmdmdsTCLOfuX3MDDncAS/EXZx9XT0JuzThWX+R3JkrW1o27RL3e43hmLt6vmrfF1h0kEITc7Xqlcx7uII2qAw9n3YxWm0bxIpVDToYrH1LYIBrAiaLs6abByeD3k2W25XXgentAmrc1ZKr+a+zMcm3AeVkHFxOLFsEPW3yLqYNR57HLcUbylLwI8j7pWgkYLWv4UnabvNH4yDC9iJZSpKcQdnGZ+UJTwFpgIxKg1fpJqAFknaKCeZqAgQELl4oPQMkCiMi6Xv+BX4EN2uiw/vXm8BNKiUUQIVFKCqai4KtjJiAZqIegpue/EKeNa6v5Xs1rWBi0CMOZjA48DEPKon1zmwzplYWLvcLLGe/zxsdz/tw3iGAtr0bAAAAABJRU5ErkJggg==\" class=\"ndarray_image_preview\" /><pre class=\"ndarray_raw_data\">array([[  0,   0,   0,   0,   0,   0,   0,   0,   1,   0,  67, 177, 129,\n",
              "        153, 117, 129, 146, 141, 175,   0,   0,   0,   0,   0,   0,   0,\n",
              "          0,   0],\n",
              "       [  0,   0,   0,   0,   0,   0,   0,   0,   2,   0, 196, 255, 255,\n",
              "        255, 241, 251, 255, 245, 255,  76,   0,   0,   0,   0,   0,   0,\n",
              "          0,   0],\n",
              "       [  0,   0,   0,   0,   0,   0,   0,   0,   0,   0, 243, 237, 217,\n",
              "        228, 231, 222, 218, 219, 255, 116,   0,   0,   0,   0,   0,   0,\n",
              "          0,   0],\n",
              "       [  0,   0,   0,   0,   0,   0,   0,   0,   0,   0, 255, 235, 231,\n",
              "        233, 226, 225, 229, 222, 255, 145,   0,   0,   0,   0,   0,   0,\n",
              "          0,   0],\n",
              "       [  0,   0,   0,   0,   0,   0,   0,   0,   0,  23, 255, 230, 229,\n",
              "        233, 229, 225, 227, 221, 241, 167,   0,   0,   0,   0,   0,   0,\n",
              "          0,   0],\n",
              "       [  0,   0,   0,   0,   0,   0,   0,   0,   0,  67, 255, 225, 234,\n",
              "        231, 226, 227, 228, 224, 234, 187,   0,   0,   0,   0,   0,   0,\n",
              "          0,   0],\n",
              "       [  0,   0,   0,   0,   0,   0,   0,   0,   0, 114, 249, 217, 235,\n",
              "        238, 245, 227, 227, 225, 241, 176,   0,   0,   0,   0,   0,   0,\n",
              "          0,   0],\n",
              "       [  0,   0,   0,   0,   0,   0,   0,   0,   0, 167, 247, 227, 231,\n",
              "        250, 200, 248, 231, 224, 251, 147,   0,   0,   0,   0,   0,   0,\n",
              "          0,   0],\n",
              "       [  0,   0,   0,   0,   0,   0,   0,   0,   0, 208, 242, 225, 243,\n",
              "        225,   0, 255, 233, 226, 255, 129,   0,   0,   0,   0,   0,   0,\n",
              "          0,   0],\n",
              "       [  0,   0,   0,   0,   0,   0,   0,   0,   0, 223, 238, 223, 255,\n",
              "        161,   0, 255, 236, 223, 255, 135,   0,   0,   0,   0,   0,   0,\n",
              "          0,   0],\n",
              "       [  0,   0,   0,   0,   0,   0,   0,   0,   0, 245, 235, 222, 255,\n",
              "         72,   0, 248, 254, 217, 255, 145,   0,   0,   0,   0,   0,   0,\n",
              "          0,   0],\n",
              "       [  0,   0,   0,   0,   0,   0,   0,   0,   0, 255, 233, 226, 255,\n",
              "          7,   0, 191, 248, 220, 255, 126,   0,   0,   0,   0,   0,   0,\n",
              "          0,   0],\n",
              "       [  0,   0,   0,   0,   0,   0,   0,   0,   0, 255, 233, 231, 251,\n",
              "          0,   0, 159, 251, 221, 255, 111,   0,   0,   0,   0,   0,   0,\n",
              "          0,   0],\n",
              "       [  0,   0,   0,   0,   0,   0,   0,   0,   0, 255, 232, 236, 216,\n",
              "          0,   0, 131, 253, 220, 255, 111,   0,   0,   0,   0,   0,   0,\n",
              "          0,   0],\n",
              "       [  0,   0,   0,   0,   0,   0,   0,   0,   0, 255, 228, 243, 172,\n",
              "          0,   0,  57, 249, 222, 255, 111,   0,   0,   0,   0,   0,   0,\n",
              "          0,   0],\n",
              "       [  0,   0,   0,   0,   0,   0,   0,   0,   0, 255, 230, 244, 139,\n",
              "          0,   0,  10, 255, 227, 255, 100,   0,   0,   0,   0,   0,   0,\n",
              "          0,   0],\n",
              "       [  0,   0,   0,   0,   0,   0,   0,   0,   0, 227, 237, 242, 113,\n",
              "          0,   0,   6, 255, 230, 255,  89,   0,   0,   0,   0,   0,   0,\n",
              "          0,   0],\n",
              "       [  0,   0,   0,   0,   0,   0,   0,   0,   0, 204, 239, 245, 151,\n",
              "          0,   0,   0, 255, 227, 255,  99,   0,   0,   0,   0,   0,   0,\n",
              "          0,   0],\n",
              "       [  0,   0,   0,   0,   0,   0,   0,   0,   0, 151, 245, 238, 198,\n",
              "          0,   0,   0, 255, 234, 255,  92,   0,   0,   0,   0,   0,   0,\n",
              "          0,   0],\n",
              "       [  0,   0,   0,   0,   0,   0,   0,   0,   0,  89, 248, 233, 248,\n",
              "          0,   0,   0, 252, 237, 255,  90,   0,   0,   0,   0,   0,   0,\n",
              "          0,   0],\n",
              "       [  0,   0,   0,   0,   0,   0,   0,   0,   0,  31, 240, 229, 226,\n",
              "          0,   0,   0, 239, 238, 255,  92,   0,   0,   0,   0,   0,   0,\n",
              "          0,   0],\n",
              "       [  0,   0,   0,   0,   0,   0,   0,   0,   0,   0, 226, 233, 237,\n",
              "         34,   0,   0, 234, 238, 255,  95,   0,   0,   0,   0,   0,   0,\n",
              "          0,   0],\n",
              "       [  0,   0,   0,   0,   0,   0,   0,   0,   0,   0, 233, 236, 244,\n",
              "         68,   0,   0, 209, 241, 237,  98,   0,   0,   0,   0,   0,   0,\n",
              "          0,   0],\n",
              "       [  0,   0,   0,   0,   0,   0,   0,   0,   1,   0, 152, 242, 245,\n",
              "        128,   0,   0, 198, 241, 238,  81,   0,   0,   0,   0,   0,   0,\n",
              "          0,   0],\n",
              "       [  0,   0,   0,   0,   0,   0,   0,   0,   2,   0,  73, 246, 241,\n",
              "        211,   0,   0, 202, 240, 237,  74,   0,   0,   0,   0,   0,   0,\n",
              "          0,   0],\n",
              "       [  0,   0,   0,   0,   0,   0,   0,   0,   4,   0,   0, 229, 236,\n",
              "        209,   0,   0, 158, 247, 238,  99,   0,   0,   0,   0,   0,   0,\n",
              "          0,   0],\n",
              "       [  0,   0,   0,   0,   0,   0,   0,   0,   1,   0,   0, 199, 255,\n",
              "        247,  58,   0, 161, 255, 252, 119,   0,   0,   0,   0,   0,   0,\n",
              "          0,   0],\n",
              "       [  0,   0,   0,   0,   0,   0,   0,   0,   0,   0,   0,  98, 159,\n",
              "         71,   0,   0,  68, 176, 164,  58,   0,   0,   0,   0,   0,   0,\n",
              "          0,   0]], dtype=uint8)</pre></div><script>\n",
              "      (() => {\n",
              "      const titles = ['show data', 'hide data'];\n",
              "      let index = 0\n",
              "      document.querySelector('#id-22bbdefd-c63e-41ca-8eec-f9793a2f3232 button').onclick = (e) => {\n",
              "        document.querySelector('#id-22bbdefd-c63e-41ca-8eec-f9793a2f3232').classList.toggle('show_array');\n",
              "        index = (++index) % 2;\n",
              "        document.querySelector('#id-22bbdefd-c63e-41ca-8eec-f9793a2f3232 button').textContent = titles[index];\n",
              "        e.preventDefault();\n",
              "        e.stopPropagation();\n",
              "      }\n",
              "      })();\n",
              "    </script>"
            ]
          },
          "metadata": {},
          "execution_count": 132
        }
      ]
    },
    {
      "cell_type": "code",
      "source": [
        "prediction2 = best_hyperparams_model.predict(x_val_float.reshape(-1, 28*28)[2:3])\n",
        "print(prediction2)"
      ],
      "metadata": {
        "colab": {
          "base_uri": "https://localhost:8080/"
        },
        "id": "BSVjOrX9VEVA",
        "outputId": "f659b795-0a9a-4de0-88dd-de681468f9f0"
      },
      "execution_count": 133,
      "outputs": [
        {
          "output_type": "stream",
          "name": "stdout",
          "text": [
            "\u001b[1m1/1\u001b[0m \u001b[32m━━━━━━━━━━━━━━━━━━━━\u001b[0m\u001b[37m\u001b[0m \u001b[1m0s\u001b[0m 25ms/step\n",
            "[[2.5403968e-10 1.0000000e+00 3.1372656e-13 2.0168267e-10 4.1134587e-12\n",
            "  2.8190281e-15 6.7048239e-13 1.6468292e-15 2.6925651e-14 6.2949334e-14]]\n"
          ]
        }
      ]
    },
    {
      "cell_type": "markdown",
      "source": [
        "Отримали, що ця річ належить до категорії 1 (брюки) з ймовірністю `100%`. Це відповідає дійсності, бо річ, що зображена на картинці, є брюками."
      ],
      "metadata": {
        "id": "TQUG9FtKYv_m"
      }
    },
    {
      "cell_type": "markdown",
      "source": [
        "**Приклад №3**"
      ],
      "metadata": {
        "id": "aA0usyQ2Y_lm"
      }
    },
    {
      "cell_type": "code",
      "source": [
        "img3 = x_val[10]\n",
        "img3"
      ],
      "metadata": {
        "id": "0t1f8MuKUA_z",
        "colab": {
          "base_uri": "https://localhost:8080/",
          "height": 69
        },
        "outputId": "bed6eaa3-e95d-40aa-b267-4542220d4a30"
      },
      "execution_count": 134,
      "outputs": [
        {
          "output_type": "execute_result",
          "data": {
            "text/plain": [
              "array([[  0,   0,   0,   0,   0,   0,   0,   0,   0,   0,   0, 145, 190,\n",
              "         97, 109, 105, 187,  76,   0,   0,   0,   2,   0,   0,   0,   0,\n",
              "          0,   0],\n",
              "       [  0,   0,   0,   0,   0,   0,   0,   0,   0,  64, 170, 163, 208,\n",
              "        243, 240, 229, 173, 162, 154,  18,   0,   0,   0,   0,   0,   0,\n",
              "          0,   0],\n",
              "       [  0,   0,   0,   0,   0,   0,   0,  39, 158, 196, 149, 191, 199,\n",
              "        223, 243, 186, 191, 170, 155, 162, 126,  22,   0,   0,   0,   0,\n",
              "          0,   0],\n",
              "       [  0,   0,   0,   0,   3,   0, 105, 161, 150, 141, 130, 199, 239,\n",
              "        229, 220, 188, 244, 145, 128, 142, 151, 175,  23,   0,   2,   0,\n",
              "          0,   0],\n",
              "       [  0,   0,   0,   0,   0,   0, 150, 137, 134, 130, 147, 121, 241,\n",
              "        255, 114, 240, 173, 142, 136, 132, 128, 153, 113,   0,   0,   0,\n",
              "          0,   0],\n",
              "       [  0,   0,   0,   0,   0,  17, 157, 129, 146, 149, 137, 141, 177,\n",
              "        200, 200, 207, 134, 145, 142, 140, 132, 129, 140,   3,   0,   0,\n",
              "          0,   0],\n",
              "       [  0,   0,   0,   0,   0,  50, 158, 137, 153, 150, 125, 155, 191,\n",
              "        175, 141, 165, 166, 153, 130, 129, 132, 141, 149,  18,   0,   0,\n",
              "          0,   0],\n",
              "       [  0,   0,   0,   0,   0,  77, 166, 161, 137, 151, 166, 181, 216,\n",
              "        182, 158, 215, 195, 155, 159, 162, 173, 150, 150,  58,   0,   0,\n",
              "          0,   0],\n",
              "       [  0,   0,   0,   0,   0, 104, 159, 170, 140, 132, 182, 198, 208,\n",
              "        175, 136, 174, 169, 147, 155, 121, 188, 162, 142, 101,   0,   0,\n",
              "          0,   0],\n",
              "       [  0,   0,   0,   0,   0, 112, 171, 206, 179, 147, 163, 177, 196,\n",
              "        192, 146, 187, 153, 142, 144, 136, 245, 202, 132, 137,   0,   0,\n",
              "          0,   0],\n",
              "       [  0,   0,   0,   0,   0, 126, 181, 219, 146, 157, 128, 121, 175,\n",
              "        196, 104, 157, 158, 151, 140, 103,  89, 221, 141, 153,   0,   0,\n",
              "          0,   0],\n",
              "       [  0,   0,   0,   0,   0, 157, 175, 216,  55, 175, 153, 151, 188,\n",
              "        214, 126, 204, 159, 145, 145, 116,  71, 212, 154, 155,   0,   0,\n",
              "          0,   0],\n",
              "       [  0,   0,   0,   0,   0, 183, 163, 232,  64, 138, 142, 182, 195,\n",
              "        200, 158, 231, 146, 130, 161, 132, 105, 225, 146, 157,  10,   0,\n",
              "          0,   0],\n",
              "       [  0,   0,   0,   0,   6, 188, 161, 221,  54, 149, 165, 151, 167,\n",
              "        188, 170, 181, 154, 141, 130, 144,  93, 207, 166, 142,  34,   0,\n",
              "          0,   0],\n",
              "       [  0,   0,   0,   0,  42, 182, 165, 236,  29, 146, 170, 141, 166,\n",
              "        208, 124, 162, 173, 154, 132, 140,  97, 194, 153, 161,  47,   0,\n",
              "          0,   0],\n",
              "       [  0,   0,   0,   0,  58, 175, 171, 191,   5, 173, 162, 154, 181,\n",
              "        207, 100, 161, 179, 155, 146, 149,  76, 192, 162, 150,  62,   0,\n",
              "          0,   0],\n",
              "       [  0,   0,   0,   0,  80, 179, 166, 167,  10, 182, 151, 157, 178,\n",
              "        184, 166, 208, 174, 138, 146, 140,  73, 186, 161, 155,  71,   0,\n",
              "          0,   0],\n",
              "       [  0,   0,   0,   0, 100, 165, 171, 138,  51, 194, 157, 133, 187,\n",
              "        196, 166, 198, 163, 129, 142, 134,  73, 191, 154, 155,  79,   0,\n",
              "          0,   0],\n",
              "       [  0,   0,   0,   0, 109, 158, 175, 118,  73, 179, 146, 149, 183,\n",
              "        207, 141, 184, 171, 153, 137, 147,  73, 195, 157, 154,  85,   0,\n",
              "          0,   0],\n",
              "       [  0,   0,   0,   0, 109, 163, 179, 122, 116, 177, 144, 165, 182,\n",
              "        190, 147, 179, 162, 146, 133, 153,  97, 161, 158, 150,  95,   0,\n",
              "          0,   0],\n",
              "       [  0,   0,   0,   0, 107, 158, 167, 163, 105, 137, 161, 163, 203,\n",
              "        199, 149, 181, 167, 161, 147, 147,  99, 166, 157, 141,  99,   0,\n",
              "          0,   0],\n",
              "       [  0,   0,   0,   0, 109, 154, 166, 145,   0,  34,  84,  63, 107,\n",
              "        149, 132, 153, 129, 124, 149,  56,   0, 114, 159, 141,  97,   0,\n",
              "          0,   0],\n",
              "       [  0,   0,   0,   0, 108, 154, 169,  85,   0,   0,   0,   0,   0,\n",
              "          0,   2,   9,   0,   0,   0,   0,   0,  93, 157, 142,  99,   0,\n",
              "          0,   0],\n",
              "       [  0,   0,   0,   0, 101, 153, 169,  80,   0,   3,   0,   1,   0,\n",
              "          0,   0,   0,   0,   0,   0,   1,   0,  80, 155, 144, 105,   0,\n",
              "          0,   0],\n",
              "       [  0,   0,   0,   0, 121, 157, 166,  76,   0,   3,   0,   0,   1,\n",
              "          0,   0,   0,   0,   0,   0,   3,   0,  67, 162, 141, 100,   0,\n",
              "          0,   0],\n",
              "       [  0,   0,   0,   0, 124, 153, 162,  51,   0,   3,   0,   0,   0,\n",
              "          0,   0,   1,   0,   1,   0,   5,   0,  58, 167, 146,  87,   0,\n",
              "          0,   0],\n",
              "       [  0,   0,   0,   0, 122, 165, 181,  54,   0,   5,   0,   0,   0,\n",
              "          0,   0,   0,   0,   0,   0,   5,   0,  54, 170, 140,  75,   0,\n",
              "          0,   0],\n",
              "       [  0,   0,   0,   0,  25,  75,  92,   3,   0,   1,   0,   0,   0,\n",
              "          0,   0,   0,   0,   0,   0,   3,   0,  29, 145, 137,  59,   0,\n",
              "          0,   0]], dtype=uint8)"
            ],
            "text/html": [
              "<style>\n",
              "      .ndarray_repr .ndarray_raw_data {\n",
              "        display: none;\n",
              "      }\n",
              "      .ndarray_repr.show_array .ndarray_raw_data {\n",
              "        display: block;\n",
              "      }\n",
              "      .ndarray_repr.show_array .ndarray_image_preview {\n",
              "        display: none;\n",
              "      }\n",
              "      </style>\n",
              "      <div id=\"id-10c129d9-b2ff-4bd4-a1e1-8dcbe1a770e6\" class=\"ndarray_repr\"><pre>ndarray (28, 28) <button style=\"padding: 0 2px;\">show data</button></pre><img src=\"data:image/png;base64,iVBORw0KGgoAAAANSUhEUgAAABwAAAAcCAAAAABXZoBIAAACNUlEQVR4nE3Sy27TQBQG4H/GHl8SO7ab0CaNSi9UtGmJKlWwYId4BBYsWLOBFwDxFt1wWbGoeAHEhh1IIMoCJEBqQUCrcrNbN2nS2LEdj20W1A6znE9n5hydn2B8NtqbGr+28QygKQCAFHTldtQ+l/hbfni3e3qV49Kd8x9WlHrtDXP78reHhwAACgACbt0L33aUZemAXrJ/HzUeTYHmmKDt9HzrKZ2+f/F5ogwPDm8gBSACACzZtQSv9mLq+t6XsiSGTlNI8krME0UmXqViv96eUzwfmmoUf6Kp1HukNd2QrfUZOjPfUsnyfxipQse0wuhw50/IdwwtXB2joi0uGR3Xs0p6L/aNy8vDxTFWSvpe6fuWK27/YCrfu1lVzTHOjpInE42z+sTkGhkxvRvodIzTnql+9Wflk7nmoG+aC3pISzlKLPWH5an9X572Xinva1631q/nuDgSDTthw6z2sVPVKRcHg6qeoxlJn5xmqBuZk0mkorqp6hs5Toqxw1RfSA6ursXHCJJRxtQcayfsZ0uTHFXD0A/4CCyCkqMaiUeTfd/kZftEqcc6RCGTilGYKK6mqZkdS3EQcam+S3gxShp7Lf+zlZ5RKWVGZURZFoj5PinPug8W1t0LK8eiEzc2t4z2eNkZhFfY3cVLUDkAADclRUyiDDEEECANABAMUlo0VBMTDiA7jSLFQE7iIn2c2/+eBwEBRcDYoOhWqwqnQ2XIAHBh5OUNPV633oEX2U9h20kPwF+B4OJ1nuRI+QAAAABJRU5ErkJggg==\" class=\"ndarray_image_preview\" /><pre class=\"ndarray_raw_data\">array([[  0,   0,   0,   0,   0,   0,   0,   0,   0,   0,   0, 145, 190,\n",
              "         97, 109, 105, 187,  76,   0,   0,   0,   2,   0,   0,   0,   0,\n",
              "          0,   0],\n",
              "       [  0,   0,   0,   0,   0,   0,   0,   0,   0,  64, 170, 163, 208,\n",
              "        243, 240, 229, 173, 162, 154,  18,   0,   0,   0,   0,   0,   0,\n",
              "          0,   0],\n",
              "       [  0,   0,   0,   0,   0,   0,   0,  39, 158, 196, 149, 191, 199,\n",
              "        223, 243, 186, 191, 170, 155, 162, 126,  22,   0,   0,   0,   0,\n",
              "          0,   0],\n",
              "       [  0,   0,   0,   0,   3,   0, 105, 161, 150, 141, 130, 199, 239,\n",
              "        229, 220, 188, 244, 145, 128, 142, 151, 175,  23,   0,   2,   0,\n",
              "          0,   0],\n",
              "       [  0,   0,   0,   0,   0,   0, 150, 137, 134, 130, 147, 121, 241,\n",
              "        255, 114, 240, 173, 142, 136, 132, 128, 153, 113,   0,   0,   0,\n",
              "          0,   0],\n",
              "       [  0,   0,   0,   0,   0,  17, 157, 129, 146, 149, 137, 141, 177,\n",
              "        200, 200, 207, 134, 145, 142, 140, 132, 129, 140,   3,   0,   0,\n",
              "          0,   0],\n",
              "       [  0,   0,   0,   0,   0,  50, 158, 137, 153, 150, 125, 155, 191,\n",
              "        175, 141, 165, 166, 153, 130, 129, 132, 141, 149,  18,   0,   0,\n",
              "          0,   0],\n",
              "       [  0,   0,   0,   0,   0,  77, 166, 161, 137, 151, 166, 181, 216,\n",
              "        182, 158, 215, 195, 155, 159, 162, 173, 150, 150,  58,   0,   0,\n",
              "          0,   0],\n",
              "       [  0,   0,   0,   0,   0, 104, 159, 170, 140, 132, 182, 198, 208,\n",
              "        175, 136, 174, 169, 147, 155, 121, 188, 162, 142, 101,   0,   0,\n",
              "          0,   0],\n",
              "       [  0,   0,   0,   0,   0, 112, 171, 206, 179, 147, 163, 177, 196,\n",
              "        192, 146, 187, 153, 142, 144, 136, 245, 202, 132, 137,   0,   0,\n",
              "          0,   0],\n",
              "       [  0,   0,   0,   0,   0, 126, 181, 219, 146, 157, 128, 121, 175,\n",
              "        196, 104, 157, 158, 151, 140, 103,  89, 221, 141, 153,   0,   0,\n",
              "          0,   0],\n",
              "       [  0,   0,   0,   0,   0, 157, 175, 216,  55, 175, 153, 151, 188,\n",
              "        214, 126, 204, 159, 145, 145, 116,  71, 212, 154, 155,   0,   0,\n",
              "          0,   0],\n",
              "       [  0,   0,   0,   0,   0, 183, 163, 232,  64, 138, 142, 182, 195,\n",
              "        200, 158, 231, 146, 130, 161, 132, 105, 225, 146, 157,  10,   0,\n",
              "          0,   0],\n",
              "       [  0,   0,   0,   0,   6, 188, 161, 221,  54, 149, 165, 151, 167,\n",
              "        188, 170, 181, 154, 141, 130, 144,  93, 207, 166, 142,  34,   0,\n",
              "          0,   0],\n",
              "       [  0,   0,   0,   0,  42, 182, 165, 236,  29, 146, 170, 141, 166,\n",
              "        208, 124, 162, 173, 154, 132, 140,  97, 194, 153, 161,  47,   0,\n",
              "          0,   0],\n",
              "       [  0,   0,   0,   0,  58, 175, 171, 191,   5, 173, 162, 154, 181,\n",
              "        207, 100, 161, 179, 155, 146, 149,  76, 192, 162, 150,  62,   0,\n",
              "          0,   0],\n",
              "       [  0,   0,   0,   0,  80, 179, 166, 167,  10, 182, 151, 157, 178,\n",
              "        184, 166, 208, 174, 138, 146, 140,  73, 186, 161, 155,  71,   0,\n",
              "          0,   0],\n",
              "       [  0,   0,   0,   0, 100, 165, 171, 138,  51, 194, 157, 133, 187,\n",
              "        196, 166, 198, 163, 129, 142, 134,  73, 191, 154, 155,  79,   0,\n",
              "          0,   0],\n",
              "       [  0,   0,   0,   0, 109, 158, 175, 118,  73, 179, 146, 149, 183,\n",
              "        207, 141, 184, 171, 153, 137, 147,  73, 195, 157, 154,  85,   0,\n",
              "          0,   0],\n",
              "       [  0,   0,   0,   0, 109, 163, 179, 122, 116, 177, 144, 165, 182,\n",
              "        190, 147, 179, 162, 146, 133, 153,  97, 161, 158, 150,  95,   0,\n",
              "          0,   0],\n",
              "       [  0,   0,   0,   0, 107, 158, 167, 163, 105, 137, 161, 163, 203,\n",
              "        199, 149, 181, 167, 161, 147, 147,  99, 166, 157, 141,  99,   0,\n",
              "          0,   0],\n",
              "       [  0,   0,   0,   0, 109, 154, 166, 145,   0,  34,  84,  63, 107,\n",
              "        149, 132, 153, 129, 124, 149,  56,   0, 114, 159, 141,  97,   0,\n",
              "          0,   0],\n",
              "       [  0,   0,   0,   0, 108, 154, 169,  85,   0,   0,   0,   0,   0,\n",
              "          0,   2,   9,   0,   0,   0,   0,   0,  93, 157, 142,  99,   0,\n",
              "          0,   0],\n",
              "       [  0,   0,   0,   0, 101, 153, 169,  80,   0,   3,   0,   1,   0,\n",
              "          0,   0,   0,   0,   0,   0,   1,   0,  80, 155, 144, 105,   0,\n",
              "          0,   0],\n",
              "       [  0,   0,   0,   0, 121, 157, 166,  76,   0,   3,   0,   0,   1,\n",
              "          0,   0,   0,   0,   0,   0,   3,   0,  67, 162, 141, 100,   0,\n",
              "          0,   0],\n",
              "       [  0,   0,   0,   0, 124, 153, 162,  51,   0,   3,   0,   0,   0,\n",
              "          0,   0,   1,   0,   1,   0,   5,   0,  58, 167, 146,  87,   0,\n",
              "          0,   0],\n",
              "       [  0,   0,   0,   0, 122, 165, 181,  54,   0,   5,   0,   0,   0,\n",
              "          0,   0,   0,   0,   0,   0,   5,   0,  54, 170, 140,  75,   0,\n",
              "          0,   0],\n",
              "       [  0,   0,   0,   0,  25,  75,  92,   3,   0,   1,   0,   0,   0,\n",
              "          0,   0,   0,   0,   0,   0,   3,   0,  29, 145, 137,  59,   0,\n",
              "          0,   0]], dtype=uint8)</pre></div><script>\n",
              "      (() => {\n",
              "      const titles = ['show data', 'hide data'];\n",
              "      let index = 0\n",
              "      document.querySelector('#id-10c129d9-b2ff-4bd4-a1e1-8dcbe1a770e6 button').onclick = (e) => {\n",
              "        document.querySelector('#id-10c129d9-b2ff-4bd4-a1e1-8dcbe1a770e6').classList.toggle('show_array');\n",
              "        index = (++index) % 2;\n",
              "        document.querySelector('#id-10c129d9-b2ff-4bd4-a1e1-8dcbe1a770e6 button').textContent = titles[index];\n",
              "        e.preventDefault();\n",
              "        e.stopPropagation();\n",
              "      }\n",
              "      })();\n",
              "    </script>"
            ]
          },
          "metadata": {},
          "execution_count": 134
        }
      ]
    },
    {
      "cell_type": "code",
      "source": [
        "prediction3 = best_hyperparams_model.predict(x_val_float.reshape(-1, 28*28)[10:11])\n",
        "print(prediction3)"
      ],
      "metadata": {
        "colab": {
          "base_uri": "https://localhost:8080/"
        },
        "id": "hm-0IX2TZFe9",
        "outputId": "21ee4640-564c-4818-c7f7-cceaa33f2bbf"
      },
      "execution_count": 135,
      "outputs": [
        {
          "output_type": "stream",
          "name": "stdout",
          "text": [
            "\u001b[1m1/1\u001b[0m \u001b[32m━━━━━━━━━━━━━━━━━━━━\u001b[0m\u001b[37m\u001b[0m \u001b[1m0s\u001b[0m 23ms/step\n",
            "[[7.8415195e-04 2.6558640e-05 1.1376380e-02 2.0866253e-06 9.2860162e-01\n",
            "  2.0658824e-06 5.9139751e-02 2.1236601e-05 5.1462607e-06 4.0992280e-05]]\n"
          ]
        }
      ]
    },
    {
      "cell_type": "markdown",
      "source": [
        "Отримали, що ця річ належить до категорії 4 (пальто) з ймовірністю `92.8%`. Це відповідає дійсності, бо річ, що зображена на картинці, є пальто."
      ],
      "metadata": {
        "id": "0aRNP47BZKJ1"
      }
    }
  ]
}