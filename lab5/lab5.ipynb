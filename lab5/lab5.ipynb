{
  "nbformat": 4,
  "nbformat_minor": 0,
  "metadata": {
    "colab": {
      "provenance": []
    },
    "kernelspec": {
      "name": "python3",
      "display_name": "Python 3"
    },
    "language_info": {
      "name": "python"
    }
  },
  "cells": [
    {
      "cell_type": "markdown",
      "source": [
        "# Лабораторна робота №4\n",
        "# Дровольського Ярослава, ПЗС 1 курс магістратури"
      ],
      "metadata": {
        "id": "kGDPVIOGfHH4"
      }
    },
    {
      "cell_type": "markdown",
      "source": [
        "**Завдання:** Підібрати оптимальні параметри до мережі (багатошарового персептрону) з lab4."
      ],
      "metadata": {
        "id": "IoikP9tgQFsE"
      }
    },
    {
      "cell_type": "markdown",
      "source": [
        "*Спочатку нагадаємо зміст задачі та суть моделі*"
      ],
      "metadata": {
        "id": "SVqOnvlK57oE"
      }
    },
    {
      "cell_type": "markdown",
      "source": [
        "Задача моделі: задача класифікації одягу на датасеті Fashion MNIST.\n",
        "\n",
        "Всі дані (зображення одягу) в Fashion MNIST поділяються на 10 класів:\n",
        "\n",
        "0. T-shirt / top (футболка / топ)\n",
        "1. Trouser (брюки)\n",
        "2. Pullover (пуловер)\n",
        "3. Dress (плаття)\n",
        "4. Coat (пальто)\n",
        "5. Sandal (сандалі)\n",
        "6. Shirt (сорочка)\n",
        "7. Sneaker (кеди)\n",
        "8. Bag (сумка)\n",
        "9. Ankle boot (ботильйони)."
      ],
      "metadata": {
        "id": "okvES2PiRvIr"
      }
    },
    {
      "cell_type": "markdown",
      "source": [
        "- **Вхідні значення нейронної мережі:** інтенсивність пікселя (число в діапазоні 0-255), центрована і нормована до інтервалу [-0.5, 0.5]. В зображені 784 (28*28) пікселів. Вхідний шар 784 нейрона.\n",
        "- **Вихідний шар** 10 нейронів. Кожен нейрон повертає ймовірність (0-1) того, що на зображенні предмет одягу з певної категорії (10 категорій = 10 нейронів)"
      ],
      "metadata": {
        "id": "HrxqYs63VSgG"
      }
    },
    {
      "cell_type": "markdown",
      "source": [
        "## Підготовка даних"
      ],
      "metadata": {
        "id": "YYayEyCi7Igh"
      }
    },
    {
      "cell_type": "markdown",
      "source": [
        "Імпортуємо необхідні бібліотеки"
      ],
      "metadata": {
        "id": "jxSjcqp-Wiwi"
      }
    },
    {
      "cell_type": "code",
      "source": [
        "import numpy as np\n",
        "import sklearn # algorithms for classical ML\n",
        "import tensorflow as tf # build and train Neural network\n",
        "from tensorflow import keras"
      ],
      "metadata": {
        "id": "g5z0dqjATRF6"
      },
      "execution_count": 36,
      "outputs": []
    },
    {
      "cell_type": "markdown",
      "source": [
        "Завантажимо датасет Fashion MNIST"
      ],
      "metadata": {
        "id": "vEj3OGtoZQK-"
      }
    },
    {
      "cell_type": "code",
      "source": [
        "from keras.datasets import mnist\n",
        "\n",
        "(x_train, y_train), (x_val, y_val) = tf.keras.datasets.fashion_mnist.load_data()\n",
        "\n",
        "# x_train, x_val - clothes images (28x28 px) for train and validation sample, correspondingly (sample - вибірка)\n",
        "# y_train, y_val - correct answers for corresponding images"
      ],
      "metadata": {
        "id": "MI8LmAnPWxM9"
      },
      "execution_count": 37,
      "outputs": []
    },
    {
      "cell_type": "markdown",
      "source": [
        "Центруємо і нормуємо вхідні дані, так, щоб значення змінювалися від `-0.5` до `+0.5`."
      ],
      "metadata": {
        "id": "WCJQhbDcQ7uZ"
      }
    },
    {
      "cell_type": "code",
      "source": [
        "x_train_float = x_train.astype(np.float64) / 255 - 0.5\n",
        "x_val_float = x_val.astype(np.float64) / 255 - 0.5"
      ],
      "metadata": {
        "id": "ayHpzl8LQ_gA"
      },
      "execution_count": 38,
      "outputs": []
    },
    {
      "cell_type": "markdown",
      "source": [
        "Перетворимо правильні відповіді `y_train` і `y_val` в one-hot encode.\n",
        "\n",
        "Тобто у кожного об'єкта з `y_train` та `y_val` створюється 10 нових ознак (кожна відповідає за те, чи належать об'єкт певній категорії). Ознака, яка відповідає за ту категорію, якій належить об'єкт, дорівнює `1`, решта дорівнюють `0`."
      ],
      "metadata": {
        "id": "q1yOemiCabSO"
      }
    },
    {
      "cell_type": "code",
      "source": [
        "y_train_oh = keras.utils.to_categorical(y_train, 10)\n",
        "y_val_oh = keras.utils.to_categorical(y_val, 10)"
      ],
      "metadata": {
        "id": "QYQg802EaBTm"
      },
      "execution_count": 39,
      "outputs": []
    },
    {
      "cell_type": "markdown",
      "source": [
        "## Робота з моделлю"
      ],
      "metadata": {
        "id": "U9RI0eQ57One"
      }
    },
    {
      "cell_type": "markdown",
      "source": [
        "Згідно зі слайдом №6 презентації, **Схема** нашої подальшої роботи для кожного завдання така:\n",
        "1. перебираємо всі дані в умові значення гіперпараметру\n",
        "2. при цьому робимо крос-валідацію (перересну перевірку)\n",
        "3. на основі результатів перехресної перевірки обираємо найкраще значення гіперпараметру"
      ],
      "metadata": {
        "id": "Ifawp69HMCD5"
      }
    },
    {
      "cell_type": "markdown",
      "source": [
        "### Базова модель"
      ],
      "metadata": {
        "id": "33xe9RCFbtH6"
      }
    },
    {
      "cell_type": "markdown",
      "source": [
        "Для отримання однакових похибок при повторному запуску клітинок навчання моделі (наприклад, під час перевірки викладачем), **фіксуємо** `seed` **рандомності**.\n",
        "\n",
        "\n",
        "*Пояснення: When re-training a Keras neural network on the same data as before, you’ll rarely get the same results twice. This is due to the fact that neural networks in Keras are using randomness when initializing their weights, so on every run weights are initialized differently, therefore during the learning process these will get updated differently, so the same accuracy results when making predictions are unlikely.* [(Джерело)](https://medium.com/@pop.kristina1/why-loading-a-previously-saved-keras-model-gives-different-results-lessons-learned-aeea1014e0ba)"
      ],
      "metadata": {
        "id": "Fp0tW1GsDn-r"
      }
    },
    {
      "cell_type": "code",
      "source": [
        "np.random.seed(100)\n",
        "\n",
        "import tensorflow\n",
        "tensorflow.random.set_seed(100)"
      ],
      "metadata": {
        "id": "x2wV2DskDhkS"
      },
      "execution_count": 53,
      "outputs": []
    },
    {
      "cell_type": "markdown",
      "source": [
        "**Тепер перейдемо до складання моделі й підбору її параметрів**.\n",
        "\n",
        "На **вхід** будемо подавати картинки, витягнуті у вектор довжини 28 * 28 (= 784).\n",
        "\n",
        "На **виході** маємо 10 вихідних нейронів за кількістю класів в нашій задачі.\n",
        "\n",
        "Задаємо ці та описані вище параметри.\n",
        "\n",
        "\n",
        "Побудуємо **БАЗОВУ МОДЕЛЬ** багатошарового персептрона з двома прихованими шарами по 128 нейронів у кожному. Саме для цієї моделі будемо шукати оптимальні значення параметрів.\n",
        "\n",
        "На прихованих шарах використовуватимемо функцію elu."
      ],
      "metadata": {
        "id": "5uCtXrE0gG9x"
      }
    },
    {
      "cell_type": "markdown",
      "source": [
        "Створимо функцію для побудови та тренування базової моделі"
      ],
      "metadata": {
        "id": "CjLV3RiZob74"
      }
    },
    {
      "cell_type": "code",
      "source": [
        "from keras import backend as K\n",
        "from keras import layers as L\n",
        "\n",
        "\n",
        "def create_basic_model():\n",
        "  K.clear_session()\n",
        "\n",
        "  # create model\n",
        "  model = keras.Sequential()\n",
        "  model.add(L.Dense(128, input_dim=784, activation='relu')) # relu(x)=max(0,x)\n",
        "  model.add(L.Dense(128, activation='elu'))\n",
        "  model.add(L.Dense(10, activation='softmax'))\n",
        "\n",
        "  # configure the model with losses and metrics, configure for training\n",
        "  model.compile(\n",
        "    loss='categorical_crossentropy', # minimize cross-entropy\n",
        "    optimizer='adam',\n",
        "    metrics=['accuracy'] # calculated using validation_data\n",
        "  )\n",
        "\n",
        "  return model\n",
        "\n",
        "'''\n",
        "How to train:\n",
        "\n",
        "  # train the model\n",
        "  model.fit(\n",
        "    x_train_float.reshape(-1, 28*28),\n",
        "    y_train_oh,\n",
        "    batch_size=64, # Number of samples per gradient update.\n",
        "    epochs=10,\n",
        "    validation_data=(x_val_float.reshape(-1, 28*28), y_val_oh) # The model will not be trained on this data.\n",
        "  )\n",
        "\n",
        "'''\n",
        "\n",
        "\n",
        " # Dense is Just regular densely-connected NN layer.\n",
        " # first argument of Dense constructor is `units` - Positive integer, dimensionality of the output space.\n",
        " # Dense implements the operation: output = activation(dot(input, kernel) + bias)\n",
        "\n",
        "\n",
        "  # Model documentation: https://www.tensorflow.org/api_docs/python/tf/keras/Sequential\n",
        "  # Layer documentation: https://www.tensorflow.org/api_docs/python/tf/keras/layers/Dense\n"
      ],
      "metadata": {
        "colab": {
          "base_uri": "https://localhost:8080/",
          "height": 53
        },
        "id": "1rEX0FDrpV4n",
        "outputId": "dc4c1bbf-ebff-43b7-d185-11a97ad049f0"
      },
      "execution_count": 70,
      "outputs": [
        {
          "output_type": "execute_result",
          "data": {
            "text/plain": [
              "'\\nHow to train:\\n\\n  # train the model\\n  model.fit(\\n    x_train_float.reshape(-1, 28*28),\\n    y_train_oh,\\n    batch_size=64, # Number of samples per gradient update. \\n    epochs=10,\\n    validation_data=(x_val_float.reshape(-1, 28*28), y_val_oh) # The model will not be trained on this data.\\n  )\\n\\n'"
            ],
            "application/vnd.google.colaboratory.intrinsic+json": {
              "type": "string"
            }
          },
          "metadata": {},
          "execution_count": 70
        }
      ]
    },
    {
      "cell_type": "markdown",
      "source": [
        "Напишемо функцію для виконання крос-валідації моделі"
      ],
      "metadata": {
        "id": "SiPmyd-uzOzd"
      }
    },
    {
      "cell_type": "code",
      "source": [
        "# .fit() calls on already trained models, will train model from xero (ignore previous trained coeffircients, etc.) - not for Keras\n",
        "# function does not call .fit() on passed model - but call on its copy - https://stackoverflow.com/a/49771618 - not for Keras\n",
        "\n",
        "from sklearn.model_selection import KFold\n",
        "\n",
        "# create_model_function - is function to create model. It should return ONLY created and compiled model, NOT trained.\n",
        "# calculates accuracies for cross-validation\n",
        "# (X, y) are TRAIN data. It will be divided into local-train and local-validation data on each fold.\n",
        "def cross_validate(X, y, create_model_function, batch_size, number_of_epochs):\n",
        "  kf = KFold(n_splits=5, shuffle=True, random_state=42)  # 5 folds\n",
        "\n",
        "  fold_accuracies = []\n",
        "\n",
        "  for train_index, val_index in kf.split(X):\n",
        "      X_train, X_val = X[train_index], X[val_index]\n",
        "      y_train, y_val = y[train_index], y[val_index]\n",
        "\n",
        "      model = create_model_function()  # Create a new model instance, Keras models need to be re-initialized for each fold.\n",
        "      model.fit(\n",
        "          X_train.reshape(-1, 28*28),\n",
        "          y_train,\n",
        "          epochs=number_of_epochs,\n",
        "          batch_size=batch_size,\n",
        "          verbose=0)  # Train the model\n",
        "\n",
        "      loss, accuracy = model.evaluate(X_val.reshape(-1, 28*28), y_val, batch_size=batch_size, verbose=1)  # Evaluate on local-validation set\n",
        "\n",
        "      fold_accuracies.append(accuracy)\n",
        "\n",
        "  return fold_accuracies"
      ],
      "metadata": {
        "id": "RXwYucYFzOd9"
      },
      "execution_count": 71,
      "outputs": []
    },
    {
      "cell_type": "markdown",
      "source": [
        "### №1 Підбір кількості нейронів на вхідному шарі\n",
        "Використайте різну кількість нейронів на вхідному шарі: 400, 600, 800, 1200. Аргументуйте відповідь."
      ],
      "metadata": {
        "id": "NqNnAKB5bpCT"
      }
    },
    {
      "cell_type": "markdown",
      "source": [
        "Для цього створимо функцію, яка буде створювати та навчати модель, ідентичну з базовою, але яка *має різну кількість нейронів на вхідному шарі*."
      ],
      "metadata": {
        "id": "Wh9vwdmHbpAG"
      }
    },
    {
      "cell_type": "code",
      "source": [
        "def create_basic_model_with_input_layer_neurons(input_layer_neurons_number):\n",
        "  K.clear_session()\n",
        "\n",
        "  # create model\n",
        "  model = keras.Sequential()\n",
        "  model.add(L.Dense(input_layer_neurons_number, input_dim=784, activation='relu'))\n",
        "  model.add(L.Dense(128, activation='elu'))\n",
        "  model.add(L.Dense(10, activation='softmax'))\n",
        "\n",
        "  # configure the model with losses and metrics\n",
        "  model.compile(\n",
        "    loss='categorical_crossentropy', # minimize cross-entropy\n",
        "    optimizer='adam',\n",
        "    metrics=['accuracy'] # calculated using validation_data\n",
        "  )\n",
        "\n",
        "  return model"
      ],
      "metadata": {
        "id": "M45SfXXhevC4"
      },
      "execution_count": 73,
      "outputs": []
    },
    {
      "cell_type": "code",
      "source": [
        "def task_1(number_of_neurons):\n",
        "  accuracies = cross_validate(\n",
        "    x_train_float, y_train_oh,\n",
        "    lambda: create_basic_model_with_input_layer_neurons(number_of_neurons),\n",
        "    batch_size=64,\n",
        "    number_of_epochs=10)\n",
        "\n",
        "  print(\"\\n\\n\\n\\n\\n\")\n",
        "  print(\"accuracies: \", accuracies)\n",
        "  print(\"Mean accuracy\", accuracies.mean())"
      ],
      "metadata": {
        "id": "yaUzT20xLNes"
      },
      "execution_count": 76,
      "outputs": []
    },
    {
      "cell_type": "markdown",
      "source": [
        "**1)** 400 нейронів на вхідному шарі"
      ],
      "metadata": {
        "id": "Hn0GyivEtACf"
      }
    },
    {
      "cell_type": "code",
      "source": [
        "task_1(400)"
      ],
      "metadata": {
        "id": "r910sBWYLxq6"
      },
      "execution_count": null,
      "outputs": []
    },
    {
      "cell_type": "markdown",
      "source": [
        "**2)** 600 нейронів на вхідному шарі"
      ],
      "metadata": {
        "id": "hFiq1uk-LkDv"
      }
    },
    {
      "cell_type": "code",
      "source": [
        "task_1(600)"
      ],
      "metadata": {
        "id": "BKkdfUqVLjKP"
      },
      "execution_count": null,
      "outputs": []
    },
    {
      "cell_type": "markdown",
      "source": [
        "**3)** 800 нейронів на вхідному шарі"
      ],
      "metadata": {
        "id": "EKWAShYeLoU5"
      }
    },
    {
      "cell_type": "code",
      "source": [
        "task_1(800)"
      ],
      "metadata": {
        "id": "C02AhDXCLzZS"
      },
      "execution_count": null,
      "outputs": []
    },
    {
      "cell_type": "markdown",
      "source": [
        "**4)** 1200 нейронів на вхідному шарі"
      ],
      "metadata": {
        "id": "Sk1DDgWxLrvH"
      }
    },
    {
      "cell_type": "code",
      "source": [
        "task_1(1200)"
      ],
      "metadata": {
        "id": "aDw1X7skL0iR"
      },
      "execution_count": null,
      "outputs": []
    },
    {
      "cell_type": "markdown",
      "source": [],
      "metadata": {
        "id": "6CWutBqKbo-B"
      }
    },
    {
      "cell_type": "markdown",
      "source": [],
      "metadata": {
        "id": "ZgzT6Vrdbo7-"
      }
    },
    {
      "cell_type": "markdown",
      "source": [],
      "metadata": {
        "id": "lDTsgcuibo5u"
      }
    },
    {
      "cell_type": "markdown",
      "source": [],
      "metadata": {
        "id": "Mo7xQvRWbo3D"
      }
    },
    {
      "cell_type": "markdown",
      "source": [],
      "metadata": {
        "id": "_trsvMwcboy3"
      }
    },
    {
      "cell_type": "markdown",
      "source": [],
      "metadata": {
        "id": "aRo0P4NLbowc"
      }
    },
    {
      "cell_type": "markdown",
      "source": [],
      "metadata": {
        "id": "aIZWXIxLbopT"
      }
    },
    {
      "cell_type": "markdown",
      "source": [],
      "metadata": {
        "id": "OreGUiYbbofD"
      }
    },
    {
      "cell_type": "markdown",
      "source": [
        "Використаємо модель в робочому режимі на деяких валідаційних даних:"
      ],
      "metadata": {
        "id": "e2lOzN_YR6we"
      }
    },
    {
      "cell_type": "markdown",
      "source": [
        "**Приклад №1**"
      ],
      "metadata": {
        "id": "_x18gAhjWgaP"
      }
    },
    {
      "cell_type": "code",
      "source": [
        "img1 = x_val[1]\n",
        "img1"
      ],
      "metadata": {
        "colab": {
          "base_uri": "https://localhost:8080/",
          "height": 69
        },
        "id": "jSootm-7WCcG",
        "outputId": "b60472f0-a51c-4257-c9a1-8139d6a266ec"
      },
      "execution_count": 46,
      "outputs": [
        {
          "output_type": "execute_result",
          "data": {
            "text/plain": [
              "array([[  0,   0,   0,   0,   0,   0,   0,   0,   0,   0,  13,  67,   0,\n",
              "          0,   0,   0,  50,  38,   0,   0,   0,   0,   0,   0,   0,   0,\n",
              "          0,   0],\n",
              "       [  0,   0,   0,   0,   0,   0,   0,   8, 120, 209, 226, 247, 237,\n",
              "        255, 255, 255, 247, 238, 235, 172,  72,   0,   0,   0,   0,   0,\n",
              "          0,   0],\n",
              "       [  0,   0,   0,   0,   0,   0, 137, 239, 252, 243, 234, 229, 238,\n",
              "        244, 246, 240, 230, 232, 239, 248, 251, 194,   0,   0,   0,   0,\n",
              "          0,   0],\n",
              "       [  0,   0,   0,   0,   0, 102, 255, 231, 228, 227, 228, 233, 230,\n",
              "        230, 229, 228, 232, 232, 231, 227, 224, 252, 179,   0,   0,   0,\n",
              "          0,   0],\n",
              "       [  0,   0,   0,   0,   0, 233, 241, 229, 231, 255, 255, 238, 231,\n",
              "        227, 238, 246, 228, 230, 227, 234, 235, 229, 241,  20,   0,   0,\n",
              "          0,   0],\n",
              "       [  0,   0,   0,   0,   0, 248, 241, 231, 255, 149,  47, 252, 228,\n",
              "        255, 242, 216, 238, 232, 255, 228, 220, 234, 250,  54,   0,   0,\n",
              "          0,   0],\n",
              "       [  0,   0,   0,   0,   0, 255, 240, 232, 255,  15,   0, 255, 237,\n",
              "        191,   0,   0, 214, 255,  13, 123, 255, 234, 252, 114,   0,   0,\n",
              "          0,   0],\n",
              "       [  0,   0,   0,   0,   6, 255, 238, 239, 255, 177,   0, 255, 255,\n",
              "          0, 130, 116,  47,  65,  43,  37, 255, 236, 249, 162,   0,   0,\n",
              "          0,   0],\n",
              "       [  0,   0,   0,   0,  32, 255, 236, 245, 255, 204,   0, 255,  84,\n",
              "          0,  37,  28,  31,   0,  25,  13, 255, 236, 249, 199,   0,   0,\n",
              "          0,   0],\n",
              "       [  0,   0,   0,   0,  53, 255, 236, 250, 250, 231,   2, 255,  21,\n",
              "          0, 221, 255, 236,  54, 245, 198, 243, 238, 245, 223,   0,   0,\n",
              "          0,   0],\n",
              "       [  0,   0,   0,   0,  80, 255, 237, 250, 240, 255,   0,   0,  39,\n",
              "        157,   0,   0, 215,  94,  20, 126, 255, 237, 239, 250,   0,   0,\n",
              "          0,   0],\n",
              "       [  0,   0,   0,   0, 101, 255, 235, 253, 244, 243, 133, 138, 208,\n",
              "        255, 201, 214, 255, 230,   7, 174, 255, 240, 238, 255,   0,   0,\n",
              "          0,   0],\n",
              "       [  0,   0,   0,   0, 126, 255, 233, 255, 248, 233, 255, 255, 240,\n",
              "        232, 243, 243, 231, 251, 255, 255, 254, 243, 238, 255,   3,   0,\n",
              "          0,   0],\n",
              "       [  0,   0,   0,   0, 147, 255, 233, 249, 181, 243, 227, 224, 230,\n",
              "        234, 230, 230, 235, 228, 235, 222, 207, 255, 236, 255,  35,   0,\n",
              "          0,   0],\n",
              "       [  0,   0,   0,   0, 163, 255, 245, 221,  86, 255, 233, 233, 235,\n",
              "        236, 234, 234, 234, 232, 242, 231, 125, 255, 236, 255,  55,   0,\n",
              "          0,   0],\n",
              "       [  0,   0,   0,   0, 181, 254, 255, 200,  69, 255, 228, 232, 234,\n",
              "        235, 234, 234, 233, 235, 241, 237,  70, 255, 235, 246,  57,   0,\n",
              "          0,   0],\n",
              "       [  0,   0,   0,   0, 197, 247, 255, 188, 110, 255, 224, 233, 234,\n",
              "        234, 234, 234, 234, 234, 240, 253,  69, 255, 236, 248,  77,   0,\n",
              "          0,   0],\n",
              "       [  0,   0,   0,   0, 200, 246, 255, 149, 145, 255, 223, 235, 234,\n",
              "        235, 235, 235, 234, 237, 233, 255,  47, 255, 239, 249,  98,   0,\n",
              "          0,   0],\n",
              "       [  0,   0,   0,   0, 204, 243, 255, 111, 173, 255, 227, 235, 235,\n",
              "        236, 235, 235, 235, 239, 229, 255,  19, 227, 246, 249, 110,   0,\n",
              "          0,   0],\n",
              "       [  0,   0,   0,   0, 196, 240, 255, 109, 213, 250, 229, 235, 235,\n",
              "        236, 235, 237, 236, 237, 226, 255,  55, 203, 251, 245, 120,   0,\n",
              "          0,   0],\n",
              "       [  0,   0,   0,   0, 192, 243, 255, 114, 232, 240, 232, 235, 235,\n",
              "        236, 234, 237, 236, 235, 229, 255, 134, 171, 252, 244, 137,   0,\n",
              "          0,   0],\n",
              "       [  0,   0,   0,   0, 189, 251, 255, 154, 238, 233, 236, 234, 235,\n",
              "        236, 235, 238, 236, 235, 232, 255, 166, 125, 255, 243, 142,   0,\n",
              "          0,   0],\n",
              "       [  0,   0,   0,   0, 183, 252, 255, 171, 247, 232, 234, 234, 233,\n",
              "        233, 232, 234, 233, 234, 233, 240, 223, 128, 255, 242, 151,   0,\n",
              "          0,   0],\n",
              "       [  0,   0,   0,   0, 178, 243, 255,  57, 238, 241, 238, 238, 238,\n",
              "        237, 236, 237, 237, 240, 237, 254, 176,  52, 255, 239, 157,   0,\n",
              "          0,   0],\n",
              "       [  0,   0,   0,   0, 188, 240, 250,  62, 218, 255, 220, 222, 222,\n",
              "        222, 223, 223, 224, 222, 218, 255, 154,  32, 255, 236, 188,   0,\n",
              "          0,   0],\n",
              "       [  0,   0,   0,   0, 130, 245, 242,  24,   0,   0,   0,   0,   0,\n",
              "          0,   0,   0,   0,   0,   0,   0,   0,  34, 242, 244, 135,   0,\n",
              "          0,   0],\n",
              "       [  0,   0,   0,   0,  76, 255, 249,  22,   0,   0,   0,   0,   0,\n",
              "          0,   0,   0,   0,   0,   0,   0,   0,  39, 249, 255, 123,   0,\n",
              "          0,   0],\n",
              "       [  0,   0,   0,   0,  49, 205, 197,  11,   0,   4,   1,   2,   2,\n",
              "          2,   2,   2,   2,   2,   2,   3,   0,   3, 174, 189,  67,   0,\n",
              "          0,   0]], dtype=uint8)"
            ],
            "text/html": [
              "<style>\n",
              "      .ndarray_repr .ndarray_raw_data {\n",
              "        display: none;\n",
              "      }\n",
              "      .ndarray_repr.show_array .ndarray_raw_data {\n",
              "        display: block;\n",
              "      }\n",
              "      .ndarray_repr.show_array .ndarray_image_preview {\n",
              "        display: none;\n",
              "      }\n",
              "      </style>\n",
              "      <div id=\"id-ff7eb702-c119-4467-86e4-ad542667aa54\" class=\"ndarray_repr\"><pre>ndarray (28, 28) <button style=\"padding: 0 2px;\">show data</button></pre><img src=\"data:image/png;base64,iVBORw0KGgoAAAANSUhEUgAAABwAAAAcCAAAAABXZoBIAAACDUlEQVR4nGXSy2tTURDH8e953LxMnxpobaCltRIf0CIodCmCuBFX/gv+AeJCdCcIunEpuHChrgQRBEU3IrgoPkCIC8FiqZZUk/Q2aUiax809d1zYm1Kc5fnwmzkMA4MaOgdw6ij/Vep6cb2zJSKd2uazC/vtbj1sVjdqrfb273K923//71UBcOVB2YnyHCIWCV3+9cU9rKRaeoJ6LzyQqmmXVEF2zgc0ACPoifuLwy5v1zM6HzS89OzeSNkuywiy9Q6+ydBNqYZXB5aQWl1eIMKtawtnT8yL33sMYAEOE6WZgss86ZjiZAuYHyRPix8Ef7TkWBX/zM5ys7azRvyhKRTtiUiNP5xTm4XpN1kJpgZtc0TGtm575xdODhXuPF3ERN4AJ4m0bdygUTlOOddFTIRxu21zELzNlH61dbNpK/5aMRsxE88cJVt6lE2kPW2t2GT6OXAoxnHJbNbpiwiIkcRHpKMHyR6tY4QKASUyKig9SBrh+xyiUUpherqKUbkYrWMlj0UpUDqkVEqSjbHriAp9DaBV5DhS9sJMjKHBO9g2gEBkuPRTyViMLkUh0bMCSoFh5qsRL8ZAMZaWiMi50IlqLBkkHWO/w71O2lrPWmMTdrj4EpeId5txfc+fX9WgUFE4XvVx0zEuL3VX9t3ybDP1OcZPmSDad8ZeMtGKceNLdwfr1C4p9+PVyAfgL1Aq3/RYjgsXAAAAAElFTkSuQmCC\" class=\"ndarray_image_preview\" /><pre class=\"ndarray_raw_data\">array([[  0,   0,   0,   0,   0,   0,   0,   0,   0,   0,  13,  67,   0,\n",
              "          0,   0,   0,  50,  38,   0,   0,   0,   0,   0,   0,   0,   0,\n",
              "          0,   0],\n",
              "       [  0,   0,   0,   0,   0,   0,   0,   8, 120, 209, 226, 247, 237,\n",
              "        255, 255, 255, 247, 238, 235, 172,  72,   0,   0,   0,   0,   0,\n",
              "          0,   0],\n",
              "       [  0,   0,   0,   0,   0,   0, 137, 239, 252, 243, 234, 229, 238,\n",
              "        244, 246, 240, 230, 232, 239, 248, 251, 194,   0,   0,   0,   0,\n",
              "          0,   0],\n",
              "       [  0,   0,   0,   0,   0, 102, 255, 231, 228, 227, 228, 233, 230,\n",
              "        230, 229, 228, 232, 232, 231, 227, 224, 252, 179,   0,   0,   0,\n",
              "          0,   0],\n",
              "       [  0,   0,   0,   0,   0, 233, 241, 229, 231, 255, 255, 238, 231,\n",
              "        227, 238, 246, 228, 230, 227, 234, 235, 229, 241,  20,   0,   0,\n",
              "          0,   0],\n",
              "       [  0,   0,   0,   0,   0, 248, 241, 231, 255, 149,  47, 252, 228,\n",
              "        255, 242, 216, 238, 232, 255, 228, 220, 234, 250,  54,   0,   0,\n",
              "          0,   0],\n",
              "       [  0,   0,   0,   0,   0, 255, 240, 232, 255,  15,   0, 255, 237,\n",
              "        191,   0,   0, 214, 255,  13, 123, 255, 234, 252, 114,   0,   0,\n",
              "          0,   0],\n",
              "       [  0,   0,   0,   0,   6, 255, 238, 239, 255, 177,   0, 255, 255,\n",
              "          0, 130, 116,  47,  65,  43,  37, 255, 236, 249, 162,   0,   0,\n",
              "          0,   0],\n",
              "       [  0,   0,   0,   0,  32, 255, 236, 245, 255, 204,   0, 255,  84,\n",
              "          0,  37,  28,  31,   0,  25,  13, 255, 236, 249, 199,   0,   0,\n",
              "          0,   0],\n",
              "       [  0,   0,   0,   0,  53, 255, 236, 250, 250, 231,   2, 255,  21,\n",
              "          0, 221, 255, 236,  54, 245, 198, 243, 238, 245, 223,   0,   0,\n",
              "          0,   0],\n",
              "       [  0,   0,   0,   0,  80, 255, 237, 250, 240, 255,   0,   0,  39,\n",
              "        157,   0,   0, 215,  94,  20, 126, 255, 237, 239, 250,   0,   0,\n",
              "          0,   0],\n",
              "       [  0,   0,   0,   0, 101, 255, 235, 253, 244, 243, 133, 138, 208,\n",
              "        255, 201, 214, 255, 230,   7, 174, 255, 240, 238, 255,   0,   0,\n",
              "          0,   0],\n",
              "       [  0,   0,   0,   0, 126, 255, 233, 255, 248, 233, 255, 255, 240,\n",
              "        232, 243, 243, 231, 251, 255, 255, 254, 243, 238, 255,   3,   0,\n",
              "          0,   0],\n",
              "       [  0,   0,   0,   0, 147, 255, 233, 249, 181, 243, 227, 224, 230,\n",
              "        234, 230, 230, 235, 228, 235, 222, 207, 255, 236, 255,  35,   0,\n",
              "          0,   0],\n",
              "       [  0,   0,   0,   0, 163, 255, 245, 221,  86, 255, 233, 233, 235,\n",
              "        236, 234, 234, 234, 232, 242, 231, 125, 255, 236, 255,  55,   0,\n",
              "          0,   0],\n",
              "       [  0,   0,   0,   0, 181, 254, 255, 200,  69, 255, 228, 232, 234,\n",
              "        235, 234, 234, 233, 235, 241, 237,  70, 255, 235, 246,  57,   0,\n",
              "          0,   0],\n",
              "       [  0,   0,   0,   0, 197, 247, 255, 188, 110, 255, 224, 233, 234,\n",
              "        234, 234, 234, 234, 234, 240, 253,  69, 255, 236, 248,  77,   0,\n",
              "          0,   0],\n",
              "       [  0,   0,   0,   0, 200, 246, 255, 149, 145, 255, 223, 235, 234,\n",
              "        235, 235, 235, 234, 237, 233, 255,  47, 255, 239, 249,  98,   0,\n",
              "          0,   0],\n",
              "       [  0,   0,   0,   0, 204, 243, 255, 111, 173, 255, 227, 235, 235,\n",
              "        236, 235, 235, 235, 239, 229, 255,  19, 227, 246, 249, 110,   0,\n",
              "          0,   0],\n",
              "       [  0,   0,   0,   0, 196, 240, 255, 109, 213, 250, 229, 235, 235,\n",
              "        236, 235, 237, 236, 237, 226, 255,  55, 203, 251, 245, 120,   0,\n",
              "          0,   0],\n",
              "       [  0,   0,   0,   0, 192, 243, 255, 114, 232, 240, 232, 235, 235,\n",
              "        236, 234, 237, 236, 235, 229, 255, 134, 171, 252, 244, 137,   0,\n",
              "          0,   0],\n",
              "       [  0,   0,   0,   0, 189, 251, 255, 154, 238, 233, 236, 234, 235,\n",
              "        236, 235, 238, 236, 235, 232, 255, 166, 125, 255, 243, 142,   0,\n",
              "          0,   0],\n",
              "       [  0,   0,   0,   0, 183, 252, 255, 171, 247, 232, 234, 234, 233,\n",
              "        233, 232, 234, 233, 234, 233, 240, 223, 128, 255, 242, 151,   0,\n",
              "          0,   0],\n",
              "       [  0,   0,   0,   0, 178, 243, 255,  57, 238, 241, 238, 238, 238,\n",
              "        237, 236, 237, 237, 240, 237, 254, 176,  52, 255, 239, 157,   0,\n",
              "          0,   0],\n",
              "       [  0,   0,   0,   0, 188, 240, 250,  62, 218, 255, 220, 222, 222,\n",
              "        222, 223, 223, 224, 222, 218, 255, 154,  32, 255, 236, 188,   0,\n",
              "          0,   0],\n",
              "       [  0,   0,   0,   0, 130, 245, 242,  24,   0,   0,   0,   0,   0,\n",
              "          0,   0,   0,   0,   0,   0,   0,   0,  34, 242, 244, 135,   0,\n",
              "          0,   0],\n",
              "       [  0,   0,   0,   0,  76, 255, 249,  22,   0,   0,   0,   0,   0,\n",
              "          0,   0,   0,   0,   0,   0,   0,   0,  39, 249, 255, 123,   0,\n",
              "          0,   0],\n",
              "       [  0,   0,   0,   0,  49, 205, 197,  11,   0,   4,   1,   2,   2,\n",
              "          2,   2,   2,   2,   2,   2,   3,   0,   3, 174, 189,  67,   0,\n",
              "          0,   0]], dtype=uint8)</pre></div><script>\n",
              "      (() => {\n",
              "      const titles = ['show data', 'hide data'];\n",
              "      let index = 0\n",
              "      document.querySelector('#id-ff7eb702-c119-4467-86e4-ad542667aa54 button').onclick = (e) => {\n",
              "        document.querySelector('#id-ff7eb702-c119-4467-86e4-ad542667aa54').classList.toggle('show_array');\n",
              "        index = (++index) % 2;\n",
              "        document.querySelector('#id-ff7eb702-c119-4467-86e4-ad542667aa54 button').textContent = titles[index];\n",
              "        e.preventDefault();\n",
              "        e.stopPropagation();\n",
              "      }\n",
              "      })();\n",
              "    </script>"
            ]
          },
          "metadata": {},
          "execution_count": 46
        }
      ]
    },
    {
      "cell_type": "code",
      "source": [
        "prediction1 = model.predict(x_val_float.reshape(-1, 28*28)[1:2])\n",
        "print(prediction1)"
      ],
      "metadata": {
        "colab": {
          "base_uri": "https://localhost:8080/"
        },
        "id": "9z8rUIxNWBEQ",
        "outputId": "463a2526-7714-4745-c1a5-e468a77c08c4"
      },
      "execution_count": 47,
      "outputs": [
        {
          "output_type": "stream",
          "name": "stdout",
          "text": [
            "\u001b[1m1/1\u001b[0m \u001b[32m━━━━━━━━━━━━━━━━━━━━\u001b[0m\u001b[37m\u001b[0m \u001b[1m0s\u001b[0m 63ms/step\n",
            "[[1.0754323e-02 7.2234570e-07 9.8170841e-01 1.1337875e-06 7.0201666e-03\n",
            "  8.2625441e-08 5.1517563e-04 2.2363762e-09 2.8930799e-10 2.7427308e-10]]\n"
          ]
        }
      ]
    },
    {
      "cell_type": "markdown",
      "source": [
        "Отримали, що ця річ належить до категорії 2 (пуловер) з ймовірністю `99.95%`. Це відповідає дійсності, бо річ, що зображена на картинці, є пуловером."
      ],
      "metadata": {
        "id": "UbhtcKEcW9J8"
      }
    },
    {
      "cell_type": "markdown",
      "source": [
        "**Приклад №2**"
      ],
      "metadata": {
        "id": "muTg58ZPXsaL"
      }
    },
    {
      "cell_type": "code",
      "source": [
        "img2 = x_val[2]\n",
        "img2"
      ],
      "metadata": {
        "colab": {
          "base_uri": "https://localhost:8080/",
          "height": 69
        },
        "id": "mb0Luu8JDgIE",
        "outputId": "aefc846f-8fa1-4de5-a74f-8324977eda79"
      },
      "execution_count": 48,
      "outputs": [
        {
          "output_type": "execute_result",
          "data": {
            "text/plain": [
              "array([[  0,   0,   0,   0,   0,   0,   0,   0,   1,   0,  67, 177, 129,\n",
              "        153, 117, 129, 146, 141, 175,   0,   0,   0,   0,   0,   0,   0,\n",
              "          0,   0],\n",
              "       [  0,   0,   0,   0,   0,   0,   0,   0,   2,   0, 196, 255, 255,\n",
              "        255, 241, 251, 255, 245, 255,  76,   0,   0,   0,   0,   0,   0,\n",
              "          0,   0],\n",
              "       [  0,   0,   0,   0,   0,   0,   0,   0,   0,   0, 243, 237, 217,\n",
              "        228, 231, 222, 218, 219, 255, 116,   0,   0,   0,   0,   0,   0,\n",
              "          0,   0],\n",
              "       [  0,   0,   0,   0,   0,   0,   0,   0,   0,   0, 255, 235, 231,\n",
              "        233, 226, 225, 229, 222, 255, 145,   0,   0,   0,   0,   0,   0,\n",
              "          0,   0],\n",
              "       [  0,   0,   0,   0,   0,   0,   0,   0,   0,  23, 255, 230, 229,\n",
              "        233, 229, 225, 227, 221, 241, 167,   0,   0,   0,   0,   0,   0,\n",
              "          0,   0],\n",
              "       [  0,   0,   0,   0,   0,   0,   0,   0,   0,  67, 255, 225, 234,\n",
              "        231, 226, 227, 228, 224, 234, 187,   0,   0,   0,   0,   0,   0,\n",
              "          0,   0],\n",
              "       [  0,   0,   0,   0,   0,   0,   0,   0,   0, 114, 249, 217, 235,\n",
              "        238, 245, 227, 227, 225, 241, 176,   0,   0,   0,   0,   0,   0,\n",
              "          0,   0],\n",
              "       [  0,   0,   0,   0,   0,   0,   0,   0,   0, 167, 247, 227, 231,\n",
              "        250, 200, 248, 231, 224, 251, 147,   0,   0,   0,   0,   0,   0,\n",
              "          0,   0],\n",
              "       [  0,   0,   0,   0,   0,   0,   0,   0,   0, 208, 242, 225, 243,\n",
              "        225,   0, 255, 233, 226, 255, 129,   0,   0,   0,   0,   0,   0,\n",
              "          0,   0],\n",
              "       [  0,   0,   0,   0,   0,   0,   0,   0,   0, 223, 238, 223, 255,\n",
              "        161,   0, 255, 236, 223, 255, 135,   0,   0,   0,   0,   0,   0,\n",
              "          0,   0],\n",
              "       [  0,   0,   0,   0,   0,   0,   0,   0,   0, 245, 235, 222, 255,\n",
              "         72,   0, 248, 254, 217, 255, 145,   0,   0,   0,   0,   0,   0,\n",
              "          0,   0],\n",
              "       [  0,   0,   0,   0,   0,   0,   0,   0,   0, 255, 233, 226, 255,\n",
              "          7,   0, 191, 248, 220, 255, 126,   0,   0,   0,   0,   0,   0,\n",
              "          0,   0],\n",
              "       [  0,   0,   0,   0,   0,   0,   0,   0,   0, 255, 233, 231, 251,\n",
              "          0,   0, 159, 251, 221, 255, 111,   0,   0,   0,   0,   0,   0,\n",
              "          0,   0],\n",
              "       [  0,   0,   0,   0,   0,   0,   0,   0,   0, 255, 232, 236, 216,\n",
              "          0,   0, 131, 253, 220, 255, 111,   0,   0,   0,   0,   0,   0,\n",
              "          0,   0],\n",
              "       [  0,   0,   0,   0,   0,   0,   0,   0,   0, 255, 228, 243, 172,\n",
              "          0,   0,  57, 249, 222, 255, 111,   0,   0,   0,   0,   0,   0,\n",
              "          0,   0],\n",
              "       [  0,   0,   0,   0,   0,   0,   0,   0,   0, 255, 230, 244, 139,\n",
              "          0,   0,  10, 255, 227, 255, 100,   0,   0,   0,   0,   0,   0,\n",
              "          0,   0],\n",
              "       [  0,   0,   0,   0,   0,   0,   0,   0,   0, 227, 237, 242, 113,\n",
              "          0,   0,   6, 255, 230, 255,  89,   0,   0,   0,   0,   0,   0,\n",
              "          0,   0],\n",
              "       [  0,   0,   0,   0,   0,   0,   0,   0,   0, 204, 239, 245, 151,\n",
              "          0,   0,   0, 255, 227, 255,  99,   0,   0,   0,   0,   0,   0,\n",
              "          0,   0],\n",
              "       [  0,   0,   0,   0,   0,   0,   0,   0,   0, 151, 245, 238, 198,\n",
              "          0,   0,   0, 255, 234, 255,  92,   0,   0,   0,   0,   0,   0,\n",
              "          0,   0],\n",
              "       [  0,   0,   0,   0,   0,   0,   0,   0,   0,  89, 248, 233, 248,\n",
              "          0,   0,   0, 252, 237, 255,  90,   0,   0,   0,   0,   0,   0,\n",
              "          0,   0],\n",
              "       [  0,   0,   0,   0,   0,   0,   0,   0,   0,  31, 240, 229, 226,\n",
              "          0,   0,   0, 239, 238, 255,  92,   0,   0,   0,   0,   0,   0,\n",
              "          0,   0],\n",
              "       [  0,   0,   0,   0,   0,   0,   0,   0,   0,   0, 226, 233, 237,\n",
              "         34,   0,   0, 234, 238, 255,  95,   0,   0,   0,   0,   0,   0,\n",
              "          0,   0],\n",
              "       [  0,   0,   0,   0,   0,   0,   0,   0,   0,   0, 233, 236, 244,\n",
              "         68,   0,   0, 209, 241, 237,  98,   0,   0,   0,   0,   0,   0,\n",
              "          0,   0],\n",
              "       [  0,   0,   0,   0,   0,   0,   0,   0,   1,   0, 152, 242, 245,\n",
              "        128,   0,   0, 198, 241, 238,  81,   0,   0,   0,   0,   0,   0,\n",
              "          0,   0],\n",
              "       [  0,   0,   0,   0,   0,   0,   0,   0,   2,   0,  73, 246, 241,\n",
              "        211,   0,   0, 202, 240, 237,  74,   0,   0,   0,   0,   0,   0,\n",
              "          0,   0],\n",
              "       [  0,   0,   0,   0,   0,   0,   0,   0,   4,   0,   0, 229, 236,\n",
              "        209,   0,   0, 158, 247, 238,  99,   0,   0,   0,   0,   0,   0,\n",
              "          0,   0],\n",
              "       [  0,   0,   0,   0,   0,   0,   0,   0,   1,   0,   0, 199, 255,\n",
              "        247,  58,   0, 161, 255, 252, 119,   0,   0,   0,   0,   0,   0,\n",
              "          0,   0],\n",
              "       [  0,   0,   0,   0,   0,   0,   0,   0,   0,   0,   0,  98, 159,\n",
              "         71,   0,   0,  68, 176, 164,  58,   0,   0,   0,   0,   0,   0,\n",
              "          0,   0]], dtype=uint8)"
            ],
            "text/html": [
              "<style>\n",
              "      .ndarray_repr .ndarray_raw_data {\n",
              "        display: none;\n",
              "      }\n",
              "      .ndarray_repr.show_array .ndarray_raw_data {\n",
              "        display: block;\n",
              "      }\n",
              "      .ndarray_repr.show_array .ndarray_image_preview {\n",
              "        display: none;\n",
              "      }\n",
              "      </style>\n",
              "      <div id=\"id-c1145eb0-01fa-43e6-9613-65b90e093f90\" class=\"ndarray_repr\"><pre>ndarray (28, 28) <button style=\"padding: 0 2px;\">show data</button></pre><img src=\"data:image/png;base64,iVBORw0KGgoAAAANSUhEUgAAABwAAAAcCAAAAABXZoBIAAABTklEQVR4nG3SO0sDQRSG4XdmdrMSlwTvWtikEAUhIAgidrY24v/wD1laaCc2WioqsbBRtBAveIkmKJgQNeJmdmdsTCLOfuX3MDDncAS/EXZx9XT0JuzThWX+R3JkrW1o27RL3e43hmLt6vmrfF1h0kEITc7Xqlcx7uII2qAw9n3YxWm0bxIpVDToYrH1LYIBrAiaLs6abByeD3k2W25XXgentAmrc1ZKr+a+zMcm3AeVkHFxOLFsEPW3yLqYNR57HLcUbylLwI8j7pWgkYLWv4UnabvNH4yDC9iJZSpKcQdnGZ+UJTwFpgIxKg1fpJqAFknaKCeZqAgQELl4oPQMkCiMi6Xv+BX4EN2uiw/vXm8BNKiUUQIVFKCqai4KtjJiAZqIegpue/EKeNa6v5Xs1rWBi0CMOZjA48DEPKon1zmwzplYWLvcLLGe/zxsdz/tw3iGAtr0bAAAAABJRU5ErkJggg==\" class=\"ndarray_image_preview\" /><pre class=\"ndarray_raw_data\">array([[  0,   0,   0,   0,   0,   0,   0,   0,   1,   0,  67, 177, 129,\n",
              "        153, 117, 129, 146, 141, 175,   0,   0,   0,   0,   0,   0,   0,\n",
              "          0,   0],\n",
              "       [  0,   0,   0,   0,   0,   0,   0,   0,   2,   0, 196, 255, 255,\n",
              "        255, 241, 251, 255, 245, 255,  76,   0,   0,   0,   0,   0,   0,\n",
              "          0,   0],\n",
              "       [  0,   0,   0,   0,   0,   0,   0,   0,   0,   0, 243, 237, 217,\n",
              "        228, 231, 222, 218, 219, 255, 116,   0,   0,   0,   0,   0,   0,\n",
              "          0,   0],\n",
              "       [  0,   0,   0,   0,   0,   0,   0,   0,   0,   0, 255, 235, 231,\n",
              "        233, 226, 225, 229, 222, 255, 145,   0,   0,   0,   0,   0,   0,\n",
              "          0,   0],\n",
              "       [  0,   0,   0,   0,   0,   0,   0,   0,   0,  23, 255, 230, 229,\n",
              "        233, 229, 225, 227, 221, 241, 167,   0,   0,   0,   0,   0,   0,\n",
              "          0,   0],\n",
              "       [  0,   0,   0,   0,   0,   0,   0,   0,   0,  67, 255, 225, 234,\n",
              "        231, 226, 227, 228, 224, 234, 187,   0,   0,   0,   0,   0,   0,\n",
              "          0,   0],\n",
              "       [  0,   0,   0,   0,   0,   0,   0,   0,   0, 114, 249, 217, 235,\n",
              "        238, 245, 227, 227, 225, 241, 176,   0,   0,   0,   0,   0,   0,\n",
              "          0,   0],\n",
              "       [  0,   0,   0,   0,   0,   0,   0,   0,   0, 167, 247, 227, 231,\n",
              "        250, 200, 248, 231, 224, 251, 147,   0,   0,   0,   0,   0,   0,\n",
              "          0,   0],\n",
              "       [  0,   0,   0,   0,   0,   0,   0,   0,   0, 208, 242, 225, 243,\n",
              "        225,   0, 255, 233, 226, 255, 129,   0,   0,   0,   0,   0,   0,\n",
              "          0,   0],\n",
              "       [  0,   0,   0,   0,   0,   0,   0,   0,   0, 223, 238, 223, 255,\n",
              "        161,   0, 255, 236, 223, 255, 135,   0,   0,   0,   0,   0,   0,\n",
              "          0,   0],\n",
              "       [  0,   0,   0,   0,   0,   0,   0,   0,   0, 245, 235, 222, 255,\n",
              "         72,   0, 248, 254, 217, 255, 145,   0,   0,   0,   0,   0,   0,\n",
              "          0,   0],\n",
              "       [  0,   0,   0,   0,   0,   0,   0,   0,   0, 255, 233, 226, 255,\n",
              "          7,   0, 191, 248, 220, 255, 126,   0,   0,   0,   0,   0,   0,\n",
              "          0,   0],\n",
              "       [  0,   0,   0,   0,   0,   0,   0,   0,   0, 255, 233, 231, 251,\n",
              "          0,   0, 159, 251, 221, 255, 111,   0,   0,   0,   0,   0,   0,\n",
              "          0,   0],\n",
              "       [  0,   0,   0,   0,   0,   0,   0,   0,   0, 255, 232, 236, 216,\n",
              "          0,   0, 131, 253, 220, 255, 111,   0,   0,   0,   0,   0,   0,\n",
              "          0,   0],\n",
              "       [  0,   0,   0,   0,   0,   0,   0,   0,   0, 255, 228, 243, 172,\n",
              "          0,   0,  57, 249, 222, 255, 111,   0,   0,   0,   0,   0,   0,\n",
              "          0,   0],\n",
              "       [  0,   0,   0,   0,   0,   0,   0,   0,   0, 255, 230, 244, 139,\n",
              "          0,   0,  10, 255, 227, 255, 100,   0,   0,   0,   0,   0,   0,\n",
              "          0,   0],\n",
              "       [  0,   0,   0,   0,   0,   0,   0,   0,   0, 227, 237, 242, 113,\n",
              "          0,   0,   6, 255, 230, 255,  89,   0,   0,   0,   0,   0,   0,\n",
              "          0,   0],\n",
              "       [  0,   0,   0,   0,   0,   0,   0,   0,   0, 204, 239, 245, 151,\n",
              "          0,   0,   0, 255, 227, 255,  99,   0,   0,   0,   0,   0,   0,\n",
              "          0,   0],\n",
              "       [  0,   0,   0,   0,   0,   0,   0,   0,   0, 151, 245, 238, 198,\n",
              "          0,   0,   0, 255, 234, 255,  92,   0,   0,   0,   0,   0,   0,\n",
              "          0,   0],\n",
              "       [  0,   0,   0,   0,   0,   0,   0,   0,   0,  89, 248, 233, 248,\n",
              "          0,   0,   0, 252, 237, 255,  90,   0,   0,   0,   0,   0,   0,\n",
              "          0,   0],\n",
              "       [  0,   0,   0,   0,   0,   0,   0,   0,   0,  31, 240, 229, 226,\n",
              "          0,   0,   0, 239, 238, 255,  92,   0,   0,   0,   0,   0,   0,\n",
              "          0,   0],\n",
              "       [  0,   0,   0,   0,   0,   0,   0,   0,   0,   0, 226, 233, 237,\n",
              "         34,   0,   0, 234, 238, 255,  95,   0,   0,   0,   0,   0,   0,\n",
              "          0,   0],\n",
              "       [  0,   0,   0,   0,   0,   0,   0,   0,   0,   0, 233, 236, 244,\n",
              "         68,   0,   0, 209, 241, 237,  98,   0,   0,   0,   0,   0,   0,\n",
              "          0,   0],\n",
              "       [  0,   0,   0,   0,   0,   0,   0,   0,   1,   0, 152, 242, 245,\n",
              "        128,   0,   0, 198, 241, 238,  81,   0,   0,   0,   0,   0,   0,\n",
              "          0,   0],\n",
              "       [  0,   0,   0,   0,   0,   0,   0,   0,   2,   0,  73, 246, 241,\n",
              "        211,   0,   0, 202, 240, 237,  74,   0,   0,   0,   0,   0,   0,\n",
              "          0,   0],\n",
              "       [  0,   0,   0,   0,   0,   0,   0,   0,   4,   0,   0, 229, 236,\n",
              "        209,   0,   0, 158, 247, 238,  99,   0,   0,   0,   0,   0,   0,\n",
              "          0,   0],\n",
              "       [  0,   0,   0,   0,   0,   0,   0,   0,   1,   0,   0, 199, 255,\n",
              "        247,  58,   0, 161, 255, 252, 119,   0,   0,   0,   0,   0,   0,\n",
              "          0,   0],\n",
              "       [  0,   0,   0,   0,   0,   0,   0,   0,   0,   0,   0,  98, 159,\n",
              "         71,   0,   0,  68, 176, 164,  58,   0,   0,   0,   0,   0,   0,\n",
              "          0,   0]], dtype=uint8)</pre></div><script>\n",
              "      (() => {\n",
              "      const titles = ['show data', 'hide data'];\n",
              "      let index = 0\n",
              "      document.querySelector('#id-c1145eb0-01fa-43e6-9613-65b90e093f90 button').onclick = (e) => {\n",
              "        document.querySelector('#id-c1145eb0-01fa-43e6-9613-65b90e093f90').classList.toggle('show_array');\n",
              "        index = (++index) % 2;\n",
              "        document.querySelector('#id-c1145eb0-01fa-43e6-9613-65b90e093f90 button').textContent = titles[index];\n",
              "        e.preventDefault();\n",
              "        e.stopPropagation();\n",
              "      }\n",
              "      })();\n",
              "    </script>"
            ]
          },
          "metadata": {},
          "execution_count": 48
        }
      ]
    },
    {
      "cell_type": "code",
      "source": [
        "prediction2 = model.predict(x_val_float.reshape(-1, 28*28)[2:3])\n",
        "print(prediction2)"
      ],
      "metadata": {
        "colab": {
          "base_uri": "https://localhost:8080/"
        },
        "id": "BSVjOrX9VEVA",
        "outputId": "ede51927-954d-4bfa-badc-46947c69d417"
      },
      "execution_count": 49,
      "outputs": [
        {
          "output_type": "stream",
          "name": "stdout",
          "text": [
            "\u001b[1m1/1\u001b[0m \u001b[32m━━━━━━━━━━━━━━━━━━━━\u001b[0m\u001b[37m\u001b[0m \u001b[1m0s\u001b[0m 24ms/step\n",
            "[[4.5182727e-10 1.0000000e+00 7.3348723e-14 1.5930256e-08 2.2682888e-10\n",
            "  4.4047523e-17 1.7106184e-09 3.9186285e-15 8.8719164e-17 3.6053544e-17]]\n"
          ]
        }
      ]
    },
    {
      "cell_type": "markdown",
      "source": [
        "Отримали, що ця річ належить до категорії 1 (брюки) з ймовірністю `99.9%`. Це відповідає дійсності, бо річ, що зображена на картинці, є брюками."
      ],
      "metadata": {
        "id": "TQUG9FtKYv_m"
      }
    },
    {
      "cell_type": "markdown",
      "source": [
        "**Приклад №3**"
      ],
      "metadata": {
        "id": "aA0usyQ2Y_lm"
      }
    },
    {
      "cell_type": "code",
      "source": [
        "img3 = x_val[10]\n",
        "img3"
      ],
      "metadata": {
        "id": "0t1f8MuKUA_z",
        "colab": {
          "base_uri": "https://localhost:8080/",
          "height": 69
        },
        "outputId": "4d0de114-9d67-4e93-f4ed-202a668608d9"
      },
      "execution_count": 50,
      "outputs": [
        {
          "output_type": "execute_result",
          "data": {
            "text/plain": [
              "array([[  0,   0,   0,   0,   0,   0,   0,   0,   0,   0,   0, 145, 190,\n",
              "         97, 109, 105, 187,  76,   0,   0,   0,   2,   0,   0,   0,   0,\n",
              "          0,   0],\n",
              "       [  0,   0,   0,   0,   0,   0,   0,   0,   0,  64, 170, 163, 208,\n",
              "        243, 240, 229, 173, 162, 154,  18,   0,   0,   0,   0,   0,   0,\n",
              "          0,   0],\n",
              "       [  0,   0,   0,   0,   0,   0,   0,  39, 158, 196, 149, 191, 199,\n",
              "        223, 243, 186, 191, 170, 155, 162, 126,  22,   0,   0,   0,   0,\n",
              "          0,   0],\n",
              "       [  0,   0,   0,   0,   3,   0, 105, 161, 150, 141, 130, 199, 239,\n",
              "        229, 220, 188, 244, 145, 128, 142, 151, 175,  23,   0,   2,   0,\n",
              "          0,   0],\n",
              "       [  0,   0,   0,   0,   0,   0, 150, 137, 134, 130, 147, 121, 241,\n",
              "        255, 114, 240, 173, 142, 136, 132, 128, 153, 113,   0,   0,   0,\n",
              "          0,   0],\n",
              "       [  0,   0,   0,   0,   0,  17, 157, 129, 146, 149, 137, 141, 177,\n",
              "        200, 200, 207, 134, 145, 142, 140, 132, 129, 140,   3,   0,   0,\n",
              "          0,   0],\n",
              "       [  0,   0,   0,   0,   0,  50, 158, 137, 153, 150, 125, 155, 191,\n",
              "        175, 141, 165, 166, 153, 130, 129, 132, 141, 149,  18,   0,   0,\n",
              "          0,   0],\n",
              "       [  0,   0,   0,   0,   0,  77, 166, 161, 137, 151, 166, 181, 216,\n",
              "        182, 158, 215, 195, 155, 159, 162, 173, 150, 150,  58,   0,   0,\n",
              "          0,   0],\n",
              "       [  0,   0,   0,   0,   0, 104, 159, 170, 140, 132, 182, 198, 208,\n",
              "        175, 136, 174, 169, 147, 155, 121, 188, 162, 142, 101,   0,   0,\n",
              "          0,   0],\n",
              "       [  0,   0,   0,   0,   0, 112, 171, 206, 179, 147, 163, 177, 196,\n",
              "        192, 146, 187, 153, 142, 144, 136, 245, 202, 132, 137,   0,   0,\n",
              "          0,   0],\n",
              "       [  0,   0,   0,   0,   0, 126, 181, 219, 146, 157, 128, 121, 175,\n",
              "        196, 104, 157, 158, 151, 140, 103,  89, 221, 141, 153,   0,   0,\n",
              "          0,   0],\n",
              "       [  0,   0,   0,   0,   0, 157, 175, 216,  55, 175, 153, 151, 188,\n",
              "        214, 126, 204, 159, 145, 145, 116,  71, 212, 154, 155,   0,   0,\n",
              "          0,   0],\n",
              "       [  0,   0,   0,   0,   0, 183, 163, 232,  64, 138, 142, 182, 195,\n",
              "        200, 158, 231, 146, 130, 161, 132, 105, 225, 146, 157,  10,   0,\n",
              "          0,   0],\n",
              "       [  0,   0,   0,   0,   6, 188, 161, 221,  54, 149, 165, 151, 167,\n",
              "        188, 170, 181, 154, 141, 130, 144,  93, 207, 166, 142,  34,   0,\n",
              "          0,   0],\n",
              "       [  0,   0,   0,   0,  42, 182, 165, 236,  29, 146, 170, 141, 166,\n",
              "        208, 124, 162, 173, 154, 132, 140,  97, 194, 153, 161,  47,   0,\n",
              "          0,   0],\n",
              "       [  0,   0,   0,   0,  58, 175, 171, 191,   5, 173, 162, 154, 181,\n",
              "        207, 100, 161, 179, 155, 146, 149,  76, 192, 162, 150,  62,   0,\n",
              "          0,   0],\n",
              "       [  0,   0,   0,   0,  80, 179, 166, 167,  10, 182, 151, 157, 178,\n",
              "        184, 166, 208, 174, 138, 146, 140,  73, 186, 161, 155,  71,   0,\n",
              "          0,   0],\n",
              "       [  0,   0,   0,   0, 100, 165, 171, 138,  51, 194, 157, 133, 187,\n",
              "        196, 166, 198, 163, 129, 142, 134,  73, 191, 154, 155,  79,   0,\n",
              "          0,   0],\n",
              "       [  0,   0,   0,   0, 109, 158, 175, 118,  73, 179, 146, 149, 183,\n",
              "        207, 141, 184, 171, 153, 137, 147,  73, 195, 157, 154,  85,   0,\n",
              "          0,   0],\n",
              "       [  0,   0,   0,   0, 109, 163, 179, 122, 116, 177, 144, 165, 182,\n",
              "        190, 147, 179, 162, 146, 133, 153,  97, 161, 158, 150,  95,   0,\n",
              "          0,   0],\n",
              "       [  0,   0,   0,   0, 107, 158, 167, 163, 105, 137, 161, 163, 203,\n",
              "        199, 149, 181, 167, 161, 147, 147,  99, 166, 157, 141,  99,   0,\n",
              "          0,   0],\n",
              "       [  0,   0,   0,   0, 109, 154, 166, 145,   0,  34,  84,  63, 107,\n",
              "        149, 132, 153, 129, 124, 149,  56,   0, 114, 159, 141,  97,   0,\n",
              "          0,   0],\n",
              "       [  0,   0,   0,   0, 108, 154, 169,  85,   0,   0,   0,   0,   0,\n",
              "          0,   2,   9,   0,   0,   0,   0,   0,  93, 157, 142,  99,   0,\n",
              "          0,   0],\n",
              "       [  0,   0,   0,   0, 101, 153, 169,  80,   0,   3,   0,   1,   0,\n",
              "          0,   0,   0,   0,   0,   0,   1,   0,  80, 155, 144, 105,   0,\n",
              "          0,   0],\n",
              "       [  0,   0,   0,   0, 121, 157, 166,  76,   0,   3,   0,   0,   1,\n",
              "          0,   0,   0,   0,   0,   0,   3,   0,  67, 162, 141, 100,   0,\n",
              "          0,   0],\n",
              "       [  0,   0,   0,   0, 124, 153, 162,  51,   0,   3,   0,   0,   0,\n",
              "          0,   0,   1,   0,   1,   0,   5,   0,  58, 167, 146,  87,   0,\n",
              "          0,   0],\n",
              "       [  0,   0,   0,   0, 122, 165, 181,  54,   0,   5,   0,   0,   0,\n",
              "          0,   0,   0,   0,   0,   0,   5,   0,  54, 170, 140,  75,   0,\n",
              "          0,   0],\n",
              "       [  0,   0,   0,   0,  25,  75,  92,   3,   0,   1,   0,   0,   0,\n",
              "          0,   0,   0,   0,   0,   0,   3,   0,  29, 145, 137,  59,   0,\n",
              "          0,   0]], dtype=uint8)"
            ],
            "text/html": [
              "<style>\n",
              "      .ndarray_repr .ndarray_raw_data {\n",
              "        display: none;\n",
              "      }\n",
              "      .ndarray_repr.show_array .ndarray_raw_data {\n",
              "        display: block;\n",
              "      }\n",
              "      .ndarray_repr.show_array .ndarray_image_preview {\n",
              "        display: none;\n",
              "      }\n",
              "      </style>\n",
              "      <div id=\"id-dd869e32-8e1e-4c5d-a7a4-fbc5c8aa6230\" class=\"ndarray_repr\"><pre>ndarray (28, 28) <button style=\"padding: 0 2px;\">show data</button></pre><img src=\"data:image/png;base64,iVBORw0KGgoAAAANSUhEUgAAABwAAAAcCAAAAABXZoBIAAACNUlEQVR4nE3Sy27TQBQG4H/GHl8SO7ab0CaNSi9UtGmJKlWwYId4BBYsWLOBFwDxFt1wWbGoeAHEhh1IIMoCJEBqQUCrcrNbN2nS2LEdj20W1A6znE9n5hydn2B8NtqbGr+28QygKQCAFHTldtQ+l/hbfni3e3qV49Kd8x9WlHrtDXP78reHhwAACgACbt0L33aUZemAXrJ/HzUeTYHmmKDt9HzrKZ2+f/F5ogwPDm8gBSACACzZtQSv9mLq+t6XsiSGTlNI8krME0UmXqViv96eUzwfmmoUf6Kp1HukNd2QrfUZOjPfUsnyfxipQse0wuhw50/IdwwtXB2joi0uGR3Xs0p6L/aNy8vDxTFWSvpe6fuWK27/YCrfu1lVzTHOjpInE42z+sTkGhkxvRvodIzTnql+9Wflk7nmoG+aC3pISzlKLPWH5an9X572Xinva1631q/nuDgSDTthw6z2sVPVKRcHg6qeoxlJn5xmqBuZk0mkorqp6hs5Toqxw1RfSA6ursXHCJJRxtQcayfsZ0uTHFXD0A/4CCyCkqMaiUeTfd/kZftEqcc6RCGTilGYKK6mqZkdS3EQcam+S3gxShp7Lf+zlZ5RKWVGZURZFoj5PinPug8W1t0LK8eiEzc2t4z2eNkZhFfY3cVLUDkAADclRUyiDDEEECANABAMUlo0VBMTDiA7jSLFQE7iIn2c2/+eBwEBRcDYoOhWqwqnQ2XIAHBh5OUNPV633oEX2U9h20kPwF+B4OJ1nuRI+QAAAABJRU5ErkJggg==\" class=\"ndarray_image_preview\" /><pre class=\"ndarray_raw_data\">array([[  0,   0,   0,   0,   0,   0,   0,   0,   0,   0,   0, 145, 190,\n",
              "         97, 109, 105, 187,  76,   0,   0,   0,   2,   0,   0,   0,   0,\n",
              "          0,   0],\n",
              "       [  0,   0,   0,   0,   0,   0,   0,   0,   0,  64, 170, 163, 208,\n",
              "        243, 240, 229, 173, 162, 154,  18,   0,   0,   0,   0,   0,   0,\n",
              "          0,   0],\n",
              "       [  0,   0,   0,   0,   0,   0,   0,  39, 158, 196, 149, 191, 199,\n",
              "        223, 243, 186, 191, 170, 155, 162, 126,  22,   0,   0,   0,   0,\n",
              "          0,   0],\n",
              "       [  0,   0,   0,   0,   3,   0, 105, 161, 150, 141, 130, 199, 239,\n",
              "        229, 220, 188, 244, 145, 128, 142, 151, 175,  23,   0,   2,   0,\n",
              "          0,   0],\n",
              "       [  0,   0,   0,   0,   0,   0, 150, 137, 134, 130, 147, 121, 241,\n",
              "        255, 114, 240, 173, 142, 136, 132, 128, 153, 113,   0,   0,   0,\n",
              "          0,   0],\n",
              "       [  0,   0,   0,   0,   0,  17, 157, 129, 146, 149, 137, 141, 177,\n",
              "        200, 200, 207, 134, 145, 142, 140, 132, 129, 140,   3,   0,   0,\n",
              "          0,   0],\n",
              "       [  0,   0,   0,   0,   0,  50, 158, 137, 153, 150, 125, 155, 191,\n",
              "        175, 141, 165, 166, 153, 130, 129, 132, 141, 149,  18,   0,   0,\n",
              "          0,   0],\n",
              "       [  0,   0,   0,   0,   0,  77, 166, 161, 137, 151, 166, 181, 216,\n",
              "        182, 158, 215, 195, 155, 159, 162, 173, 150, 150,  58,   0,   0,\n",
              "          0,   0],\n",
              "       [  0,   0,   0,   0,   0, 104, 159, 170, 140, 132, 182, 198, 208,\n",
              "        175, 136, 174, 169, 147, 155, 121, 188, 162, 142, 101,   0,   0,\n",
              "          0,   0],\n",
              "       [  0,   0,   0,   0,   0, 112, 171, 206, 179, 147, 163, 177, 196,\n",
              "        192, 146, 187, 153, 142, 144, 136, 245, 202, 132, 137,   0,   0,\n",
              "          0,   0],\n",
              "       [  0,   0,   0,   0,   0, 126, 181, 219, 146, 157, 128, 121, 175,\n",
              "        196, 104, 157, 158, 151, 140, 103,  89, 221, 141, 153,   0,   0,\n",
              "          0,   0],\n",
              "       [  0,   0,   0,   0,   0, 157, 175, 216,  55, 175, 153, 151, 188,\n",
              "        214, 126, 204, 159, 145, 145, 116,  71, 212, 154, 155,   0,   0,\n",
              "          0,   0],\n",
              "       [  0,   0,   0,   0,   0, 183, 163, 232,  64, 138, 142, 182, 195,\n",
              "        200, 158, 231, 146, 130, 161, 132, 105, 225, 146, 157,  10,   0,\n",
              "          0,   0],\n",
              "       [  0,   0,   0,   0,   6, 188, 161, 221,  54, 149, 165, 151, 167,\n",
              "        188, 170, 181, 154, 141, 130, 144,  93, 207, 166, 142,  34,   0,\n",
              "          0,   0],\n",
              "       [  0,   0,   0,   0,  42, 182, 165, 236,  29, 146, 170, 141, 166,\n",
              "        208, 124, 162, 173, 154, 132, 140,  97, 194, 153, 161,  47,   0,\n",
              "          0,   0],\n",
              "       [  0,   0,   0,   0,  58, 175, 171, 191,   5, 173, 162, 154, 181,\n",
              "        207, 100, 161, 179, 155, 146, 149,  76, 192, 162, 150,  62,   0,\n",
              "          0,   0],\n",
              "       [  0,   0,   0,   0,  80, 179, 166, 167,  10, 182, 151, 157, 178,\n",
              "        184, 166, 208, 174, 138, 146, 140,  73, 186, 161, 155,  71,   0,\n",
              "          0,   0],\n",
              "       [  0,   0,   0,   0, 100, 165, 171, 138,  51, 194, 157, 133, 187,\n",
              "        196, 166, 198, 163, 129, 142, 134,  73, 191, 154, 155,  79,   0,\n",
              "          0,   0],\n",
              "       [  0,   0,   0,   0, 109, 158, 175, 118,  73, 179, 146, 149, 183,\n",
              "        207, 141, 184, 171, 153, 137, 147,  73, 195, 157, 154,  85,   0,\n",
              "          0,   0],\n",
              "       [  0,   0,   0,   0, 109, 163, 179, 122, 116, 177, 144, 165, 182,\n",
              "        190, 147, 179, 162, 146, 133, 153,  97, 161, 158, 150,  95,   0,\n",
              "          0,   0],\n",
              "       [  0,   0,   0,   0, 107, 158, 167, 163, 105, 137, 161, 163, 203,\n",
              "        199, 149, 181, 167, 161, 147, 147,  99, 166, 157, 141,  99,   0,\n",
              "          0,   0],\n",
              "       [  0,   0,   0,   0, 109, 154, 166, 145,   0,  34,  84,  63, 107,\n",
              "        149, 132, 153, 129, 124, 149,  56,   0, 114, 159, 141,  97,   0,\n",
              "          0,   0],\n",
              "       [  0,   0,   0,   0, 108, 154, 169,  85,   0,   0,   0,   0,   0,\n",
              "          0,   2,   9,   0,   0,   0,   0,   0,  93, 157, 142,  99,   0,\n",
              "          0,   0],\n",
              "       [  0,   0,   0,   0, 101, 153, 169,  80,   0,   3,   0,   1,   0,\n",
              "          0,   0,   0,   0,   0,   0,   1,   0,  80, 155, 144, 105,   0,\n",
              "          0,   0],\n",
              "       [  0,   0,   0,   0, 121, 157, 166,  76,   0,   3,   0,   0,   1,\n",
              "          0,   0,   0,   0,   0,   0,   3,   0,  67, 162, 141, 100,   0,\n",
              "          0,   0],\n",
              "       [  0,   0,   0,   0, 124, 153, 162,  51,   0,   3,   0,   0,   0,\n",
              "          0,   0,   1,   0,   1,   0,   5,   0,  58, 167, 146,  87,   0,\n",
              "          0,   0],\n",
              "       [  0,   0,   0,   0, 122, 165, 181,  54,   0,   5,   0,   0,   0,\n",
              "          0,   0,   0,   0,   0,   0,   5,   0,  54, 170, 140,  75,   0,\n",
              "          0,   0],\n",
              "       [  0,   0,   0,   0,  25,  75,  92,   3,   0,   1,   0,   0,   0,\n",
              "          0,   0,   0,   0,   0,   0,   3,   0,  29, 145, 137,  59,   0,\n",
              "          0,   0]], dtype=uint8)</pre></div><script>\n",
              "      (() => {\n",
              "      const titles = ['show data', 'hide data'];\n",
              "      let index = 0\n",
              "      document.querySelector('#id-dd869e32-8e1e-4c5d-a7a4-fbc5c8aa6230 button').onclick = (e) => {\n",
              "        document.querySelector('#id-dd869e32-8e1e-4c5d-a7a4-fbc5c8aa6230').classList.toggle('show_array');\n",
              "        index = (++index) % 2;\n",
              "        document.querySelector('#id-dd869e32-8e1e-4c5d-a7a4-fbc5c8aa6230 button').textContent = titles[index];\n",
              "        e.preventDefault();\n",
              "        e.stopPropagation();\n",
              "      }\n",
              "      })();\n",
              "    </script>"
            ]
          },
          "metadata": {},
          "execution_count": 50
        }
      ]
    },
    {
      "cell_type": "code",
      "source": [
        "prediction3 = model.predict(x_val_float.reshape(-1, 28*28)[10:11])\n",
        "print(prediction3)"
      ],
      "metadata": {
        "colab": {
          "base_uri": "https://localhost:8080/"
        },
        "id": "hm-0IX2TZFe9",
        "outputId": "adee09d3-2a3e-4814-ebbc-c0187fb9ff04"
      },
      "execution_count": 51,
      "outputs": [
        {
          "output_type": "stream",
          "name": "stdout",
          "text": [
            "\u001b[1m1/1\u001b[0m \u001b[32m━━━━━━━━━━━━━━━━━━━━\u001b[0m\u001b[37m\u001b[0m \u001b[1m0s\u001b[0m 21ms/step\n",
            "[[3.3148459e-05 7.0027031e-06 1.5823666e-02 8.0435717e-07 9.7216570e-01\n",
            "  4.3759633e-07 1.1968223e-02 9.2737125e-08 6.0377893e-08 8.5606467e-07]]\n"
          ]
        }
      ]
    },
    {
      "cell_type": "markdown",
      "source": [
        "Отримали, що ця річ належить до категорії 4 (пальто) з ймовірністю `95.77%`. Це відповідає дійсності, бо річ, що зображена на картинці, є пальто."
      ],
      "metadata": {
        "id": "0aRNP47BZKJ1"
      }
    },
    {
      "cell_type": "code",
      "source": [],
      "metadata": {
        "id": "jTHB7QzDgSx3"
      },
      "execution_count": 51,
      "outputs": []
    }
  ]
}